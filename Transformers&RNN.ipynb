{
  "cells": [
    {
      "cell_type": "code",
      "execution_count": null,
      "metadata": {
        "id": "tVSOWmQop00c",
        "colab": {
          "base_uri": "https://localhost:8080/"
        },
        "outputId": "f66fe73f-b2ed-4d82-b033-66a22b010b3b"
      },
      "outputs": [
        {
          "output_type": "stream",
          "name": "stdout",
          "text": [
            "Mounted at /content/drive\n"
          ]
        }
      ],
      "source": [
        "from google.colab import drive\n",
        "drive.mount('/content/drive')"
      ]
    },
    {
      "cell_type": "code",
      "execution_count": null,
      "metadata": {
        "id": "99p4KZjbyVl9"
      },
      "outputs": [],
      "source": [
        "from pandas import read_csv"
      ]
    },
    {
      "cell_type": "markdown",
      "metadata": {
        "id": "_r5aUdBTuIZR"
      },
      "source": [
        "# Important One-time installations"
      ]
    },
    {
      "cell_type": "code",
      "execution_count": null,
      "metadata": {
        "colab": {
          "base_uri": "https://localhost:8080/"
        },
        "id": "yFUmZbQpN0Xi",
        "outputId": "9a4ebde7-5100-43a2-8885-630ac084279d"
      },
      "outputs": [
        {
          "output_type": "stream",
          "name": "stdout",
          "text": [
            "\u001b[2K     \u001b[90m━━━━━━━━━━━━━━━━━━━━━━━━━━━━━━━━━━━━━━━━\u001b[0m \u001b[32m5.8/5.8 MB\u001b[0m \u001b[31m15.4 MB/s\u001b[0m eta \u001b[36m0:00:00\u001b[0m\n",
            "\u001b[2K     \u001b[90m━━━━━━━━━━━━━━━━━━━━━━━━━━━━━━━━━━━━━━━━\u001b[0m \u001b[32m7.6/7.6 MB\u001b[0m \u001b[31m35.3 MB/s\u001b[0m eta \u001b[36m0:00:00\u001b[0m\n",
            "\u001b[2K     \u001b[90m━━━━━━━━━━━━━━━━━━━━━━━━━━━━━━━━━━━━━━\u001b[0m \u001b[32m182.4/182.4 KB\u001b[0m \u001b[31m11.9 MB/s\u001b[0m eta \u001b[36m0:00:00\u001b[0m\n",
            "\u001b[?25h"
          ]
        }
      ],
      "source": [
        "!pip install -q transformers"
      ]
    },
    {
      "cell_type": "code",
      "execution_count": null,
      "metadata": {
        "colab": {
          "base_uri": "https://localhost:8080/"
        },
        "id": "VsSfX22YN27K",
        "outputId": "fcd3f69b-7df3-448c-bc8d-67a34f575da2"
      },
      "outputs": [
        {
          "output_type": "stream",
          "name": "stdout",
          "text": [
            "\u001b[2K     \u001b[90m━━━━━━━━━━━━━━━━━━━━━━━━━━━━━━━━━━━━━━━━\u001b[0m \u001b[32m2.3/2.3 MB\u001b[0m \u001b[31m28.3 MB/s\u001b[0m eta \u001b[36m0:00:00\u001b[0m\n",
            "\u001b[2K     \u001b[90m━━━━━━━━━━━━━━━━━━━━━━━━━━━━━━━━━━━━━━━━\u001b[0m \u001b[32m1.1/1.1 MB\u001b[0m \u001b[31m47.3 MB/s\u001b[0m eta \u001b[36m0:00:00\u001b[0m\n",
            "\u001b[2K     \u001b[90m━━━━━━━━━━━━━━━━━━━━━━━━━━━━━━━━━━━━━━\u001b[0m \u001b[32m238.9/238.9 KB\u001b[0m \u001b[31m17.8 MB/s\u001b[0m eta \u001b[36m0:00:00\u001b[0m\n",
            "\u001b[2K     \u001b[90m━━━━━━━━━━━━━━━━━━━━━━━━━━━━━━━━━━━━━━━━\u001b[0m \u001b[32m5.8/5.8 MB\u001b[0m \u001b[31m69.5 MB/s\u001b[0m eta \u001b[36m0:00:00\u001b[0m\n",
            "\u001b[2K     \u001b[90m━━━━━━━━━━━━━━━━━━━━━━━━━━━━━━━━━━━━━━\u001b[0m \u001b[32m662.4/662.4 KB\u001b[0m \u001b[31m39.7 MB/s\u001b[0m eta \u001b[36m0:00:00\u001b[0m\n",
            "\u001b[2K     \u001b[90m━━━━━━━━━━━━━━━━━━━━━━━━━━━━━━━━━━━━━━━━\u001b[0m \u001b[32m1.3/1.3 MB\u001b[0m \u001b[31m53.1 MB/s\u001b[0m eta \u001b[36m0:00:00\u001b[0m\n",
            "\u001b[2K     \u001b[90m━━━━━━━━━━━━━━━━━━━━━━━━━━━━━━━━━━━━━━━━\u001b[0m \u001b[32m43.6/43.6 KB\u001b[0m \u001b[31m3.5 MB/s\u001b[0m eta \u001b[36m0:00:00\u001b[0m\n",
            "\u001b[?25h  Preparing metadata (setup.py) ... \u001b[?25l\u001b[?25hdone\n",
            "\u001b[2K     \u001b[90m━━━━━━━━━━━━━━━━━━━━━━━━━━━━━━━━━━━━━━━\u001b[0m \u001b[32m352.1/352.1 KB\u001b[0m \u001b[31m9.3 MB/s\u001b[0m eta \u001b[36m0:00:00\u001b[0m\n",
            "\u001b[2K     \u001b[90m━━━━━━━━━━━━━━━━━━━━━━━━━━━━━━━━━━━━━━━\u001b[0m \u001b[32m588.3/588.3 MB\u001b[0m \u001b[31m1.8 MB/s\u001b[0m eta \u001b[36m0:00:00\u001b[0m\n",
            "\u001b[2K     \u001b[90m━━━━━━━━━━━━━━━━━━━━━━━━━━━━━━━━━━━━━━\u001b[0m \u001b[32m118.9/118.9 KB\u001b[0m \u001b[31m10.5 MB/s\u001b[0m eta \u001b[36m0:00:00\u001b[0m\n",
            "\u001b[2K     \u001b[90m━━━━━━━━━━━━━━━━━━━━━━━━━━━━━━━━━━━━━━━━\u001b[0m \u001b[32m6.0/6.0 MB\u001b[0m \u001b[31m46.7 MB/s\u001b[0m eta \u001b[36m0:00:00\u001b[0m\n",
            "\u001b[2K     \u001b[90m━━━━━━━━━━━━━━━━━━━━━━━━━━━━━━━━━━━━━━━━\u001b[0m \u001b[32m1.7/1.7 MB\u001b[0m \u001b[31m35.1 MB/s\u001b[0m eta \u001b[36m0:00:00\u001b[0m\n",
            "\u001b[2K     \u001b[90m━━━━━━━━━━━━━━━━━━━━━━━━━━━━━━━━━━━━━━\u001b[0m \u001b[32m439.2/439.2 KB\u001b[0m \u001b[31m22.0 MB/s\u001b[0m eta \u001b[36m0:00:00\u001b[0m\n",
            "\u001b[?25h  Building wheel for seqeval (setup.py) ... \u001b[?25l\u001b[?25hdone\n"
          ]
        }
      ],
      "source": [
        "!pip install -q tf-models-official"
      ]
    },
    {
      "cell_type": "code",
      "execution_count": null,
      "metadata": {
        "id": "Aqoa-XdN7Qav"
      },
      "outputs": [],
      "source": [
        "!pip install -q livelossplot"
      ]
    },
    {
      "cell_type": "code",
      "execution_count": null,
      "metadata": {
        "colab": {
          "base_uri": "https://localhost:8080/"
        },
        "id": "v7-NmLuQxuNn",
        "outputId": "862af11a-81b8-4cb4-d2a1-d60e2e709114"
      },
      "outputs": [
        {
          "output_type": "stream",
          "name": "stdout",
          "text": [
            "\u001b[2K     \u001b[90m━━━━━━━━━━━━━━━━━━━━━━━━━━━━━━━━━━━━━━━━\u001b[0m \u001b[32m4.6/4.6 MB\u001b[0m \u001b[31m49.6 MB/s\u001b[0m eta \u001b[36m0:00:00\u001b[0m\n",
            "\u001b[2K     \u001b[90m━━━━━━━━━━━━━━━━━━━━━━━━━━━━━━━━━━━━━━━\u001b[0m \u001b[32m511.8/511.8 MB\u001b[0m \u001b[31m2.3 MB/s\u001b[0m eta \u001b[36m0:00:00\u001b[0m\n",
            "\u001b[2K     \u001b[90m━━━━━━━━━━━━━━━━━━━━━━━━━━━━━━━━━━━━━━━━\u001b[0m \u001b[32m5.8/5.8 MB\u001b[0m \u001b[31m39.8 MB/s\u001b[0m eta \u001b[36m0:00:00\u001b[0m\n",
            "\u001b[2K     \u001b[90m━━━━━━━━━━━━━━━━━━━━━━━━━━━━━━━━━━━━━━━━\u001b[0m \u001b[32m1.6/1.6 MB\u001b[0m \u001b[31m11.2 MB/s\u001b[0m eta \u001b[36m0:00:00\u001b[0m\n",
            "\u001b[2K     \u001b[90m━━━━━━━━━━━━━━━━━━━━━━━━━━━━━━━━━━━━━━\u001b[0m \u001b[32m438.7/438.7 KB\u001b[0m \u001b[31m12.0 MB/s\u001b[0m eta \u001b[36m0:00:00\u001b[0m\n",
            "\u001b[?25h\u001b[31mERROR: pip's dependency resolver does not currently take into account all the packages that are installed. This behaviour is the source of the following dependency conflicts.\n",
            "tf-models-official 2.11.2 requires tensorflow~=2.11.0, but you have tensorflow 2.9.3 which is incompatible.\n",
            "tf-models-official 2.11.2 requires tensorflow-text~=2.11.0, but you have tensorflow-text 2.9.0 which is incompatible.\u001b[0m\u001b[31m\n",
            "\u001b[2K     \u001b[90m━━━━━━━━━━━━━━━━━━━━━━━━━━━━━━━━━━━━━━━\u001b[0m \u001b[32m511.7/511.7 MB\u001b[0m \u001b[31m2.7 MB/s\u001b[0m eta \u001b[36m0:00:00\u001b[0m\n",
            "\u001b[?25h\u001b[31mERROR: pip's dependency resolver does not currently take into account all the packages that are installed. This behaviour is the source of the following dependency conflicts.\n",
            "tf-models-official 2.11.2 requires tensorflow~=2.11.0, but you have tensorflow 2.9.0 which is incompatible.\n",
            "tf-models-official 2.11.2 requires tensorflow-text~=2.11.0, but you have tensorflow-text 2.9.0 which is incompatible.\u001b[0m\u001b[31m\n",
            "\u001b[0m"
          ]
        }
      ],
      "source": [
        "!pip install -q -U tensorflow-text==2.9\n",
        "!pip install -q -U tensorflow==2.9\n",
        "# Must be downloaded together!!!!"
      ]
    },
    {
      "cell_type": "code",
      "execution_count": null,
      "metadata": {
        "id": "REtTUBclg-IS"
      },
      "outputs": [],
      "source": [
        "!gdown 1h15s6u5vsJr7QTOAWSDPMCZmvpXBRq2Y"
      ]
    },
    {
      "cell_type": "markdown",
      "metadata": {
        "id": "0Bml30p1uS3w"
      },
      "source": [
        "# **Reading Data**"
      ]
    },
    {
      "cell_type": "code",
      "execution_count": null,
      "metadata": {
        "id": "2D4P-2cTxmTm",
        "colab": {
          "base_uri": "https://localhost:8080/",
          "height": 36
        },
        "outputId": "6b3b6c97-6bcf-4006-d7e5-57a6107ab1b4"
      },
      "outputs": [
        {
          "output_type": "execute_result",
          "data": {
            "text/plain": [
              "'from pandas import get_dummies\\nfrom pandas import read_csv'"
            ],
            "application/vnd.google.colaboratory.intrinsic+json": {
              "type": "string"
            }
          },
          "metadata": {},
          "execution_count": 8
        }
      ],
      "source": [
        "from pandas import get_dummies\n",
        "from pandas import read_csv"
      ]
    },
    {
      "cell_type": "code",
      "execution_count": null,
      "metadata": {
        "id": "z3WdtdmRsvPe"
      },
      "outputs": [],
      "source": [
        "data = read_csv(\"/content/Movie_Reviews.csv\", engine=\"python\") #engine = python changes engine used to read the file, python is more featured but not that rapid, solves error caused by c engine"
      ]
    },
    {
      "cell_type": "code",
      "execution_count": null,
      "metadata": {
        "id": "7_sIhHXwKaU8"
      },
      "outputs": [],
      "source": [
        "data.head(5)"
      ]
    },
    {
      "cell_type": "code",
      "execution_count": null,
      "metadata": {
        "colab": {
          "base_uri": "https://localhost:8080/",
          "height": 36
        },
        "id": "5kTxhSJ92n7f",
        "outputId": "09a430f6-72c7-4283-a9d0-4d7551d37493"
      },
      "outputs": [
        {
          "output_type": "execute_result",
          "data": {
            "text/plain": [
              "\"print('Shape of the dataset', data.shape)\\nprint('Missing values')\\nprint(data.isnull().sum())\""
            ],
            "application/vnd.google.colaboratory.intrinsic+json": {
              "type": "string"
            }
          },
          "metadata": {},
          "execution_count": 11
        }
      ],
      "source": [
        "print('Shape of the dataset', data.shape)\n",
        "print('Missing values')\n",
        "print(data.isnull().sum())"
      ]
    },
    {
      "cell_type": "code",
      "execution_count": null,
      "metadata": {
        "id": "waDB9PQ-BquL"
      },
      "outputs": [],
      "source": [
        "data['sentiment'] = get_dummies(data['sentiment'],drop_first=True)['positive'] #change the positive with ones and negative with zeros to make our data binary"
      ]
    },
    {
      "cell_type": "code",
      "execution_count": null,
      "metadata": {
        "id": "KyEmKYYpBa0W"
      },
      "outputs": [],
      "source": [
        "data.head(5)"
      ]
    },
    {
      "cell_type": "markdown",
      "source": [
        "Optional, You can diminish the data"
      ],
      "metadata": {
        "id": "SO4f-Rw9FlFR"
      }
    },
    {
      "cell_type": "code",
      "execution_count": null,
      "metadata": {
        "id": "3pR30JnbPVhq"
      },
      "outputs": [],
      "source": [
        "#from sklearn.model_selection import train_test_split"
      ]
    },
    {
      "cell_type": "code",
      "execution_count": null,
      "metadata": {
        "id": "QZ-GOBAQPauS"
      },
      "outputs": [],
      "source": [
        "#data, _= train_test_split(data, train_size = 0.2, random_state = 42,shuffle= True ) # split data randomly to get 20% of it, just to decrease ETA, but completely opitional"
      ]
    },
    {
      "cell_type": "code",
      "execution_count": null,
      "metadata": {
        "id": "Ljgy_s6TCLRB"
      },
      "outputs": [],
      "source": [
        "data['sentiment'].value_counts()"
      ]
    },
    {
      "cell_type": "code",
      "execution_count": null,
      "metadata": {
        "id": "NbRkgVnYDMev"
      },
      "outputs": [],
      "source": [
        "#data.shape"
      ]
    },
    {
      "cell_type": "markdown",
      "source": [
        "To save data locally/online"
      ],
      "metadata": {
        "id": "MUdqObWKFqG4"
      }
    },
    {
      "cell_type": "code",
      "execution_count": null,
      "metadata": {
        "id": "BOyl595nGeAl"
      },
      "outputs": [],
      "source": [
        "#data.to_csv('/content/drive/MyDrive/p/dim_data.csv')"
      ]
    },
    {
      "cell_type": "code",
      "execution_count": null,
      "metadata": {
        "id": "Uejk97OJ7_G3"
      },
      "outputs": [],
      "source": [
        "#data= read_csv('/content/drive/MyDrive/p/dim_data.csv')"
      ]
    },
    {
      "cell_type": "code",
      "execution_count": null,
      "metadata": {
        "id": "-AwBEw0PKxlc"
      },
      "outputs": [],
      "source": [
        "#data"
      ]
    },
    {
      "cell_type": "code",
      "execution_count": null,
      "metadata": {
        "id": "PmsJVivUOlF5"
      },
      "outputs": [],
      "source": [
        "#data = data.drop(['Unnamed: 0'], axis=1) #return number of indices as column, so we drop them everytime"
      ]
    },
    {
      "cell_type": "code",
      "execution_count": null,
      "metadata": {
        "colab": {
          "base_uri": "https://localhost:8080/",
          "height": 424
        },
        "id": "zJkIojkvMObt",
        "outputId": "ebbb58cd-e28c-40d2-8d46-4970d58cf342"
      },
      "outputs": [
        {
          "output_type": "execute_result",
          "data": {
            "text/plain": [
              "                                                 review  sentiment\n",
              "0     Warning: This review contains a spoiler.<br />...          0\n",
              "1     In order to stop her homosexual friend Albert ...          1\n",
              "2     Wow this was a great Italian \"ZOMBIE\" movie by...          1\n",
              "3     Making a film based on a true story, particula...          0\n",
              "4     Bettie Page was a icon of the repressed 1950s,...          1\n",
              "...                                                 ...        ...\n",
              "9995  `Shadow Magic' recaptures the joy and amazemen...          1\n",
              "9996  I found this movie to be quite enjoyable and f...          1\n",
              "9997  Avoid this one! It is a terrible movie. So wha...          0\n",
              "9998  This production was quite a surprise for me. I...          1\n",
              "9999  This is a decent movie. Although little bit sh...          1\n",
              "\n",
              "[10000 rows x 2 columns]"
            ],
            "text/html": [
              "\n",
              "  <div id=\"df-301c3ba9-7316-4b00-818a-937f39b800a6\">\n",
              "    <div class=\"colab-df-container\">\n",
              "      <div>\n",
              "<style scoped>\n",
              "    .dataframe tbody tr th:only-of-type {\n",
              "        vertical-align: middle;\n",
              "    }\n",
              "\n",
              "    .dataframe tbody tr th {\n",
              "        vertical-align: top;\n",
              "    }\n",
              "\n",
              "    .dataframe thead th {\n",
              "        text-align: right;\n",
              "    }\n",
              "</style>\n",
              "<table border=\"1\" class=\"dataframe\">\n",
              "  <thead>\n",
              "    <tr style=\"text-align: right;\">\n",
              "      <th></th>\n",
              "      <th>review</th>\n",
              "      <th>sentiment</th>\n",
              "    </tr>\n",
              "  </thead>\n",
              "  <tbody>\n",
              "    <tr>\n",
              "      <th>0</th>\n",
              "      <td>Warning: This review contains a spoiler.&lt;br /&gt;...</td>\n",
              "      <td>0</td>\n",
              "    </tr>\n",
              "    <tr>\n",
              "      <th>1</th>\n",
              "      <td>In order to stop her homosexual friend Albert ...</td>\n",
              "      <td>1</td>\n",
              "    </tr>\n",
              "    <tr>\n",
              "      <th>2</th>\n",
              "      <td>Wow this was a great Italian \"ZOMBIE\" movie by...</td>\n",
              "      <td>1</td>\n",
              "    </tr>\n",
              "    <tr>\n",
              "      <th>3</th>\n",
              "      <td>Making a film based on a true story, particula...</td>\n",
              "      <td>0</td>\n",
              "    </tr>\n",
              "    <tr>\n",
              "      <th>4</th>\n",
              "      <td>Bettie Page was a icon of the repressed 1950s,...</td>\n",
              "      <td>1</td>\n",
              "    </tr>\n",
              "    <tr>\n",
              "      <th>...</th>\n",
              "      <td>...</td>\n",
              "      <td>...</td>\n",
              "    </tr>\n",
              "    <tr>\n",
              "      <th>9995</th>\n",
              "      <td>`Shadow Magic' recaptures the joy and amazemen...</td>\n",
              "      <td>1</td>\n",
              "    </tr>\n",
              "    <tr>\n",
              "      <th>9996</th>\n",
              "      <td>I found this movie to be quite enjoyable and f...</td>\n",
              "      <td>1</td>\n",
              "    </tr>\n",
              "    <tr>\n",
              "      <th>9997</th>\n",
              "      <td>Avoid this one! It is a terrible movie. So wha...</td>\n",
              "      <td>0</td>\n",
              "    </tr>\n",
              "    <tr>\n",
              "      <th>9998</th>\n",
              "      <td>This production was quite a surprise for me. I...</td>\n",
              "      <td>1</td>\n",
              "    </tr>\n",
              "    <tr>\n",
              "      <th>9999</th>\n",
              "      <td>This is a decent movie. Although little bit sh...</td>\n",
              "      <td>1</td>\n",
              "    </tr>\n",
              "  </tbody>\n",
              "</table>\n",
              "<p>10000 rows × 2 columns</p>\n",
              "</div>\n",
              "      <button class=\"colab-df-convert\" onclick=\"convertToInteractive('df-301c3ba9-7316-4b00-818a-937f39b800a6')\"\n",
              "              title=\"Convert this dataframe to an interactive table.\"\n",
              "              style=\"display:none;\">\n",
              "        \n",
              "  <svg xmlns=\"http://www.w3.org/2000/svg\" height=\"24px\"viewBox=\"0 0 24 24\"\n",
              "       width=\"24px\">\n",
              "    <path d=\"M0 0h24v24H0V0z\" fill=\"none\"/>\n",
              "    <path d=\"M18.56 5.44l.94 2.06.94-2.06 2.06-.94-2.06-.94-.94-2.06-.94 2.06-2.06.94zm-11 1L8.5 8.5l.94-2.06 2.06-.94-2.06-.94L8.5 2.5l-.94 2.06-2.06.94zm10 10l.94 2.06.94-2.06 2.06-.94-2.06-.94-.94-2.06-.94 2.06-2.06.94z\"/><path d=\"M17.41 7.96l-1.37-1.37c-.4-.4-.92-.59-1.43-.59-.52 0-1.04.2-1.43.59L10.3 9.45l-7.72 7.72c-.78.78-.78 2.05 0 2.83L4 21.41c.39.39.9.59 1.41.59.51 0 1.02-.2 1.41-.59l7.78-7.78 2.81-2.81c.8-.78.8-2.07 0-2.86zM5.41 20L4 18.59l7.72-7.72 1.47 1.35L5.41 20z\"/>\n",
              "  </svg>\n",
              "      </button>\n",
              "      \n",
              "  <style>\n",
              "    .colab-df-container {\n",
              "      display:flex;\n",
              "      flex-wrap:wrap;\n",
              "      gap: 12px;\n",
              "    }\n",
              "\n",
              "    .colab-df-convert {\n",
              "      background-color: #E8F0FE;\n",
              "      border: none;\n",
              "      border-radius: 50%;\n",
              "      cursor: pointer;\n",
              "      display: none;\n",
              "      fill: #1967D2;\n",
              "      height: 32px;\n",
              "      padding: 0 0 0 0;\n",
              "      width: 32px;\n",
              "    }\n",
              "\n",
              "    .colab-df-convert:hover {\n",
              "      background-color: #E2EBFA;\n",
              "      box-shadow: 0px 1px 2px rgba(60, 64, 67, 0.3), 0px 1px 3px 1px rgba(60, 64, 67, 0.15);\n",
              "      fill: #174EA6;\n",
              "    }\n",
              "\n",
              "    [theme=dark] .colab-df-convert {\n",
              "      background-color: #3B4455;\n",
              "      fill: #D2E3FC;\n",
              "    }\n",
              "\n",
              "    [theme=dark] .colab-df-convert:hover {\n",
              "      background-color: #434B5C;\n",
              "      box-shadow: 0px 1px 3px 1px rgba(0, 0, 0, 0.15);\n",
              "      filter: drop-shadow(0px 1px 2px rgba(0, 0, 0, 0.3));\n",
              "      fill: #FFFFFF;\n",
              "    }\n",
              "  </style>\n",
              "\n",
              "      <script>\n",
              "        const buttonEl =\n",
              "          document.querySelector('#df-301c3ba9-7316-4b00-818a-937f39b800a6 button.colab-df-convert');\n",
              "        buttonEl.style.display =\n",
              "          google.colab.kernel.accessAllowed ? 'block' : 'none';\n",
              "\n",
              "        async function convertToInteractive(key) {\n",
              "          const element = document.querySelector('#df-301c3ba9-7316-4b00-818a-937f39b800a6');\n",
              "          const dataTable =\n",
              "            await google.colab.kernel.invokeFunction('convertToInteractive',\n",
              "                                                     [key], {});\n",
              "          if (!dataTable) return;\n",
              "\n",
              "          const docLinkHtml = 'Like what you see? Visit the ' +\n",
              "            '<a target=\"_blank\" href=https://colab.research.google.com/notebooks/data_table.ipynb>data table notebook</a>'\n",
              "            + ' to learn more about interactive tables.';\n",
              "          element.innerHTML = '';\n",
              "          dataTable['output_type'] = 'display_data';\n",
              "          await google.colab.output.renderOutput(dataTable, element);\n",
              "          const docLink = document.createElement('div');\n",
              "          docLink.innerHTML = docLinkHtml;\n",
              "          element.appendChild(docLink);\n",
              "        }\n",
              "      </script>\n",
              "    </div>\n",
              "  </div>\n",
              "  "
            ]
          },
          "metadata": {},
          "execution_count": 9
        }
      ],
      "source": [
        "#data\n"
      ]
    },
    {
      "cell_type": "markdown",
      "metadata": {
        "id": "eaujdiB2zUZ5"
      },
      "source": [
        "# **Pre-Process**"
      ]
    },
    {
      "cell_type": "code",
      "execution_count": null,
      "metadata": {
        "colab": {
          "base_uri": "https://localhost:8080/"
        },
        "id": "Q_u0VKhqzX5-",
        "outputId": "05f862d0-f1de-4202-9257-927249ec46a9"
      },
      "outputs": [
        {
          "output_type": "execute_result",
          "data": {
            "text/plain": [
              "'import nltk\\nimport string\\nfrom nltk.corpus import stopwords\\nfrom nltk.stem import WordNetLemmatizr\\nimport re'"
            ],
            "application/vnd.google.colaboratory.intrinsic+json": {
              "type": "string"
            }
          },
          "metadata": {},
          "execution_count": 23
        }
      ],
      "source": [
        "import nltk\n",
        "import string\n",
        "from nltk.corpus import stopwords\n",
        "from nltk.stem import WordNetLemmatizr\n",
        "import re"
      ]
    },
    {
      "cell_type": "code",
      "execution_count": null,
      "metadata": {
        "colab": {
          "base_uri": "https://localhost:8080/"
        },
        "id": "QcdXzMO_0-OD",
        "outputId": "e9635e32-bfcc-4002-ae1f-bb753059bff8"
      },
      "outputs": [
        {
          "output_type": "execute_result",
          "data": {
            "text/plain": [
              "\"nltk.download('punkt')\\nnltk.download('stopwords')\\nnltk.download('wordnet')\\nnltk.download('omw-1.4')\""
            ],
            "application/vnd.google.colaboratory.intrinsic+json": {
              "type": "string"
            }
          },
          "metadata": {},
          "execution_count": 24
        }
      ],
      "source": [
        "nltk.download('punkt')\n",
        "nltk.download('stopwords')\n",
        "nltk.download('wordnet')\n",
        "nltk.download('omw-1.4')"
      ]
    },
    {
      "cell_type": "code",
      "execution_count": null,
      "metadata": {
        "colab": {
          "base_uri": "https://localhost:8080/"
        },
        "id": "JoSpJKBg6Nfr",
        "outputId": "b0a867e7-133d-4fcf-df28-8ac7ae282ff0"
      },
      "outputs": [
        {
          "output_type": "execute_result",
          "data": {
            "text/plain": [
              "\"lemmatizer = WordNetLemmatizer()\\nCLEANR = re.compile('<.*?>') \\nstop_words = set(stopwords.words('english'))\""
            ],
            "application/vnd.google.colaboratory.intrinsic+json": {
              "type": "string"
            }
          },
          "metadata": {},
          "execution_count": 25
        }
      ],
      "source": [
        "lemmatizer = WordNetLemmatizer()\n",
        "CLEANR = re.compile('<.*?>') \n",
        "stop_words = set(stopwords.words('english'))"
      ]
    },
    {
      "cell_type": "code",
      "execution_count": null,
      "metadata": {
        "colab": {
          "base_uri": "https://localhost:8080/"
        },
        "id": "9f0wPkDhPDeN",
        "outputId": "fb8cfc28-bbc4-4f1d-893c-ed2a31a7f3cf"
      },
      "outputs": [
        {
          "output_type": "execute_result",
          "data": {
            "text/plain": [
              "'preprocessed = data\\nfor i in preprocessed.index:\\n  t = preprocessed[\\'review\\'][i]\\n  t = re.sub(CLEANR,\"\",t)\\n  t = t.translate(str.maketrans(\\'\\',\\'\\',string.punctuation))\\n  t = t.lower()\\n  t = lemmatizer.lemmatize(t)\\n  filter = [ ]\\n  for w in t.split():\\n       if w not in stop_words:\\n          filter.append(w)\\n  t = filter\\n  preprocessed[\\'review\\'][i] = t\\npreprocessed[\\'review\\'] = [\\' \\'.join(i) for i in preprocessed[\\'review\\']]'"
            ],
            "application/vnd.google.colaboratory.intrinsic+json": {
              "type": "string"
            }
          },
          "metadata": {},
          "execution_count": 26
        }
      ],
      "source": [
        "preprocessed = data\n",
        "for i in preprocessed.index:\n",
        "  t = preprocessed['review'][i]\n",
        "  t = re.sub(CLEANR,\"\",t)\n",
        "  t = t.translate(str.maketrans('','',string.punctuation))\n",
        "  t = t.lower()\n",
        "  t = lemmatizer.lemmatize(t)\n",
        "  filter = [ ]\n",
        "  for w in t.split():\n",
        "       if w not in stop_words:\n",
        "          filter.append(w)\n",
        "  t = filter\n",
        "  preprocessed['review'][i] = t\n",
        "preprocessed['review'] = [' '.join(i) for i in preprocessed['review']]\n"
      ]
    },
    {
      "cell_type": "code",
      "execution_count": null,
      "metadata": {
        "id": "ARKXU-vMfspU"
      },
      "outputs": [],
      "source": [
        "#preprocessed = read_csv('/content/drive/MyDrive/p/dim_preprocessed.csv')"
      ]
    },
    {
      "cell_type": "code",
      "execution_count": null,
      "metadata": {
        "id": "c33HJuRr6Cxe"
      },
      "outputs": [],
      "source": [
        "#preprocessed = preprocessed.drop(['Unnamed: 0'], axis=1)"
      ]
    },
    {
      "cell_type": "code",
      "execution_count": null,
      "metadata": {
        "colab": {
          "base_uri": "https://localhost:8080/"
        },
        "id": "fewB3E_uHLeh",
        "outputId": "98373f15-dd3e-4253-8640-3fa37c842b67"
      },
      "outputs": [
        {
          "output_type": "execute_result",
          "data": {
            "text/plain": [
              "(10000, 2)"
            ]
          },
          "metadata": {},
          "execution_count": 24
        }
      ],
      "source": [
        "preprocessed.shape"
      ]
    },
    {
      "cell_type": "code",
      "execution_count": null,
      "metadata": {
        "id": "uZTYVJIdfoB2"
      },
      "outputs": [],
      "source": [
        "#preprocessed.to_csv('/content/drive/MyDrive/p/dim_preprocessed.csv')"
      ]
    },
    {
      "cell_type": "markdown",
      "metadata": {
        "id": "kv1GJzB-Ql_d"
      },
      "source": [
        "# Splitting"
      ]
    },
    {
      "cell_type": "code",
      "execution_count": null,
      "metadata": {
        "id": "UBAopjo7wbBw"
      },
      "outputs": [],
      "source": [
        "from sklearn.model_selection import train_test_split"
      ]
    },
    {
      "cell_type": "code",
      "execution_count": null,
      "metadata": {
        "id": "XVCIHRQqQrpC"
      },
      "outputs": [],
      "source": [
        "train, temp = train_test_split(data, train_size = 0.7, random_state = 42 )\n",
        "valid, test = train_test_split(temp, test_size = 2/3, random_state = 42 )"
      ]
    },
    {
      "cell_type": "code",
      "execution_count": null,
      "metadata": {
        "id": "lS_xZtwm3zxT"
      },
      "outputs": [],
      "source": [
        "train_pr, temp = train_test_split(preprocessed, train_size = 0.7, random_state = 42 )\n",
        "valid_pr, test_pr = train_test_split(temp, test_size = 2/3, random_state = 42 )"
      ]
    },
    {
      "cell_type": "code",
      "execution_count": null,
      "metadata": {
        "colab": {
          "base_uri": "https://localhost:8080/"
        },
        "id": "TKX6Lpxb4Kko",
        "outputId": "0c0054c2-14bf-4d53-e258-88f960bc602c"
      },
      "outputs": [
        {
          "output_type": "stream",
          "name": "stdout",
          "text": [
            "Train 70%\tValid 10%\tTest 20%\n",
            "\t   Balanced Split\n"
          ]
        }
      ],
      "source": [
        "print(\"Train\", int((len(train)/len(data))*100) , end=\"%\")\n",
        "print(\"\\tValid\", int((len(valid)/len(data))*100) , end=\"%\")\n",
        "print(\"\\tTest\", int((len(test)/len(data))*100) , end=\"%\")\n",
        "print(\"\\n\\t   Balanced Split\")"
      ]
    },
    {
      "cell_type": "code",
      "execution_count": null,
      "metadata": {
        "colab": {
          "base_uri": "https://localhost:8080/"
        },
        "id": "t2wMi4e5QsT0",
        "outputId": "e1a193ee-4d02-4cb1-dabc-43824b78ac91"
      },
      "outputs": [
        {
          "output_type": "stream",
          "name": "stdout",
          "text": [
            "Train 70%\tValid 10%\tTest 20%\n",
            "\t   Balanced Split\n"
          ]
        }
      ],
      "source": [
        "print(\"Train\", int((len(train_pr)/len(preprocessed))*100) , end=\"%\")\n",
        "print(\"\\tValid\", int((len(valid_pr)/len(preprocessed))*100) , end=\"%\")\n",
        "print(\"\\tTest\", int((len(test_pr)/len(preprocessed))*100) , end=\"%\")\n",
        "print(\"\\n\\t   Balanced Split\")"
      ]
    },
    {
      "cell_type": "code",
      "execution_count": null,
      "metadata": {
        "id": "ytH_yheJF9Ty"
      },
      "outputs": [],
      "source": [
        "import tensorflow as tf\n",
        "from tensorflow.keras import Model\n",
        "from tensorflow.keras.models import load_model\n",
        "from tensorflow.keras.layers import Dense, Input, Dropout\n",
        "from tensorflow.keras.metrics import BinaryAccuracy, Precision, Recall\n",
        "from tensorflow.keras.callbacks import ModelCheckpoint\n",
        "from tensorflow.keras.optimizers.experimental import AdamW\n",
        "from tensorflow_hub import KerasLayer\n",
        "from livelossplot import PlotLossesKeras\n",
        "import tensorflow_text as text"
      ]
    },
    {
      "cell_type": "markdown",
      "metadata": {
        "id": "peDCK-FkF9zS"
      },
      "source": [
        "# TF-HUB BERT Model"
      ]
    },
    {
      "cell_type": "markdown",
      "metadata": {
        "id": "MdIu4IRSMVAw"
      },
      "source": [
        "##### copy"
      ]
    },
    {
      "cell_type": "code",
      "execution_count": null,
      "metadata": {
        "id": "NvQbFJlEtQEL"
      },
      "outputs": [],
      "source": [
        "import tensorflow as tf\n",
        "from tensorflow.keras import Model\n",
        "from tensorflow.keras.models import load_model\n",
        "from tensorflow.keras.layers import Dense, Input, Dropout\n",
        "from tensorflow.keras.metrics import BinaryAccuracy, Precision, Recall\n",
        "from tensorflow.keras.callbacks import ModelCheckpoint\n",
        "from tensorflow.keras.optimizers.experimental import AdamW\n",
        "from tensorflow_hub import KerasLayer\n",
        "from livelossplot import PlotLossesKeras\n",
        "import tensorflow_text as text"
      ]
    },
    {
      "cell_type": "code",
      "execution_count": null,
      "metadata": {
        "id": "ZeflmKg5vZDa"
      },
      "outputs": [],
      "source": [
        "bert_preprocess = KerasLayer(\"https://tfhub.dev/tensorflow/bert_en_uncased_preprocess/3\")\n",
        "bert_encoder = KerasLayer(\"https://tfhub.dev/tensorflow/bert_en_uncased_L-12_H-768_A-12/4\")"
      ]
    },
    {
      "cell_type": "code",
      "execution_count": null,
      "metadata": {
        "id": "idc26hhaW782"
      },
      "outputs": [],
      "source": [
        "text_input = Input(shape=(), dtype=tf.string, name='text')\n",
        "preprocessed_text = bert_preprocess(text_input)\n",
        "outputs = bert_encoder(preprocessed_text)"
      ]
    },
    {
      "cell_type": "code",
      "execution_count": null,
      "metadata": {
        "colab": {
          "base_uri": "https://localhost:8080/"
        },
        "id": "EWo0FnKOxygi",
        "outputId": "c0e66077-8ec5-4b13-e4cc-c527fedf04bd"
      },
      "outputs": [
        {
          "name": "stdout",
          "output_type": "stream",
          "text": [
            "Model: \"model\"\n",
            "__________________________________________________________________________________________________\n",
            " Layer (type)                   Output Shape         Param #     Connected to                     \n",
            "==================================================================================================\n",
            " text (InputLayer)              [(None,)]            0           []                               \n",
            "                                                                                                  \n",
            " keras_layer (KerasLayer)       {'input_word_ids':   0           ['text[0][0]']                   \n",
            "                                (None, 128),                                                      \n",
            "                                 'input_mask': (Non                                               \n",
            "                                e, 128),                                                          \n",
            "                                 'input_type_ids':                                                \n",
            "                                (None, 128)}                                                      \n",
            "                                                                                                  \n",
            " keras_layer_1 (KerasLayer)     {'pooled_output': (  109482241   ['keras_layer[0][0]',            \n",
            "                                None, 768),                       'keras_layer[0][1]',            \n",
            "                                 'sequence_output':               'keras_layer[0][2]']            \n",
            "                                 (None, 128, 768),                                                \n",
            "                                 'encoder_outputs':                                               \n",
            "                                 [(None, 128, 768),                                               \n",
            "                                 (None, 128, 768),                                                \n",
            "                                 (None, 128, 768),                                                \n",
            "                                 (None, 128, 768),                                                \n",
            "                                 (None, 128, 768),                                                \n",
            "                                 (None, 128, 768),                                                \n",
            "                                 (None, 128, 768),                                                \n",
            "                                 (None, 128, 768),                                                \n",
            "                                 (None, 128, 768),                                                \n",
            "                                 (None, 128, 768),                                                \n",
            "                                 (None, 128, 768),                                                \n",
            "                                 (None, 128, 768)],                                               \n",
            "                                 'default': (None,                                                \n",
            "                                768)}                                                             \n",
            "                                                                                                  \n",
            " dropout (Dropout)              (None, 768)          0           ['keras_layer_1[0][13]']         \n",
            "                                                                                                  \n",
            " dense (Dense)                  (None, 512)          393728      ['dropout[0][0]']                \n",
            "                                                                                                  \n",
            " dense_1 (Dense)                (None, 256)          131328      ['dense[0][0]']                  \n",
            "                                                                                                  \n",
            " dense_2 (Dense)                (None, 128)          32896       ['dense_1[0][0]']                \n",
            "                                                                                                  \n",
            " dense_3 (Dense)                (None, 64)           8256        ['dense_2[0][0]']                \n",
            "                                                                                                  \n",
            " outputs (Dense)                (None, 1)            65          ['dense_3[0][0]']                \n",
            "                                                                                                  \n",
            "==================================================================================================\n",
            "Total params: 110,048,514\n",
            "Trainable params: 566,273\n",
            "Non-trainable params: 109,482,241\n",
            "__________________________________________________________________________________________________\n"
          ]
        }
      ],
      "source": [
        "l = Dense(512, activation='sigmoid')(outputs['pooled_output'])\n",
        "l = Dense(256, activation='sigmoid')(l)\n",
        "l = Dense(128, activation='sigmoid')(l)\n",
        "l = Dense(64, activation='sigmoid')(l)\n",
        "l = Dropout(0.1, name=\"dropout\")(l)\n",
        "l = Dense(1, activation='sigmoid', name='outputs')(l)\n",
        "model = Model(inputs=[text_input], outputs = [l])\n",
        "model.summary()"
      ]
    },
    {
      "cell_type": "markdown",
      "metadata": {
        "id": "rqlOuPiO6mw0"
      },
      "source": [
        "##### 1. Preprocessed Data"
      ]
    },
    {
      "cell_type": "markdown",
      "metadata": {
        "id": "-zI5cZkB60bx"
      },
      "source": [
        "###### Training"
      ]
    },
    {
      "cell_type": "code",
      "execution_count": null,
      "metadata": {
        "id": "Egmsej5j7Dcl"
      },
      "outputs": [],
      "source": [
        "path = \"/content/drive/MyDrive/p/bert_pre.ckpt\""
      ]
    },
    {
      "cell_type": "code",
      "execution_count": null,
      "metadata": {
        "id": "i4OGCJ7BkOoy"
      },
      "outputs": [],
      "source": [
        "#model= load_model('/content/drive/MyDrive/rnn/bert')"
      ]
    },
    {
      "cell_type": "code",
      "execution_count": null,
      "metadata": {
        "id": "cyWW3RLvzuF3"
      },
      "outputs": [],
      "source": [
        "model.load_weights(path)"
      ]
    },
    {
      "cell_type": "code",
      "execution_count": null,
      "metadata": {
        "id": "VR0-hhhdb4vr"
      },
      "outputs": [],
      "source": [
        "model.compile(optimizer=AdamW(learning_rate=3e-4, weight_decay= 0.004),\n",
        " loss='binary_crossentropy',\n",
        " metrics=['binary_accuracy'])"
      ]
    },
    {
      "cell_type": "code",
      "execution_count": null,
      "metadata": {
        "id": "2ANQpZ0uzaa8"
      },
      "outputs": [],
      "source": [
        "model_checkpoint_callback = ModelCheckpoint(\n",
        "   filepath= path,\n",
        "   monitor='val_binary_accuracy',\n",
        "    verbose=1, \n",
        "    save_weights_only=True,\n",
        "    save_best_only=True\n",
        "    )"
      ]
    },
    {
      "cell_type": "code",
      "execution_count": null,
      "metadata": {
        "colab": {
          "base_uri": "https://localhost:8080/",
          "height": 726
        },
        "id": "quQMH4GHzsaY",
        "outputId": "3e7dc2dd-f7d5-4f0c-b715-382e6d7457f2"
      },
      "outputs": [
        {
          "data": {
            "image/png": "[encoded data removed]",
            "text/plain": [
              "<Figure size 864x576 with 2 Axes>"
            ]
          },
          "metadata": {},
          "output_type": "display_data"
        },
        {
          "name": "stdout",
          "output_type": "stream",
          "text": [
            "binary_accuracy\n",
            "\ttraining         \t (min:    0.719, max:    0.738, cur:    0.738)\n",
            "\tvalidation       \t (min:    0.691, max:    0.752, cur:    0.752)\n",
            "Loss\n",
            "\ttraining         \t (min:    0.530, max:    0.552, cur:    0.530)\n",
            "\tvalidation       \t (min:    0.509, max:    0.582, cur:    0.513)\n",
            "\b\b\b\b\b\b\b\b\b\b\b\b\b\b\b\b\b\b\b\b\b\b\b\b\b\b\b\b\b\b\b\b\b\b\b\b\b\b\b\b\b\b\b\b\b\b\b\b\b\b\b\b\b\b\b\b\b\b\b\b\b\b\b\b\b\b\b\b\b\b\b\b\b\b\b\b\b\b\b\b\b\b\b\b\b\b\b\b\b\b\b\r219/219 [==============================] - 85s 389ms/step - loss: 0.5303 - binary_accuracy: 0.7379 - val_loss: 0.5126 - val_binary_accuracy: 0.7520\n"
          ]
        }
      ],
      "source": [
        "history = model.fit(train_pr['review'],train_pr['sentiment'], epochs=10, verbose = 1,\n",
        "    validation_data= (valid_pr['review'],valid_pr['sentiment']),\n",
        "    callbacks=[model_checkpoint_callback, PlotLossesKeras()], batch_size= 32)"
      ]
    },
    {
      "cell_type": "code",
      "execution_count": null,
      "metadata": {
        "id": "kaaqEPaSjZNZ"
      },
      "outputs": [],
      "source": [
        "model.save(\"/content/drive/MyDrive/p/bert\")"
      ]
    },
    {
      "cell_type": "markdown",
      "metadata": {
        "id": "z8GgqYrU64K0"
      },
      "source": [
        "###### Evaluation Metrics"
      ]
    },
    {
      "cell_type": "code",
      "execution_count": null,
      "metadata": {
        "id": "OlxquX8bkkjT"
      },
      "outputs": [],
      "source": [
        "import matplotlib.pyplot as plt\n",
        "import numpy as np\n",
        "from sklearn.metrics import f1_score, confusion_matrix, ConfusionMatrixDisplay, accuracy_score, precision_score, recall_score"
      ]
    },
    {
      "cell_type": "code",
      "execution_count": null,
      "metadata": {
        "id": "phjxCeSm2okX"
      },
      "outputs": [],
      "source": [
        "acc = history.history['binary_accuracy']\n",
        "val_acc = history.history['val_binary_accuracy']\n",
        "loss = history.history['binary_loss']\n",
        "val_loss = history.history['val_binary_loss']"
      ]
    },
    {
      "cell_type": "code",
      "execution_count": null,
      "metadata": {
        "id": "qNE3SzKWnPM_"
      },
      "outputs": [],
      "source": [
        "epochs = range(1, len(acc) + 1)\n",
        "\n",
        "plt.plot(epochs, acc, 'b--', label='Training acc')\n",
        "plt.plot(epochs, val_acc, 'r', label='Validation acc')\n",
        "plt.title('Training and validation accuracy')\n",
        "plt.legend()\n",
        "\n",
        "plt.figure()\n",
        "\n",
        "plt.plot(epochs, loss, 'b--', label='Training loss')\n",
        "plt.plot(epochs, val_loss, 'r', label='Validation loss')\n",
        "plt.title('Training and validation loss')\n",
        "plt.legend()\n",
        "\n",
        "plt.show()"
      ]
    },
    {
      "cell_type": "code",
      "execution_count": null,
      "metadata": {
        "colab": {
          "base_uri": "https://localhost:8080/"
        },
        "id": "yocmoWlv0bFI",
        "outputId": "51bbdd9e-d5f1-4686-b180-3c459a496ab8"
      },
      "outputs": [
        {
          "name": "stdout",
          "output_type": "stream",
          "text": [
            "63/63 [==============================] - 22s 337ms/step\n"
          ]
        }
      ],
      "source": [
        "y_probs = model.predict(test_pr['review'])"
      ]
    },
    {
      "cell_type": "code",
      "execution_count": null,
      "metadata": {
        "id": "64UFRV9wS03r"
      },
      "outputs": [],
      "source": [
        "y_preds = y_probs.flatten()\n",
        "y_preds = np.where(y_preds > 0.5, 1, 0)"
      ]
    },
    {
      "cell_type": "code",
      "execution_count": null,
      "metadata": {
        "id": "FWbMV_j9S3VZ"
      },
      "outputs": [],
      "source": [
        "yh = test_pr['sentiment']\n",
        "f1 = f1_score(yh, y_preds)\n",
        "cm = confusion_matrix(yh, y_preds, labels=[0,1])\n",
        "accuracy = accuracy_score(yh, y_preds)\n",
        "precision = precision_score(yh, y_preds)\n",
        "recall = recall_score(yh, y_preds)\n",
        "specificity = cm[1,1]/(cm[1,0]+cm[1,1])"
      ]
    },
    {
      "cell_type": "code",
      "execution_count": null,
      "metadata": {
        "colab": {
          "base_uri": "https://localhost:8080/"
        },
        "id": "2KBNpuAAVNlm",
        "outputId": "65175b1a-3224-47ba-ff44-eae121953290"
      },
      "outputs": [
        {
          "name": "stdout",
          "output_type": "stream",
          "text": [
            "F1 Score   -->  0.773\n",
            "Accuracy   -->  0.74\n",
            "Precision  -->  0.705\n",
            "Specificty -->  0.855\n",
            "Recall     -->  0.855\n",
            "Confusion Matrix :\n",
            " [[594 371]\n",
            " [150 885]]\n"
          ]
        }
      ],
      "source": [
        "print(\"F1 Score   --> \", round(f1,3))\n",
        "print(\"Accuracy   --> \", round(accuracy,3))\n",
        "print(\"Precision  --> \", round(precision,3))\n",
        "print(\"Specificty --> \", round(specificity,3))\n",
        "print(\"Recall     --> \", round(recall,3))\n",
        "print(\"Confusion Matrix :\\n\", cm)"
      ]
    },
    {
      "cell_type": "code",
      "execution_count": null,
      "metadata": {
        "colab": {
          "base_uri": "https://localhost:8080/",
          "height": 260
        },
        "id": "sj3Juo9GZGvt",
        "outputId": "f1fb9b77-b527-4d21-a70b-35b52735f429"
      },
      "outputs": [
        {
          "data": {
            "image/png": "[encoded data removed]",
            "text/plain": [
              "<Figure size 288x288 with 2 Axes>"
            ]
          },
          "metadata": {},
          "output_type": "display_data"
        }
      ],
      "source": [
        "disp=ConfusionMatrixDisplay(confusion_matrix=cm,display_labels=['negative','positive'])\n",
        "fig, ax = plt.subplots(figsize=(4,4))\n",
        "disp.plot(ax=ax)\n",
        "plt.show()"
      ]
    },
    {
      "cell_type": "markdown",
      "metadata": {
        "id": "R7-sRYzY5FBK"
      },
      "source": [
        "##### 2. Normal Data"
      ]
    },
    {
      "cell_type": "markdown",
      "metadata": {
        "id": "02X4bE0a-dhQ"
      },
      "source": [
        "###### Training"
      ]
    },
    {
      "cell_type": "code",
      "execution_count": null,
      "metadata": {
        "id": "wOuF8EFo6X-U"
      },
      "outputs": [],
      "source": [
        "path = \"/content/drive/MyDrive/p/bert_nrm.ckpt\""
      ]
    },
    {
      "cell_type": "code",
      "execution_count": null,
      "metadata": {
        "id": "RebXVrhyBAZl"
      },
      "outputs": [],
      "source": [
        "#model.load_weights(path)"
      ]
    },
    {
      "cell_type": "code",
      "execution_count": null,
      "metadata": {
        "id": "EkI0XiHTiFjD"
      },
      "outputs": [],
      "source": [
        "model.compile(optimizer=AdamW(learning_rate=3e-4, weight_decay= 0.004),\n",
        " loss='binary_crossentropy',\n",
        " metrics=['binary_accuracy'])"
      ]
    },
    {
      "cell_type": "code",
      "execution_count": null,
      "metadata": {
        "id": "5rB_AqM47Sho"
      },
      "outputs": [],
      "source": [
        "model_checkpoint_callback = ModelCheckpoint(\n",
        "   filepath= path,\n",
        "   monitor='val_binary_accuracy',\n",
        "    verbose=1, \n",
        "    save_weights_only=True,\n",
        "    save_best_only=True\n",
        "    )"
      ]
    },
    {
      "cell_type": "code",
      "execution_count": null,
      "metadata": {
        "colab": {
          "base_uri": "https://localhost:8080/",
          "height": 726
        },
        "id": "8OpQpg-Q7U3B",
        "outputId": "e2b412fc-4439-4541-c512-29e1386e879b"
      },
      "outputs": [
        {
          "data": {
            "image/png": "[encoded data removed]",
            "text/plain": [
              "<Figure size 864x576 with 2 Axes>"
            ]
          },
          "metadata": {},
          "output_type": "display_data"
        },
        {
          "name": "stdout",
          "output_type": "stream",
          "text": [
            "binary_accuracy\n",
            "\ttraining         \t (min:    0.513, max:    0.741, cur:    0.740)\n",
            "\tvalidation       \t (min:    0.523, max:    0.761, cur:    0.761)\n",
            "Loss\n",
            "\ttraining         \t (min:    0.528, max:    0.692, cur:    0.528)\n",
            "\tvalidation       \t (min:    0.499, max:    0.688, cur:    0.499)\n",
            "\b\b\b\b\b\b\b\b\b\b\b\b\b\b\b\b\b\b\b\b\b\b\b\b\b\b\b\b\b\b\b\b\b\b\b\b\b\b\b\b\b\b\b\b\b\b\b\b\b\b\b\b\b\b\b\b\b\b\b\b\b\b\b\b\b\b\b\b\b\b\b\b\b\b\b\b\b\b\b\b\b\b\b\b\b\b\b\b\b\b\b\r219/219 [==============================] - 83s 379ms/step - loss: 0.5276 - binary_accuracy: 0.7396 - val_loss: 0.4991 - val_binary_accuracy: 0.7610\n"
          ]
        }
      ],
      "source": [
        "history = model.fit(train['review'],train['sentiment'], epochs=10, verbose = 1,\n",
        "    validation_data= (valid['review'],valid['sentiment']),\n",
        "    callbacks=[model_checkpoint_callback, PlotLossesKeras()], batch_size= 32)"
      ]
    },
    {
      "cell_type": "markdown",
      "metadata": {
        "id": "BS-qegPM5-yy"
      },
      "source": [
        "###### Evaluation Metrics"
      ]
    },
    {
      "cell_type": "code",
      "execution_count": null,
      "metadata": {
        "id": "MHc_6QgS5-yz"
      },
      "outputs": [],
      "source": [
        "import matplotlib.pyplot as plt\n",
        "import numpy as np\n",
        "from sklearn.metrics import f1_score, confusion_matrix, ConfusionMatrixDisplay, accuracy_score, precision_score, recall_score"
      ]
    },
    {
      "cell_type": "code",
      "execution_count": null,
      "metadata": {
        "id": "4B6IGV0F5-yz"
      },
      "outputs": [],
      "source": [
        "acc = history.history['binary_accuracy']\n",
        "val_acc = history.history['val_binary_accuracy']\n",
        "loss = history.history['loss']\n",
        "val_loss = history.history['val_loss']"
      ]
    },
    {
      "cell_type": "code",
      "execution_count": null,
      "metadata": {
        "colab": {
          "base_uri": "https://localhost:8080/",
          "height": 545
        },
        "id": "M5oQUWaP5-yz",
        "outputId": "9f4d8002-4041-482a-d560-cc70e35d5232"
      },
      "outputs": [
        {
          "data": {
            "image/png": "[encoded data removed]",
            "text/plain": [
              "<Figure size 432x288 with 1 Axes>"
            ]
          },
          "metadata": {},
          "output_type": "display_data"
        },
        {
          "data": {
            "image/png": "[encoded data removed]",
            "text/plain": [
              "<Figure size 432x288 with 1 Axes>"
            ]
          },
          "metadata": {},
          "output_type": "display_data"
        }
      ],
      "source": [
        "epochs = range(1, len(acc) + 1)\n",
        "\n",
        "plt.plot(epochs, acc, 'b--', label='Training acc')\n",
        "plt.plot(epochs, val_acc, 'r', label='Validation acc')\n",
        "plt.title('Training and validation accuracy')\n",
        "plt.legend()\n",
        "\n",
        "plt.figure()\n",
        "\n",
        "plt.plot(epochs, loss, 'b--', label='Training loss')\n",
        "plt.plot(epochs, val_loss, 'r', label='Validation loss')\n",
        "plt.title('Training and validation loss')\n",
        "plt.legend()\n",
        "\n",
        "plt.show()"
      ]
    },
    {
      "cell_type": "code",
      "execution_count": null,
      "metadata": {
        "colab": {
          "base_uri": "https://localhost:8080/"
        },
        "id": "A4LdiQF55-yz",
        "outputId": "b958825e-c7bb-4e85-d831-8c0540b5a3dd"
      },
      "outputs": [
        {
          "name": "stdout",
          "output_type": "stream",
          "text": [
            "63/63 [==============================] - 23s 365ms/step\n"
          ]
        }
      ],
      "source": [
        "y_probs = model.predict(test['review'])"
      ]
    },
    {
      "cell_type": "code",
      "execution_count": null,
      "metadata": {
        "id": "zcYjnhCQ5-yz"
      },
      "outputs": [],
      "source": [
        "y_preds = y_probs.flatten()\n",
        "y_preds = np.where(y_preds > 0.5, 1, 0)"
      ]
    },
    {
      "cell_type": "code",
      "execution_count": null,
      "metadata": {
        "colab": {
          "base_uri": "https://localhost:8080/"
        },
        "id": "tq6uIKifclc4",
        "outputId": "f39cce46-3b71-465d-f704-48d7db05d58a"
      },
      "outputs": [
        {
          "name": "stdout",
          "output_type": "stream",
          "text": [
            "yes\n"
          ]
        }
      ],
      "source": []
    },
    {
      "cell_type": "code",
      "execution_count": null,
      "metadata": {
        "id": "NpBm60vY5-y0"
      },
      "outputs": [],
      "source": [
        "yh = test['sentiment']\n",
        "f1 = f1_score(yh, y_preds)\n",
        "cm = confusion_matrix(yh, y_preds, labels=[0,1])\n",
        "accuracy = accuracy_score(yh, y_preds)\n",
        "precision = precision_score(yh, y_preds)\n",
        "recall = recall_score(yh, y_preds)\n",
        "specificity = cm[1,1]/(cm[1,0]+cm[1,1])"
      ]
    },
    {
      "cell_type": "code",
      "execution_count": null,
      "metadata": {
        "colab": {
          "base_uri": "https://localhost:8080/"
        },
        "id": "7XxP0nKc5-y0",
        "outputId": "de57137b-ce76-4456-a457-a950dcfed1bc"
      },
      "outputs": [
        {
          "name": "stdout",
          "output_type": "stream",
          "text": [
            "F1 Score   -->  0.774\n",
            "Accuracy   -->  0.764\n",
            "Precision  -->  0.77\n",
            "Specificty -->  0.778\n",
            "Recall     -->  0.778\n",
            "Confusion Matrix :\n",
            " [[724 241]\n",
            " [230 805]]\n"
          ]
        }
      ],
      "source": [
        "print(\"F1 Score   --> \", round(f1,3))\n",
        "print(\"Accuracy   --> \", round(accuracy,3))\n",
        "print(\"Precision  --> \", round(precision,3))\n",
        "print(\"Specificty --> \", round(specificity,3))\n",
        "print(\"Recall     --> \", round(recall,3))\n",
        "print(\"Confusion Matrix :\\n\", cm)"
      ]
    },
    {
      "cell_type": "code",
      "execution_count": null,
      "metadata": {
        "colab": {
          "base_uri": "https://localhost:8080/",
          "height": 262
        },
        "id": "dLt8nJEi5-y0",
        "outputId": "b1ec190a-7ba1-428b-8831-ec430926abf7"
      },
      "outputs": [
        {
          "data": {
            "image/png": "[encoded data removed]",
            "text/plain": [
              "<Figure size 288x288 with 2 Axes>"
            ]
          },
          "metadata": {},
          "output_type": "display_data"
        }
      ],
      "source": [
        "disp=ConfusionMatrixDisplay(confusion_matrix=cm,display_labels=['negative','positive'])\n",
        "fig, ax = plt.subplots(figsize=(4,4))\n",
        "disp.plot(ax=ax)\n",
        "plt.show()"
      ]
    },
    {
      "cell_type": "markdown",
      "metadata": {
        "id": "U-CZvZjC49CB"
      },
      "source": [
        "# TF-HUB RoBERTa Model"
      ]
    },
    {
      "cell_type": "markdown",
      "metadata": {
        "id": "QgHmOg7-MbpW"
      },
      "source": [
        "##### copy"
      ]
    },
    {
      "cell_type": "code",
      "execution_count": null,
      "metadata": {
        "id": "uP7TbNCwtOeg"
      },
      "outputs": [],
      "source": [
        "import tensorflow as tf\n",
        "from tensorflow.keras import Model\n",
        "from tensorflow.keras.models import load_model\n",
        "from tensorflow.keras.layers import Dense, Input, Dropout\n",
        "from tensorflow.keras.metrics import BinaryAccuracy, Precision, Recall\n",
        "from tensorflow.keras.callbacks import ModelCheckpoint\n",
        "from tensorflow.keras.optimizers.experimental import AdamW\n",
        "from tensorflow_hub import KerasLayer\n",
        "from livelossplot import PlotLossesKeras\n",
        "import tensorflow_text as text"
      ]
    },
    {
      "cell_type": "code",
      "execution_count": null,
      "metadata": {
        "id": "0dvEFKKJMbpX"
      },
      "outputs": [],
      "source": [
        "roberta_preprocess = KerasLayer(\"https://tfhub.dev/jeongukjae/roberta_en_cased_preprocess/1\")\n",
        "robera_encoder = KerasLayer(\"https://tfhub.dev/jeongukjae/roberta_en_cased_L-12_H-768_A-12/1\")"
      ]
    },
    {
      "cell_type": "code",
      "execution_count": null,
      "metadata": {
        "id": "nuXj-HhRMbpX"
      },
      "outputs": [],
      "source": [
        "text_input = Input(shape=(), dtype=tf.string, name='text')\n",
        "preprocessed_text = roberta_preprocess(text_input)\n",
        "outputs = robera_encoder(preprocessed_text)"
      ]
    },
    {
      "cell_type": "code",
      "execution_count": null,
      "metadata": {
        "colab": {
          "base_uri": "https://localhost:8080/"
        },
        "id": "rdxvgzh2MbpX",
        "outputId": "54f32b17-9832-4443-82d6-c1d2a0f49bc2"
      },
      "outputs": [
        {
          "output_type": "stream",
          "name": "stdout",
          "text": [
            "Model: \"model\"\n",
            "__________________________________________________________________________________________________\n",
            " Layer (type)                   Output Shape         Param #     Connected to                     \n",
            "==================================================================================================\n",
            " text (InputLayer)              [(None,)]            0           []                               \n",
            "                                                                                                  \n",
            " keras_layer (KerasLayer)       {'input_type_ids':   0           ['text[0][0]']                   \n",
            "                                (None, 128),                                                      \n",
            "                                 'input_word_ids':                                                \n",
            "                                (None, 128),                                                      \n",
            "                                 'input_mask': (Non                                               \n",
            "                                e, 128)}                                                          \n",
            "                                                                                                  \n",
            " keras_layer_1 (KerasLayer)     {'sequence_output':  124644096   ['keras_layer[0][0]',            \n",
            "                                 (None, 128, 768),                'keras_layer[0][1]',            \n",
            "                                 'pooled_output': (               'keras_layer[0][2]']            \n",
            "                                None, 768),                                                       \n",
            "                                 'encoder_outputs':                                               \n",
            "                                 [(None, 128, 768),                                               \n",
            "                                 (None, 128, 768),                                                \n",
            "                                 (None, 128, 768),                                                \n",
            "                                 (None, 128, 768),                                                \n",
            "                                 (None, 128, 768),                                                \n",
            "                                 (None, 128, 768),                                                \n",
            "                                 (None, 128, 768),                                                \n",
            "                                 (None, 128, 768),                                                \n",
            "                                 (None, 128, 768),                                                \n",
            "                                 (None, 128, 768),                                                \n",
            "                                 (None, 128, 768),                                                \n",
            "                                 (None, 128, 768)]}                                               \n",
            "                                                                                                  \n",
            " dense (Dense)                  (None, 512)          393728      ['keras_layer_1[0][12]']         \n",
            "                                                                                                  \n",
            " dense_1 (Dense)                (None, 256)          131328      ['dense[0][0]']                  \n",
            "                                                                                                  \n",
            " dense_2 (Dense)                (None, 128)          32896       ['dense_1[0][0]']                \n",
            "                                                                                                  \n",
            " dense_3 (Dense)                (None, 64)           8256        ['dense_2[0][0]']                \n",
            "                                                                                                  \n",
            " dropout (Dropout)              (None, 64)           0           ['dense_3[0][0]']                \n",
            "                                                                                                  \n",
            " outputs (Dense)                (None, 1)            65          ['dropout[0][0]']                \n",
            "                                                                                                  \n",
            "==================================================================================================\n",
            "Total params: 125,210,369\n",
            "Trainable params: 566,273\n",
            "Non-trainable params: 124,644,096\n",
            "__________________________________________________________________________________________________\n"
          ]
        }
      ],
      "source": [
        "l = Dense(512, activation='sigmoid')(outputs['pooled_output'])\n",
        "l = Dense(256, activation='sigmoid')(l)\n",
        "l = Dense(128, activation='sigmoid')(l)\n",
        "l = Dense(64, activation='sigmoid')(l)\n",
        "l = Dropout(0.1, name=\"dropout\")(l)\n",
        "l = Dense(1, activation='sigmoid', name='outputs')(l)\n",
        "model = Model(inputs=[text_input], outputs = [l])\n",
        "model.summary()"
      ]
    },
    {
      "cell_type": "markdown",
      "metadata": {
        "id": "CZq1dOy997Hx"
      },
      "source": [
        "##### 1. Preprocessed Data"
      ]
    },
    {
      "cell_type": "markdown",
      "metadata": {
        "id": "Fdl9B69H-B8x"
      },
      "source": [
        "###### Training"
      ]
    },
    {
      "cell_type": "code",
      "execution_count": null,
      "metadata": {
        "id": "D6NSIuTN-BGm"
      },
      "outputs": [],
      "source": [
        "path = \"/content/drive/MyDrive/p/roberta_pre.ckpt\""
      ]
    },
    {
      "cell_type": "code",
      "execution_count": null,
      "metadata": {
        "id": "icLxDzMkA7EC",
        "colab": {
          "base_uri": "https://localhost:8080/"
        },
        "outputId": "61739f95-e632-49c8-99e6-01ff837d3241"
      },
      "outputs": [
        {
          "output_type": "execute_result",
          "data": {
            "text/plain": [
              "<tensorflow.python.training.tracking.util.CheckpointLoadStatus at 0x7f3fd1c55d30>"
            ]
          },
          "metadata": {},
          "execution_count": 26
        }
      ],
      "source": [
        "model.load_weights(path)"
      ]
    },
    {
      "cell_type": "code",
      "execution_count": null,
      "metadata": {
        "id": "Qogk37SM9qjh"
      },
      "outputs": [],
      "source": [
        "model.compile(optimizer=AdamW(learning_rate=0.005, weight_decay= 0.004),\n",
        " loss='binary_crossentropy',\n",
        " steps_per_execution = 2,\n",
        " metrics=['binary_accuracy'])"
      ]
    },
    {
      "cell_type": "code",
      "execution_count": null,
      "metadata": {
        "id": "YLSWgAkQ9xFD"
      },
      "outputs": [],
      "source": [
        "model_checkpoint_callback = ModelCheckpoint(\n",
        "   filepath= path,\n",
        "   monitor='val_binary_accuracy',\n",
        "    verbose=1, \n",
        "    save_weights_only=True,\n",
        "    save_freq=1,\n",
        "    save_best_only=False)"
      ]
    },
    {
      "cell_type": "code",
      "execution_count": null,
      "metadata": {
        "colab": {
          "base_uri": "https://localhost:8080/",
          "height": 1000
        },
        "id": "RkIHEBco-WNh",
        "outputId": "65e3f95e-df90-4050-c244-3e52e5927ba6"
      },
      "outputs": [
        {
          "output_type": "display_data",
          "data": {
            "text/plain": [
              "<Figure size 864x576 with 2 Axes>"
            ],
            "image/png": "[encoded data removed]"
          },
          "metadata": {
            "needs_background": "light"
          }
        },
        {
          "output_type": "stream",
          "name": "stdout",
          "text": [
            "binary_accuracy\n",
            "\ttraining         \t (min:    0.490, max:    0.504, cur:    0.490)\n",
            "\tvalidation       \t (min:    0.477, max:    0.523, cur:    0.477)\n",
            "Loss\n",
            "\ttraining         \t (min:    0.693, max:    0.693, cur:    0.693)\n",
            "\tvalidation       \t (min:    0.693, max:    0.694, cur:    0.694)\n",
            "\b\b\b\b\b\b\b\b\b\b\b\b\b\b\b\b\b\b\b\b\b\b\b\b\b\b\b\b\b\b\b\b\b\b\b\b\b\b\b\b\b\b\b\b\b\b\b\b\b\b\b\b\b\b\b\b\b\b\b\b\b\b\b\b\b\b\b\b\b\b\b\b\b\b\b\b\b\b\b\b\b\b\b\b\b\b\b\b\b\b\b\r219/219 [==============================] - 4046s 18s/step - loss: 0.6934 - binary_accuracy: 0.4899 - val_loss: 0.6936 - val_binary_accuracy: 0.4770\n",
            "Epoch 5/10\n",
            "\n",
            "Epoch 5: saving model to /content/drive/MyDrive/p/roberta_pre.ckpt\n",
            "  2/219 [..............................] - ETA: 1:08:16 - loss: 0.6933 - binary_accuracy: 0.4844\n",
            "Epoch 5: saving model to /content/drive/MyDrive/p/roberta_pre.ckpt\n",
            "  4/219 [..............................] - ETA: 1:04:02 - loss: 0.6933 - binary_accuracy: 0.4844\n",
            "Epoch 5: saving model to /content/drive/MyDrive/p/roberta_pre.ckpt\n",
            "  6/219 [..............................] - ETA: 1:06:02 - loss: 0.6930 - binary_accuracy: 0.5052\n",
            "Epoch 5: saving model to /content/drive/MyDrive/p/roberta_pre.ckpt\n",
            "  8/219 [>.............................] - ETA: 1:02:32 - loss: 0.6932 - binary_accuracy: 0.5000\n",
            "Epoch 5: saving model to /content/drive/MyDrive/p/roberta_pre.ckpt\n",
            " 10/219 [>.............................] - ETA: 1:01:19 - loss: 0.6933 - binary_accuracy: 0.4906\n",
            "Epoch 5: saving model to /content/drive/MyDrive/p/roberta_pre.ckpt\n",
            " 12/219 [>.............................] - ETA: 59:32 - loss: 0.6932 - binary_accuracy: 0.4870  "
          ]
        },
        {
          "output_type": "error",
          "ename": "KeyboardInterrupt",
          "evalue": "ignored",
          "traceback": [
            "\u001b[0;31m---------------------------------------------------------------------------\u001b[0m",
            "\u001b[0;31mKeyboardInterrupt\u001b[0m                         Traceback (most recent call last)",
            "\u001b[0;32m<ipython-input-25-603b29b67ac6>\u001b[0m in \u001b[0;36m<module>\u001b[0;34m\u001b[0m\n\u001b[0;32m----> 1\u001b[0;31m history = model.fit(train_pr['review'],train_pr['sentiment'], epochs=10, verbose = 1,\n\u001b[0m\u001b[1;32m      2\u001b[0m     \u001b[0mvalidation_data\u001b[0m\u001b[0;34m=\u001b[0m \u001b[0;34m(\u001b[0m\u001b[0mvalid_pr\u001b[0m\u001b[0;34m[\u001b[0m\u001b[0;34m'review'\u001b[0m\u001b[0;34m]\u001b[0m\u001b[0;34m,\u001b[0m\u001b[0mvalid_pr\u001b[0m\u001b[0;34m[\u001b[0m\u001b[0;34m'sentiment'\u001b[0m\u001b[0;34m]\u001b[0m\u001b[0;34m)\u001b[0m\u001b[0;34m,\u001b[0m\u001b[0;34m\u001b[0m\u001b[0;34m\u001b[0m\u001b[0m\n\u001b[1;32m      3\u001b[0m     callbacks=[model_checkpoint_callback,PlotLossesKeras()], batch_size= 32)\n",
            "\u001b[0;32m/usr/local/lib/python3.8/dist-packages/keras/utils/traceback_utils.py\u001b[0m in \u001b[0;36merror_handler\u001b[0;34m(*args, **kwargs)\u001b[0m\n\u001b[1;32m     62\u001b[0m     \u001b[0mfiltered_tb\u001b[0m \u001b[0;34m=\u001b[0m \u001b[0;32mNone\u001b[0m\u001b[0;34m\u001b[0m\u001b[0;34m\u001b[0m\u001b[0m\n\u001b[1;32m     63\u001b[0m     \u001b[0;32mtry\u001b[0m\u001b[0;34m:\u001b[0m\u001b[0;34m\u001b[0m\u001b[0;34m\u001b[0m\u001b[0m\n\u001b[0;32m---> 64\u001b[0;31m       \u001b[0;32mreturn\u001b[0m \u001b[0mfn\u001b[0m\u001b[0;34m(\u001b[0m\u001b[0;34m*\u001b[0m\u001b[0margs\u001b[0m\u001b[0;34m,\u001b[0m \u001b[0;34m**\u001b[0m\u001b[0mkwargs\u001b[0m\u001b[0;34m)\u001b[0m\u001b[0;34m\u001b[0m\u001b[0;34m\u001b[0m\u001b[0m\n\u001b[0m\u001b[1;32m     65\u001b[0m     \u001b[0;32mexcept\u001b[0m \u001b[0mException\u001b[0m \u001b[0;32mas\u001b[0m \u001b[0me\u001b[0m\u001b[0;34m:\u001b[0m  \u001b[0;31m# pylint: disable=broad-except\u001b[0m\u001b[0;34m\u001b[0m\u001b[0;34m\u001b[0m\u001b[0m\n\u001b[1;32m     66\u001b[0m       \u001b[0mfiltered_tb\u001b[0m \u001b[0;34m=\u001b[0m \u001b[0m_process_traceback_frames\u001b[0m\u001b[0;34m(\u001b[0m\u001b[0me\u001b[0m\u001b[0;34m.\u001b[0m\u001b[0m__traceback__\u001b[0m\u001b[0;34m)\u001b[0m\u001b[0;34m\u001b[0m\u001b[0;34m\u001b[0m\u001b[0m\n",
            "\u001b[0;32m/usr/local/lib/python3.8/dist-packages/keras/engine/training.py\u001b[0m in \u001b[0;36mfit\u001b[0;34m(self, x, y, batch_size, epochs, verbose, callbacks, validation_split, validation_data, shuffle, class_weight, sample_weight, initial_epoch, steps_per_epoch, validation_steps, validation_batch_size, validation_freq, max_queue_size, workers, use_multiprocessing)\u001b[0m\n\u001b[1;32m   1407\u001b[0m                 _r=1):\n\u001b[1;32m   1408\u001b[0m               \u001b[0mcallbacks\u001b[0m\u001b[0;34m.\u001b[0m\u001b[0mon_train_batch_begin\u001b[0m\u001b[0;34m(\u001b[0m\u001b[0mstep\u001b[0m\u001b[0;34m)\u001b[0m\u001b[0;34m\u001b[0m\u001b[0;34m\u001b[0m\u001b[0m\n\u001b[0;32m-> 1409\u001b[0;31m               \u001b[0mtmp_logs\u001b[0m \u001b[0;34m=\u001b[0m \u001b[0mself\u001b[0m\u001b[0;34m.\u001b[0m\u001b[0mtrain_function\u001b[0m\u001b[0;34m(\u001b[0m\u001b[0miterator\u001b[0m\u001b[0;34m)\u001b[0m\u001b[0;34m\u001b[0m\u001b[0;34m\u001b[0m\u001b[0m\n\u001b[0m\u001b[1;32m   1410\u001b[0m               \u001b[0;32mif\u001b[0m \u001b[0mdata_handler\u001b[0m\u001b[0;34m.\u001b[0m\u001b[0mshould_sync\u001b[0m\u001b[0;34m:\u001b[0m\u001b[0;34m\u001b[0m\u001b[0;34m\u001b[0m\u001b[0m\n\u001b[1;32m   1411\u001b[0m                 \u001b[0mcontext\u001b[0m\u001b[0;34m.\u001b[0m\u001b[0masync_wait\u001b[0m\u001b[0;34m(\u001b[0m\u001b[0;34m)\u001b[0m\u001b[0;34m\u001b[0m\u001b[0;34m\u001b[0m\u001b[0m\n",
            "\u001b[0;32m/usr/local/lib/python3.8/dist-packages/tensorflow/python/util/traceback_utils.py\u001b[0m in \u001b[0;36merror_handler\u001b[0;34m(*args, **kwargs)\u001b[0m\n\u001b[1;32m    148\u001b[0m     \u001b[0mfiltered_tb\u001b[0m \u001b[0;34m=\u001b[0m \u001b[0;32mNone\u001b[0m\u001b[0;34m\u001b[0m\u001b[0;34m\u001b[0m\u001b[0m\n\u001b[1;32m    149\u001b[0m     \u001b[0;32mtry\u001b[0m\u001b[0;34m:\u001b[0m\u001b[0;34m\u001b[0m\u001b[0;34m\u001b[0m\u001b[0m\n\u001b[0;32m--> 150\u001b[0;31m       \u001b[0;32mreturn\u001b[0m \u001b[0mfn\u001b[0m\u001b[0;34m(\u001b[0m\u001b[0;34m*\u001b[0m\u001b[0margs\u001b[0m\u001b[0;34m,\u001b[0m \u001b[0;34m**\u001b[0m\u001b[0mkwargs\u001b[0m\u001b[0;34m)\u001b[0m\u001b[0;34m\u001b[0m\u001b[0;34m\u001b[0m\u001b[0m\n\u001b[0m\u001b[1;32m    151\u001b[0m     \u001b[0;32mexcept\u001b[0m \u001b[0mException\u001b[0m \u001b[0;32mas\u001b[0m \u001b[0me\u001b[0m\u001b[0;34m:\u001b[0m\u001b[0;34m\u001b[0m\u001b[0;34m\u001b[0m\u001b[0m\n\u001b[1;32m    152\u001b[0m       \u001b[0mfiltered_tb\u001b[0m \u001b[0;34m=\u001b[0m \u001b[0m_process_traceback_frames\u001b[0m\u001b[0;34m(\u001b[0m\u001b[0me\u001b[0m\u001b[0;34m.\u001b[0m\u001b[0m__traceback__\u001b[0m\u001b[0;34m)\u001b[0m\u001b[0;34m\u001b[0m\u001b[0;34m\u001b[0m\u001b[0m\n",
            "\u001b[0;32m/usr/local/lib/python3.8/dist-packages/tensorflow/python/eager/def_function.py\u001b[0m in \u001b[0;36m__call__\u001b[0;34m(self, *args, **kwds)\u001b[0m\n\u001b[1;32m    913\u001b[0m \u001b[0;34m\u001b[0m\u001b[0m\n\u001b[1;32m    914\u001b[0m       \u001b[0;32mwith\u001b[0m \u001b[0mOptionalXlaContext\u001b[0m\u001b[0;34m(\u001b[0m\u001b[0mself\u001b[0m\u001b[0;34m.\u001b[0m\u001b[0m_jit_compile\u001b[0m\u001b[0;34m)\u001b[0m\u001b[0;34m:\u001b[0m\u001b[0;34m\u001b[0m\u001b[0;34m\u001b[0m\u001b[0m\n\u001b[0;32m--> 915\u001b[0;31m         \u001b[0mresult\u001b[0m \u001b[0;34m=\u001b[0m \u001b[0mself\u001b[0m\u001b[0;34m.\u001b[0m\u001b[0m_call\u001b[0m\u001b[0;34m(\u001b[0m\u001b[0;34m*\u001b[0m\u001b[0margs\u001b[0m\u001b[0;34m,\u001b[0m \u001b[0;34m**\u001b[0m\u001b[0mkwds\u001b[0m\u001b[0;34m)\u001b[0m\u001b[0;34m\u001b[0m\u001b[0;34m\u001b[0m\u001b[0m\n\u001b[0m\u001b[1;32m    916\u001b[0m \u001b[0;34m\u001b[0m\u001b[0m\n\u001b[1;32m    917\u001b[0m       \u001b[0mnew_tracing_count\u001b[0m \u001b[0;34m=\u001b[0m \u001b[0mself\u001b[0m\u001b[0;34m.\u001b[0m\u001b[0mexperimental_get_tracing_count\u001b[0m\u001b[0;34m(\u001b[0m\u001b[0;34m)\u001b[0m\u001b[0;34m\u001b[0m\u001b[0;34m\u001b[0m\u001b[0m\n",
            "\u001b[0;32m/usr/local/lib/python3.8/dist-packages/tensorflow/python/eager/def_function.py\u001b[0m in \u001b[0;36m_call\u001b[0;34m(self, *args, **kwds)\u001b[0m\n\u001b[1;32m    945\u001b[0m       \u001b[0;31m# In this case we have created variables on the first call, so we run the\u001b[0m\u001b[0;34m\u001b[0m\u001b[0;34m\u001b[0m\u001b[0;34m\u001b[0m\u001b[0m\n\u001b[1;32m    946\u001b[0m       \u001b[0;31m# defunned version which is guaranteed to never create variables.\u001b[0m\u001b[0;34m\u001b[0m\u001b[0;34m\u001b[0m\u001b[0;34m\u001b[0m\u001b[0m\n\u001b[0;32m--> 947\u001b[0;31m       \u001b[0;32mreturn\u001b[0m \u001b[0mself\u001b[0m\u001b[0;34m.\u001b[0m\u001b[0m_stateless_fn\u001b[0m\u001b[0;34m(\u001b[0m\u001b[0;34m*\u001b[0m\u001b[0margs\u001b[0m\u001b[0;34m,\u001b[0m \u001b[0;34m**\u001b[0m\u001b[0mkwds\u001b[0m\u001b[0;34m)\u001b[0m  \u001b[0;31m# pylint: disable=not-callable\u001b[0m\u001b[0;34m\u001b[0m\u001b[0;34m\u001b[0m\u001b[0m\n\u001b[0m\u001b[1;32m    948\u001b[0m     \u001b[0;32melif\u001b[0m \u001b[0mself\u001b[0m\u001b[0;34m.\u001b[0m\u001b[0m_stateful_fn\u001b[0m \u001b[0;32mis\u001b[0m \u001b[0;32mnot\u001b[0m \u001b[0;32mNone\u001b[0m\u001b[0;34m:\u001b[0m\u001b[0;34m\u001b[0m\u001b[0;34m\u001b[0m\u001b[0m\n\u001b[1;32m    949\u001b[0m       \u001b[0;31m# Release the lock early so that multiple threads can perform the call\u001b[0m\u001b[0;34m\u001b[0m\u001b[0;34m\u001b[0m\u001b[0;34m\u001b[0m\u001b[0m\n",
            "\u001b[0;32m/usr/local/lib/python3.8/dist-packages/tensorflow/python/eager/function.py\u001b[0m in \u001b[0;36m__call__\u001b[0;34m(self, *args, **kwargs)\u001b[0m\n\u001b[1;32m   2451\u001b[0m       (graph_function,\n\u001b[1;32m   2452\u001b[0m        filtered_flat_args) = self._maybe_define_function(args, kwargs)\n\u001b[0;32m-> 2453\u001b[0;31m     return graph_function._call_flat(\n\u001b[0m\u001b[1;32m   2454\u001b[0m         filtered_flat_args, captured_inputs=graph_function.captured_inputs)  # pylint: disable=protected-access\n\u001b[1;32m   2455\u001b[0m \u001b[0;34m\u001b[0m\u001b[0m\n",
            "\u001b[0;32m/usr/local/lib/python3.8/dist-packages/tensorflow/python/eager/function.py\u001b[0m in \u001b[0;36m_call_flat\u001b[0;34m(self, args, captured_inputs, cancellation_manager)\u001b[0m\n\u001b[1;32m   1858\u001b[0m         and executing_eagerly):\n\u001b[1;32m   1859\u001b[0m       \u001b[0;31m# No tape is watching; skip to running the function.\u001b[0m\u001b[0;34m\u001b[0m\u001b[0;34m\u001b[0m\u001b[0;34m\u001b[0m\u001b[0m\n\u001b[0;32m-> 1860\u001b[0;31m       return self._build_call_outputs(self._inference_function.call(\n\u001b[0m\u001b[1;32m   1861\u001b[0m           ctx, args, cancellation_manager=cancellation_manager))\n\u001b[1;32m   1862\u001b[0m     forward_backward = self._select_forward_and_backward_functions(\n",
            "\u001b[0;32m/usr/local/lib/python3.8/dist-packages/tensorflow/python/eager/function.py\u001b[0m in \u001b[0;36mcall\u001b[0;34m(self, ctx, args, cancellation_manager)\u001b[0m\n\u001b[1;32m    495\u001b[0m       \u001b[0;32mwith\u001b[0m \u001b[0m_InterpolateFunctionError\u001b[0m\u001b[0;34m(\u001b[0m\u001b[0mself\u001b[0m\u001b[0;34m)\u001b[0m\u001b[0;34m:\u001b[0m\u001b[0;34m\u001b[0m\u001b[0;34m\u001b[0m\u001b[0m\n\u001b[1;32m    496\u001b[0m         \u001b[0;32mif\u001b[0m \u001b[0mcancellation_manager\u001b[0m \u001b[0;32mis\u001b[0m \u001b[0;32mNone\u001b[0m\u001b[0;34m:\u001b[0m\u001b[0;34m\u001b[0m\u001b[0;34m\u001b[0m\u001b[0m\n\u001b[0;32m--> 497\u001b[0;31m           outputs = execute.execute(\n\u001b[0m\u001b[1;32m    498\u001b[0m               \u001b[0mstr\u001b[0m\u001b[0;34m(\u001b[0m\u001b[0mself\u001b[0m\u001b[0;34m.\u001b[0m\u001b[0msignature\u001b[0m\u001b[0;34m.\u001b[0m\u001b[0mname\u001b[0m\u001b[0;34m)\u001b[0m\u001b[0;34m,\u001b[0m\u001b[0;34m\u001b[0m\u001b[0;34m\u001b[0m\u001b[0m\n\u001b[1;32m    499\u001b[0m               \u001b[0mnum_outputs\u001b[0m\u001b[0;34m=\u001b[0m\u001b[0mself\u001b[0m\u001b[0;34m.\u001b[0m\u001b[0m_num_outputs\u001b[0m\u001b[0;34m,\u001b[0m\u001b[0;34m\u001b[0m\u001b[0;34m\u001b[0m\u001b[0m\n",
            "\u001b[0;32m/usr/local/lib/python3.8/dist-packages/tensorflow/python/eager/execute.py\u001b[0m in \u001b[0;36mquick_execute\u001b[0;34m(op_name, num_outputs, inputs, attrs, ctx, name)\u001b[0m\n\u001b[1;32m     52\u001b[0m   \u001b[0;32mtry\u001b[0m\u001b[0;34m:\u001b[0m\u001b[0;34m\u001b[0m\u001b[0;34m\u001b[0m\u001b[0m\n\u001b[1;32m     53\u001b[0m     \u001b[0mctx\u001b[0m\u001b[0;34m.\u001b[0m\u001b[0mensure_initialized\u001b[0m\u001b[0;34m(\u001b[0m\u001b[0;34m)\u001b[0m\u001b[0;34m\u001b[0m\u001b[0;34m\u001b[0m\u001b[0m\n\u001b[0;32m---> 54\u001b[0;31m     tensors = pywrap_tfe.TFE_Py_Execute(ctx._handle, device_name, op_name,\n\u001b[0m\u001b[1;32m     55\u001b[0m                                         inputs, attrs, num_outputs)\n\u001b[1;32m     56\u001b[0m   \u001b[0;32mexcept\u001b[0m \u001b[0mcore\u001b[0m\u001b[0;34m.\u001b[0m\u001b[0m_NotOkStatusException\u001b[0m \u001b[0;32mas\u001b[0m \u001b[0me\u001b[0m\u001b[0;34m:\u001b[0m\u001b[0;34m\u001b[0m\u001b[0;34m\u001b[0m\u001b[0m\n",
            "\u001b[0;31mKeyboardInterrupt\u001b[0m: "
          ]
        }
      ],
      "source": [
        "history = model.fit(train_pr['review'],train_pr['sentiment'], epochs=10, verbose = 1,\n",
        "    validation_data= (valid_pr['review'],valid_pr['sentiment']),\n",
        "    callbacks=[model_checkpoint_callback,PlotLossesKeras()], batch_size= 32)"
      ]
    },
    {
      "cell_type": "markdown",
      "metadata": {
        "id": "95Ab-8AH5ok6"
      },
      "source": [
        "###### Evaluation Metrics"
      ]
    },
    {
      "cell_type": "code",
      "execution_count": null,
      "metadata": {
        "id": "Uyi-GfyH5ok7"
      },
      "outputs": [],
      "source": [
        "import matplotlib.pyplot as plt\n",
        "import numpy as np\n",
        "from sklearn.metrics import f1_score, confusion_matrix, ConfusionMatrixDisplay, accuracy_score, precision_score, recall_score"
      ]
    },
    {
      "cell_type": "code",
      "execution_count": null,
      "metadata": {
        "id": "8jc6zMme5ok7"
      },
      "outputs": [],
      "source": [
        "acc = history.history['binary_accuracy']\n",
        "val_acc = history.history['val_binary_accuracy']\n",
        "loss = history.history['loss']\n",
        "val_loss = history.history['val_loss']"
      ]
    },
    {
      "cell_type": "code",
      "execution_count": null,
      "metadata": {
        "id": "iHnLPrCp5ok7"
      },
      "outputs": [],
      "source": [
        "epochs = range(1, len(acc) + 1)\n",
        "\n",
        "plt.plot(epochs, acc, 'b--', label='Training acc')\n",
        "plt.plot(epochs, val_acc, 'r', label='Validation acc')\n",
        "plt.title('Training and validation accuracy')\n",
        "plt.legend()\n",
        "\n",
        "plt.figure()\n",
        "\n",
        "plt.plot(epochs, loss, 'b--', label='Training loss')\n",
        "plt.plot(epochs, val_loss, 'r', label='Validation loss')\n",
        "plt.title('Training and validation loss')\n",
        "plt.legend()\n",
        "\n",
        "plt.show()"
      ]
    },
    {
      "cell_type": "code",
      "execution_count": null,
      "metadata": {
        "colab": {
          "base_uri": "https://localhost:8080/"
        },
        "id": "QsKmhnWN5ok8",
        "outputId": "43b2f3f1-c405-40e9-b322-adc2bbe244b1"
      },
      "outputs": [
        {
          "name": "stdout",
          "output_type": "stream",
          "text": [
            "63/63 [==============================] - 875s 14s/step\n"
          ]
        }
      ],
      "source": [
        "y_probs = model.predict(test_pr['review'])"
      ]
    },
    {
      "cell_type": "code",
      "execution_count": null,
      "metadata": {
        "id": "fRogNT5j5ok8"
      },
      "outputs": [],
      "source": [
        "y_preds = y_probs.flatten()\n",
        "y_preds = np.where(y_preds > 0.5, 1, 0)"
      ]
    },
    {
      "cell_type": "code",
      "execution_count": null,
      "metadata": {
        "id": "Gk4UmFzk5ok8"
      },
      "outputs": [],
      "source": [
        "yh = test_pr['sentiment']\n",
        "f1 = f1_score(yh, y_preds)\n",
        "cm = confusion_matrix(yh, y_preds, labels=[0,1])\n",
        "accuracy = accuracy_score(yh, y_preds)\n",
        "precision = precision_score(yh, y_preds)\n",
        "recall = recall_score(yh, y_preds)\n",
        "specificity = cm[1,1]/(cm[1,0]+cm[1,1])"
      ]
    },
    {
      "cell_type": "code",
      "execution_count": null,
      "metadata": {
        "colab": {
          "base_uri": "https://localhost:8080/"
        },
        "id": "1-m_8UoZ5ok8",
        "outputId": "d92f3bcc-c316-4a73-c368-88149ff56e44"
      },
      "outputs": [
        {
          "name": "stdout",
          "output_type": "stream",
          "text": [
            "F1 Score   -->  0.682\n",
            "Accuracy   -->  0.518\n",
            "Precision  -->  0.518\n",
            "Specificty -->  1.0\n",
            "Recall     -->  1.0\n",
            "Confusion Matrix :\n",
            " [[   0  965]\n",
            " [   0 1035]]\n"
          ]
        }
      ],
      "source": [
        "print(\"F1 Score   --> \", round(f1,3))\n",
        "print(\"Accuracy   --> \", round(accuracy,3))\n",
        "print(\"Precision  --> \", round(precision,3))\n",
        "print(\"Specificty --> \", round(specificity,3))\n",
        "print(\"Recall     --> \", round(recall,3))\n",
        "print(\"Confusion Matrix :\\n\", cm)"
      ]
    },
    {
      "cell_type": "code",
      "execution_count": null,
      "metadata": {
        "colab": {
          "base_uri": "https://localhost:8080/",
          "height": 260
        },
        "id": "rz1gcWCb5ok8",
        "outputId": "04e506d4-29e8-4959-d068-8be4f37f1aae"
      },
      "outputs": [
        {
          "data": {
            "image/png": "[encoded data removed]",
            "text/plain": [
              "<Figure size 288x288 with 2 Axes>"
            ]
          },
          "metadata": {},
          "output_type": "display_data"
        }
      ],
      "source": [
        "disp=ConfusionMatrixDisplay(confusion_matrix=cm,display_labels=['negative','positive'])\n",
        "fig, ax = plt.subplots(figsize=(4,4))\n",
        "disp.plot(ax=ax)\n",
        "plt.show()"
      ]
    },
    {
      "cell_type": "markdown",
      "metadata": {
        "id": "FR6khSZC-nvq"
      },
      "source": [
        "##### 2. Normal Data"
      ]
    },
    {
      "cell_type": "markdown",
      "metadata": {
        "id": "TkRt8cP5-qV4"
      },
      "source": [
        "###### Training"
      ]
    },
    {
      "cell_type": "code",
      "execution_count": null,
      "metadata": {
        "id": "N0JtIDyi-pu5"
      },
      "outputs": [],
      "source": [
        "path = \"/content/drive/MyDrive/rnn/roberta_normal_callback.ckpt\""
      ]
    },
    {
      "cell_type": "code",
      "source": [
        "model.load_weights(path)"
      ],
      "metadata": {
        "colab": {
          "base_uri": "https://localhost:8080/"
        },
        "id": "sOVGKKync9Mr",
        "outputId": "28d5965e-9bbf-41dd-f5b4-f67c5e11026d"
      },
      "execution_count": null,
      "outputs": [
        {
          "output_type": "execute_result",
          "data": {
            "text/plain": [
              "<tensorflow.python.training.tracking.util.CheckpointLoadStatus at 0x7f6c6fa67be0>"
            ]
          },
          "metadata": {},
          "execution_count": 23
        }
      ]
    },
    {
      "cell_type": "code",
      "execution_count": null,
      "metadata": {
        "id": "bQGuhHODiOBd"
      },
      "outputs": [],
      "source": [
        "model.compile(optimizer=AdamW(learning_rate=3e-4, weight_decay= 0.004),\n",
        " loss='binary_crossentropy',\n",
        " metrics=['binary_accuracy'])"
      ]
    },
    {
      "cell_type": "code",
      "execution_count": null,
      "metadata": {
        "id": "6gbKlSlu-0xt"
      },
      "outputs": [],
      "source": [
        "model_checkpoint_callback = ModelCheckpoint(\n",
        "   filepath= path,\n",
        "   monitor='val_binary_accuracy',\n",
        "    verbose=1, \n",
        "    steps_per_execution=3,\n",
        "    save_weights_only=True,\n",
        "    save_freq=1,\n",
        "    save_best_only=False)"
      ]
    },
    {
      "cell_type": "code",
      "execution_count": null,
      "metadata": {
        "id": "u-yhEmk--1vn",
        "colab": {
          "base_uri": "https://localhost:8080/"
        },
        "outputId": "385762a7-5228-4759-d9b1-5b5df59e0a3b"
      },
      "outputs": [
        {
          "output_type": "stream",
          "name": "stdout",
          "text": [
            "Epoch 1/10\n",
            "\n",
            "Epoch 1: saving model to /content/drive/MyDrive/rnn/roberta_normal_callback.ckpt\n",
            "  1/219 [..............................] - ETA: 4:02:13 - loss: 0.6931 - binary_accuracy: 0.5938\n",
            "Epoch 1: saving model to /content/drive/MyDrive/rnn/roberta_normal_callback.ckpt\n",
            "  2/219 [..............................] - ETA: 3:53:05 - loss: 0.6930 - binary_accuracy: 0.6250\n",
            "Epoch 1: saving model to /content/drive/MyDrive/rnn/roberta_normal_callback.ckpt\n",
            "  3/219 [..............................] - ETA: 3:44:28 - loss: 0.6931 - binary_accuracy: 0.5729\n",
            "Epoch 1: saving model to /content/drive/MyDrive/rnn/roberta_normal_callback.ckpt\n",
            "  4/219 [..............................] - ETA: 3:52:14 - loss: 0.6930 - binary_accuracy: 0.5781\n",
            "Epoch 1: saving model to /content/drive/MyDrive/rnn/roberta_normal_callback.ckpt\n",
            "  5/219 [..............................] - ETA: 3:35:03 - loss: 0.6931 - binary_accuracy: 0.5625\n",
            "Epoch 1: saving model to /content/drive/MyDrive/rnn/roberta_normal_callback.ckpt\n",
            "  6/219 [..............................] - ETA: 3:30:07 - loss: 0.6930 - binary_accuracy: 0.5781\n",
            "Epoch 1: saving model to /content/drive/MyDrive/rnn/roberta_normal_callback.ckpt\n",
            "  7/219 [..............................] - ETA: 3:27:56 - loss: 0.6930 - binary_accuracy: 0.5714\n",
            "Epoch 1: saving model to /content/drive/MyDrive/rnn/roberta_normal_callback.ckpt\n",
            "  8/219 [>.............................] - ETA: 3:13:10 - loss: 0.6930 - binary_accuracy: 0.5625\n",
            "Epoch 1: saving model to /content/drive/MyDrive/rnn/roberta_normal_callback.ckpt\n",
            "  9/219 [>.............................] - ETA: 3:19:28 - loss: 0.6930 - binary_accuracy: 0.5521\n",
            "Epoch 1: saving model to /content/drive/MyDrive/rnn/roberta_normal_callback.ckpt\n",
            " 10/219 [>.............................] - ETA: 3:28:48 - loss: 0.6930 - binary_accuracy: 0.5562\n",
            "Epoch 1: saving model to /content/drive/MyDrive/rnn/roberta_normal_callback.ckpt\n",
            " 11/219 [>.............................] - ETA: 3:32:23 - loss: 0.6931 - binary_accuracy: 0.5341\n",
            "Epoch 1: saving model to /content/drive/MyDrive/rnn/roberta_normal_callback.ckpt\n",
            " 12/219 [>.............................] - ETA: 3:32:49 - loss: 0.6931 - binary_accuracy: 0.5260\n",
            "Epoch 1: saving model to /content/drive/MyDrive/rnn/roberta_normal_callback.ckpt\n",
            " 13/219 [>.............................] - ETA: 3:27:20 - loss: 0.6931 - binary_accuracy: 0.5337\n",
            "Epoch 1: saving model to /content/drive/MyDrive/rnn/roberta_normal_callback.ckpt\n",
            " 14/219 [>.............................] - ETA: 3:21:19 - loss: 0.6931 - binary_accuracy: 0.5223\n",
            "Epoch 1: saving model to /content/drive/MyDrive/rnn/roberta_normal_callback.ckpt\n",
            " 15/219 [=>............................] - ETA: 3:22:18 - loss: 0.6931 - binary_accuracy: 0.5208\n",
            "Epoch 1: saving model to /content/drive/MyDrive/rnn/roberta_normal_callback.ckpt\n",
            " 16/219 [=>............................] - ETA: 3:22:19 - loss: 0.6931 - binary_accuracy: 0.5156\n",
            "Epoch 1: saving model to /content/drive/MyDrive/rnn/roberta_normal_callback.ckpt\n",
            " 17/219 [=>............................] - ETA: 3:21:21 - loss: 0.6931 - binary_accuracy: 0.5165\n",
            "Epoch 1: saving model to /content/drive/MyDrive/rnn/roberta_normal_callback.ckpt\n",
            " 18/219 [=>............................] - ETA: 3:32:12 - loss: 0.6931 - binary_accuracy: 0.5243\n",
            "Epoch 1: saving model to /content/drive/MyDrive/rnn/roberta_normal_callback.ckpt\n",
            " 19/219 [=>............................] - ETA: 3:34:54 - loss: 0.6931 - binary_accuracy: 0.5181\n",
            "Epoch 1: saving model to /content/drive/MyDrive/rnn/roberta_normal_callback.ckpt\n",
            " 20/219 [=>............................] - ETA: 3:30:29 - loss: 0.6931 - binary_accuracy: 0.5203\n",
            "Epoch 1: saving model to /content/drive/MyDrive/rnn/roberta_normal_callback.ckpt\n",
            " 21/219 [=>............................] - ETA: 3:26:59 - loss: 0.6931 - binary_accuracy: 0.5223\n",
            "Epoch 1: saving model to /content/drive/MyDrive/rnn/roberta_normal_callback.ckpt\n",
            " 22/219 [==>...........................] - ETA: 3:27:27 - loss: 0.6931 - binary_accuracy: 0.5312\n",
            "Epoch 1: saving model to /content/drive/MyDrive/rnn/roberta_normal_callback.ckpt\n",
            " 23/219 [==>...........................] - ETA: 3:32:45 - loss: 0.6931 - binary_accuracy: 0.5285\n",
            "Epoch 1: saving model to /content/drive/MyDrive/rnn/roberta_normal_callback.ckpt\n",
            " 24/219 [==>...........................] - ETA: 3:35:26 - loss: 0.6931 - binary_accuracy: 0.5286\n",
            "Epoch 1: saving model to /content/drive/MyDrive/rnn/roberta_normal_callback.ckpt\n",
            " 25/219 [==>...........................] - ETA: 3:31:37 - loss: 0.6931 - binary_accuracy: 0.5312\n",
            "Epoch 1: saving model to /content/drive/MyDrive/rnn/roberta_normal_callback.ckpt\n",
            " 26/219 [==>...........................] - ETA: 3:29:10 - loss: 0.6931 - binary_accuracy: 0.5288\n",
            "Epoch 1: saving model to /content/drive/MyDrive/rnn/roberta_normal_callback.ckpt\n",
            " 27/219 [==>...........................] - ETA: 3:27:32 - loss: 0.6931 - binary_accuracy: 0.5266\n",
            "Epoch 1: saving model to /content/drive/MyDrive/rnn/roberta_normal_callback.ckpt\n",
            " 28/219 [==>...........................] - ETA: 3:24:15 - loss: 0.6931 - binary_accuracy: 0.5290\n",
            "Epoch 1: saving model to /content/drive/MyDrive/rnn/roberta_normal_callback.ckpt\n",
            " 29/219 [==>...........................] - ETA: 3:23:06 - loss: 0.6931 - binary_accuracy: 0.5291\n",
            "Epoch 1: saving model to /content/drive/MyDrive/rnn/roberta_normal_callback.ckpt\n",
            " 30/219 [===>..........................] - ETA: 3:21:24 - loss: 0.6931 - binary_accuracy: 0.5260\n",
            "Epoch 1: saving model to /content/drive/MyDrive/rnn/roberta_normal_callback.ckpt\n",
            " 31/219 [===>..........................] - ETA: 3:19:52 - loss: 0.6931 - binary_accuracy: 0.5252\n",
            "Epoch 1: saving model to /content/drive/MyDrive/rnn/roberta_normal_callback.ckpt\n",
            " 32/219 [===>..........................] - ETA: 3:17:03 - loss: 0.6931 - binary_accuracy: 0.5244\n",
            "Epoch 1: saving model to /content/drive/MyDrive/rnn/roberta_normal_callback.ckpt\n",
            " 33/219 [===>..........................] - ETA: 3:15:09 - loss: 0.6931 - binary_accuracy: 0.5180\n",
            "Epoch 1: saving model to /content/drive/MyDrive/rnn/roberta_normal_callback.ckpt\n",
            " 34/219 [===>..........................] - ETA: 3:12:40 - loss: 0.6931 - binary_accuracy: 0.5156\n",
            "Epoch 1: saving model to /content/drive/MyDrive/rnn/roberta_normal_callback.ckpt\n",
            " 35/219 [===>..........................] - ETA: 3:09:47 - loss: 0.6931 - binary_accuracy: 0.5152\n",
            "Epoch 1: saving model to /content/drive/MyDrive/rnn/roberta_normal_callback.ckpt\n",
            " 36/219 [===>..........................] - ETA: 3:09:17 - loss: 0.6931 - binary_accuracy: 0.5156\n",
            "Epoch 1: saving model to /content/drive/MyDrive/rnn/roberta_normal_callback.ckpt\n",
            " 37/219 [====>.........................] - ETA: 3:08:18 - loss: 0.6931 - binary_accuracy: 0.5110\n",
            "Epoch 1: saving model to /content/drive/MyDrive/rnn/roberta_normal_callback.ckpt\n",
            " 38/219 [====>.........................] - ETA: 3:06:42 - loss: 0.6931 - binary_accuracy: 0.5115\n",
            "Epoch 1: saving model to /content/drive/MyDrive/rnn/roberta_normal_callback.ckpt\n",
            " 39/219 [====>.........................] - ETA: 3:05:31 - loss: 0.6931 - binary_accuracy: 0.5104\n",
            "Epoch 1: saving model to /content/drive/MyDrive/rnn/roberta_normal_callback.ckpt\n",
            " 40/219 [====>.........................] - ETA: 3:05:29 - loss: 0.6931 - binary_accuracy: 0.5102\n",
            "Epoch 1: saving model to /content/drive/MyDrive/rnn/roberta_normal_callback.ckpt\n",
            " 41/219 [====>.........................] - ETA: 3:03:59 - loss: 0.6931 - binary_accuracy: 0.5099\n",
            "Epoch 1: saving model to /content/drive/MyDrive/rnn/roberta_normal_callback.ckpt\n",
            " 42/219 [====>.........................] - ETA: 3:03:21 - loss: 0.6931 - binary_accuracy: 0.5097\n",
            "Epoch 1: saving model to /content/drive/MyDrive/rnn/roberta_normal_callback.ckpt\n",
            " 43/219 [====>.........................] - ETA: 3:02:20 - loss: 0.6931 - binary_accuracy: 0.5124\n",
            "Epoch 1: saving model to /content/drive/MyDrive/rnn/roberta_normal_callback.ckpt\n",
            " 44/219 [=====>........................] - ETA: 3:02:28 - loss: 0.6931 - binary_accuracy: 0.5064\n",
            "Epoch 1: saving model to /content/drive/MyDrive/rnn/roberta_normal_callback.ckpt\n",
            " 45/219 [=====>........................] - ETA: 3:02:19 - loss: 0.6931 - binary_accuracy: 0.5035\n",
            "Epoch 1: saving model to /content/drive/MyDrive/rnn/roberta_normal_callback.ckpt\n",
            " 46/219 [=====>........................] - ETA: 3:02:05 - loss: 0.6931 - binary_accuracy: 0.5034\n",
            "Epoch 1: saving model to /content/drive/MyDrive/rnn/roberta_normal_callback.ckpt\n",
            " 47/219 [=====>........................] - ETA: 3:02:30 - loss: 0.6931 - binary_accuracy: 0.5033\n",
            "Epoch 1: saving model to /content/drive/MyDrive/rnn/roberta_normal_callback.ckpt\n",
            " 48/219 [=====>........................] - ETA: 3:01:51 - loss: 0.6931 - binary_accuracy: 0.5020\n",
            "Epoch 1: saving model to /content/drive/MyDrive/rnn/roberta_normal_callback.ckpt\n",
            " 49/219 [=====>........................] - ETA: 3:00:13 - loss: 0.6931 - binary_accuracy: 0.4994\n",
            "Epoch 1: saving model to /content/drive/MyDrive/rnn/roberta_normal_callback.ckpt\n",
            " 50/219 [=====>........................] - ETA: 2:57:08 - loss: 0.6931 - binary_accuracy: 0.4981\n",
            "Epoch 1: saving model to /content/drive/MyDrive/rnn/roberta_normal_callback.ckpt\n",
            " 51/219 [=====>........................] - ETA: 2:55:32 - loss: 0.6931 - binary_accuracy: 0.4994\n",
            "Epoch 1: saving model to /content/drive/MyDrive/rnn/roberta_normal_callback.ckpt\n",
            " 52/219 [======>.......................] - ETA: 2:54:39 - loss: 0.6931 - binary_accuracy: 0.5000\n",
            "Epoch 1: saving model to /content/drive/MyDrive/rnn/roberta_normal_callback.ckpt\n",
            " 53/219 [======>.......................] - ETA: 2:53:18 - loss: 0.6931 - binary_accuracy: 0.4982\n",
            "Epoch 1: saving model to /content/drive/MyDrive/rnn/roberta_normal_callback.ckpt\n",
            " 54/219 [======>.......................] - ETA: 2:53:15 - loss: 0.6931 - binary_accuracy: 0.5006\n",
            "Epoch 1: saving model to /content/drive/MyDrive/rnn/roberta_normal_callback.ckpt\n",
            " 55/219 [======>.......................] - ETA: 2:51:51 - loss: 0.6932 - binary_accuracy: 0.4989\n",
            "Epoch 1: saving model to /content/drive/MyDrive/rnn/roberta_normal_callback.ckpt\n",
            " 56/219 [======>.......................] - ETA: 2:50:39 - loss: 0.6932 - binary_accuracy: 0.4983\n",
            "Epoch 1: saving model to /content/drive/MyDrive/rnn/roberta_normal_callback.ckpt\n",
            " 57/219 [======>.......................] - ETA: 2:49:13 - loss: 0.6932 - binary_accuracy: 0.4973\n",
            "Epoch 1: saving model to /content/drive/MyDrive/rnn/roberta_normal_callback.ckpt\n",
            " 58/219 [======>.......................] - ETA: 2:48:07 - loss: 0.6932 - binary_accuracy: 0.4962\n",
            "Epoch 1: saving model to /content/drive/MyDrive/rnn/roberta_normal_callback.ckpt\n",
            " 59/219 [=======>......................] - ETA: 2:46:33 - loss: 0.6932 - binary_accuracy: 0.4936\n",
            "Epoch 1: saving model to /content/drive/MyDrive/rnn/roberta_normal_callback.ckpt\n",
            " 60/219 [=======>......................] - ETA: 2:45:48 - loss: 0.6931 - binary_accuracy: 0.4953\n",
            "Epoch 1: saving model to /content/drive/MyDrive/rnn/roberta_normal_callback.ckpt\n",
            " 61/219 [=======>......................] - ETA: 2:44:11 - loss: 0.6931 - binary_accuracy: 0.4959\n",
            "Epoch 1: saving model to /content/drive/MyDrive/rnn/roberta_normal_callback.ckpt\n",
            " 62/219 [=======>......................] - ETA: 2:42:14 - loss: 0.6932 - binary_accuracy: 0.4950\n",
            "Epoch 1: saving model to /content/drive/MyDrive/rnn/roberta_normal_callback.ckpt\n",
            " 63/219 [=======>......................] - ETA: 2:42:07 - loss: 0.6932 - binary_accuracy: 0.4921\n",
            "Epoch 1: saving model to /content/drive/MyDrive/rnn/roberta_normal_callback.ckpt\n",
            " 64/219 [=======>......................] - ETA: 2:40:22 - loss: 0.6932 - binary_accuracy: 0.4917\n",
            "Epoch 1: saving model to /content/drive/MyDrive/rnn/roberta_normal_callback.ckpt\n",
            " 65/219 [=======>......................] - ETA: 2:38:42 - loss: 0.6932 - binary_accuracy: 0.4899\n",
            "Epoch 1: saving model to /content/drive/MyDrive/rnn/roberta_normal_callback.ckpt\n",
            " 66/219 [========>.....................] - ETA: 2:38:02 - loss: 0.6932 - binary_accuracy: 0.4929\n",
            "Epoch 1: saving model to /content/drive/MyDrive/rnn/roberta_normal_callback.ckpt\n",
            " 67/219 [========>.....................] - ETA: 2:36:40 - loss: 0.6931 - binary_accuracy: 0.4944\n",
            "Epoch 1: saving model to /content/drive/MyDrive/rnn/roberta_normal_callback.ckpt\n",
            " 68/219 [========>.....................] - ETA: 2:34:33 - loss: 0.6931 - binary_accuracy: 0.4949\n",
            "Epoch 1: saving model to /content/drive/MyDrive/rnn/roberta_normal_callback.ckpt\n",
            " 69/219 [========>.....................] - ETA: 2:32:28 - loss: 0.6932 - binary_accuracy: 0.4932\n",
            "Epoch 1: saving model to /content/drive/MyDrive/rnn/roberta_normal_callback.ckpt\n",
            " 70/219 [========>.....................] - ETA: 2:30:37 - loss: 0.6932 - binary_accuracy: 0.4906\n",
            "Epoch 1: saving model to /content/drive/MyDrive/rnn/roberta_normal_callback.ckpt\n",
            " 71/219 [========>.....................] - ETA: 2:30:28 - loss: 0.6932 - binary_accuracy: 0.4908\n",
            "Epoch 1: saving model to /content/drive/MyDrive/rnn/roberta_normal_callback.ckpt\n",
            " 72/219 [========>.....................] - ETA: 2:28:46 - loss: 0.6932 - binary_accuracy: 0.4891\n",
            "Epoch 1: saving model to /content/drive/MyDrive/rnn/roberta_normal_callback.ckpt\n",
            " 73/219 [=========>....................] - ETA: 2:27:23 - loss: 0.6932 - binary_accuracy: 0.4889\n",
            "Epoch 1: saving model to /content/drive/MyDrive/rnn/roberta_normal_callback.ckpt\n",
            " 74/219 [=========>....................] - ETA: 2:25:33 - loss: 0.6932 - binary_accuracy: 0.4890\n",
            "Epoch 1: saving model to /content/drive/MyDrive/rnn/roberta_normal_callback.ckpt\n",
            " 75/219 [=========>....................] - ETA: 2:25:26 - loss: 0.6932 - binary_accuracy: 0.4896\n",
            "Epoch 1: saving model to /content/drive/MyDrive/rnn/roberta_normal_callback.ckpt\n",
            " 76/219 [=========>....................] - ETA: 2:23:53 - loss: 0.6932 - binary_accuracy: 0.4905\n",
            "Epoch 1: saving model to /content/drive/MyDrive/rnn/roberta_normal_callback.ckpt\n",
            " 77/219 [=========>....................] - ETA: 2:22:22 - loss: 0.6932 - binary_accuracy: 0.4907\n",
            "Epoch 1: saving model to /content/drive/MyDrive/rnn/roberta_normal_callback.ckpt\n",
            " 78/219 [=========>....................] - ETA: 2:21:58 - loss: 0.6932 - binary_accuracy: 0.4920\n",
            "Epoch 1: saving model to /content/drive/MyDrive/rnn/roberta_normal_callback.ckpt\n",
            " 79/219 [=========>....................] - ETA: 2:20:30 - loss: 0.6932 - binary_accuracy: 0.4929\n",
            "Epoch 1: saving model to /content/drive/MyDrive/rnn/roberta_normal_callback.ckpt\n",
            " 80/219 [=========>....................] - ETA: 2:19:21 - loss: 0.6932 - binary_accuracy: 0.4926\n",
            "Epoch 1: saving model to /content/drive/MyDrive/rnn/roberta_normal_callback.ckpt\n",
            " 81/219 [==========>...................] - ETA: 2:18:44 - loss: 0.6932 - binary_accuracy: 0.4927\n",
            "Epoch 1: saving model to /content/drive/MyDrive/rnn/roberta_normal_callback.ckpt\n",
            " 82/219 [==========>...................] - ETA: 2:17:47 - loss: 0.6932 - binary_accuracy: 0.4928\n",
            "Epoch 1: saving model to /content/drive/MyDrive/rnn/roberta_normal_callback.ckpt\n",
            " 83/219 [==========>...................] - ETA: 2:16:33 - loss: 0.6932 - binary_accuracy: 0.4917\n",
            "Epoch 1: saving model to /content/drive/MyDrive/rnn/roberta_normal_callback.ckpt\n",
            " 84/219 [==========>...................] - ETA: 2:15:09 - loss: 0.6932 - binary_accuracy: 0.4914\n",
            "Epoch 1: saving model to /content/drive/MyDrive/rnn/roberta_normal_callback.ckpt\n",
            " 85/219 [==========>...................] - ETA: 2:14:41 - loss: 0.6932 - binary_accuracy: 0.4930\n",
            "Epoch 1: saving model to /content/drive/MyDrive/rnn/roberta_normal_callback.ckpt\n",
            " 86/219 [==========>...................] - ETA: 2:13:04 - loss: 0.6932 - binary_accuracy: 0.4924\n",
            "Epoch 1: saving model to /content/drive/MyDrive/rnn/roberta_normal_callback.ckpt\n",
            " 87/219 [==========>...................] - ETA: 2:12:35 - loss: 0.6932 - binary_accuracy: 0.4928\n",
            "Epoch 1: saving model to /content/drive/MyDrive/rnn/roberta_normal_callback.ckpt\n",
            " 88/219 [===========>..................] - ETA: 2:11:52 - loss: 0.6932 - binary_accuracy: 0.4950\n",
            "Epoch 1: saving model to /content/drive/MyDrive/rnn/roberta_normal_callback.ckpt\n",
            " 89/219 [===========>..................] - ETA: 2:11:23 - loss: 0.6932 - binary_accuracy: 0.4947\n",
            "Epoch 1: saving model to /content/drive/MyDrive/rnn/roberta_normal_callback.ckpt\n",
            " 90/219 [===========>..................] - ETA: 2:10:03 - loss: 0.6932 - binary_accuracy: 0.4948\n",
            "Epoch 1: saving model to /content/drive/MyDrive/rnn/roberta_normal_callback.ckpt\n",
            " 91/219 [===========>..................] - ETA: 2:08:49 - loss: 0.6932 - binary_accuracy: 0.4952\n",
            "Epoch 1: saving model to /content/drive/MyDrive/rnn/roberta_normal_callback.ckpt\n",
            " 92/219 [===========>..................] - ETA: 2:07:50 - loss: 0.6932 - binary_accuracy: 0.4939\n",
            "Epoch 1: saving model to /content/drive/MyDrive/rnn/roberta_normal_callback.ckpt\n",
            " 93/219 [===========>..................] - ETA: 2:06:29 - loss: 0.6932 - binary_accuracy: 0.4940\n",
            "Epoch 1: saving model to /content/drive/MyDrive/rnn/roberta_normal_callback.ckpt\n",
            " 94/219 [===========>..................] - ETA: 2:05:05 - loss: 0.6932 - binary_accuracy: 0.4937\n",
            "Epoch 1: saving model to /content/drive/MyDrive/rnn/roberta_normal_callback.ckpt\n",
            " 95/219 [============>.................] - ETA: 2:04:09 - loss: 0.6932 - binary_accuracy: 0.4928\n",
            "Epoch 1: saving model to /content/drive/MyDrive/rnn/roberta_normal_callback.ckpt\n",
            " 96/219 [============>.................] - ETA: 2:03:14 - loss: 0.6932 - binary_accuracy: 0.4928\n",
            "Epoch 1: saving model to /content/drive/MyDrive/rnn/roberta_normal_callback.ckpt\n",
            " 97/219 [============>.................] - ETA: 2:02:37 - loss: 0.6932 - binary_accuracy: 0.4923\n",
            "Epoch 1: saving model to /content/drive/MyDrive/rnn/roberta_normal_callback.ckpt\n",
            " 98/219 [============>.................] - ETA: 2:01:37 - loss: 0.6932 - binary_accuracy: 0.4936\n",
            "Epoch 1: saving model to /content/drive/MyDrive/rnn/roberta_normal_callback.ckpt\n",
            " 99/219 [============>.................] - ETA: 2:01:30 - loss: 0.6932 - binary_accuracy: 0.4946\n",
            "Epoch 1: saving model to /content/drive/MyDrive/rnn/roberta_normal_callback.ckpt\n",
            "100/219 [============>.................] - ETA: 2:00:41 - loss: 0.6932 - binary_accuracy: 0.4959\n",
            "Epoch 1: saving model to /content/drive/MyDrive/rnn/roberta_normal_callback.ckpt\n",
            "101/219 [============>.................] - ETA: 1:59:08 - loss: 0.6932 - binary_accuracy: 0.4960\n",
            "Epoch 1: saving model to /content/drive/MyDrive/rnn/roberta_normal_callback.ckpt\n",
            "102/219 [============>.................] - ETA: 1:58:09 - loss: 0.6931 - binary_accuracy: 0.4975\n",
            "Epoch 1: saving model to /content/drive/MyDrive/rnn/roberta_normal_callback.ckpt\n",
            "103/219 [=============>................] - ETA: 1:56:54 - loss: 0.6931 - binary_accuracy: 0.4976\n",
            "Epoch 1: saving model to /content/drive/MyDrive/rnn/roberta_normal_callback.ckpt\n",
            "104/219 [=============>................] - ETA: 1:55:33 - loss: 0.6932 - binary_accuracy: 0.4967\n",
            "Epoch 1: saving model to /content/drive/MyDrive/rnn/roberta_normal_callback.ckpt\n",
            "105/219 [=============>................] - ETA: 1:54:59 - loss: 0.6932 - binary_accuracy: 0.4970\n",
            "Epoch 1: saving model to /content/drive/MyDrive/rnn/roberta_normal_callback.ckpt\n",
            "106/219 [=============>................] - ETA: 1:53:55 - loss: 0.6932 - binary_accuracy: 0.4968\n",
            "Epoch 1: saving model to /content/drive/MyDrive/rnn/roberta_normal_callback.ckpt\n",
            "107/219 [=============>................] - ETA: 1:52:40 - loss: 0.6932 - binary_accuracy: 0.4971\n",
            "Epoch 1: saving model to /content/drive/MyDrive/rnn/roberta_normal_callback.ckpt\n",
            "108/219 [=============>................] - ETA: 1:52:01 - loss: 0.6932 - binary_accuracy: 0.4977\n",
            "Epoch 1: saving model to /content/drive/MyDrive/rnn/roberta_normal_callback.ckpt\n",
            "109/219 [=============>................] - ETA: 1:50:57 - loss: 0.6931 - binary_accuracy: 0.4983\n",
            "Epoch 1: saving model to /content/drive/MyDrive/rnn/roberta_normal_callback.ckpt\n",
            "110/219 [==============>...............] - ETA: 1:49:50 - loss: 0.6932 - binary_accuracy: 0.4977\n",
            "Epoch 1: saving model to /content/drive/MyDrive/rnn/roberta_normal_callback.ckpt\n",
            "111/219 [==============>...............] - ETA: 1:48:57 - loss: 0.6931 - binary_accuracy: 0.4983\n",
            "Epoch 1: saving model to /content/drive/MyDrive/rnn/roberta_normal_callback.ckpt\n",
            "112/219 [==============>...............] - ETA: 1:47:43 - loss: 0.6931 - binary_accuracy: 0.4980\n",
            "Epoch 1: saving model to /content/drive/MyDrive/rnn/roberta_normal_callback.ckpt\n",
            "113/219 [==============>...............] - ETA: 1:46:36 - loss: 0.6931 - binary_accuracy: 0.4983\n",
            "Epoch 1: saving model to /content/drive/MyDrive/rnn/roberta_normal_callback.ckpt\n",
            "114/219 [==============>...............] - ETA: 1:45:41 - loss: 0.6931 - binary_accuracy: 0.4992\n",
            "Epoch 1: saving model to /content/drive/MyDrive/rnn/roberta_normal_callback.ckpt\n",
            "115/219 [==============>...............] - ETA: 1:44:42 - loss: 0.6931 - binary_accuracy: 0.5003\n",
            "Epoch 1: saving model to /content/drive/MyDrive/rnn/roberta_normal_callback.ckpt\n",
            "116/219 [==============>...............] - ETA: 1:43:32 - loss: 0.6931 - binary_accuracy: 0.5008\n",
            "Epoch 1: saving model to /content/drive/MyDrive/rnn/roberta_normal_callback.ckpt\n",
            "117/219 [===============>..............] - ETA: 1:42:23 - loss: 0.6931 - binary_accuracy: 0.5000\n",
            "Epoch 1: saving model to /content/drive/MyDrive/rnn/roberta_normal_callback.ckpt\n",
            "118/219 [===============>..............] - ETA: 1:41:06 - loss: 0.6931 - binary_accuracy: 0.5003\n",
            "Epoch 1: saving model to /content/drive/MyDrive/rnn/roberta_normal_callback.ckpt\n",
            "119/219 [===============>..............] - ETA: 1:40:17 - loss: 0.6931 - binary_accuracy: 0.5021\n",
            "Epoch 1: saving model to /content/drive/MyDrive/rnn/roberta_normal_callback.ckpt\n",
            "120/219 [===============>..............] - ETA: 1:38:55 - loss: 0.6931 - binary_accuracy: 0.5029\n",
            "Epoch 1: saving model to /content/drive/MyDrive/rnn/roberta_normal_callback.ckpt\n",
            "121/219 [===============>..............] - ETA: 1:37:44 - loss: 0.6931 - binary_accuracy: 0.5031\n",
            "Epoch 1: saving model to /content/drive/MyDrive/rnn/roberta_normal_callback.ckpt\n",
            "122/219 [===============>..............] - ETA: 1:36:49 - loss: 0.6931 - binary_accuracy: 0.5023\n",
            "Epoch 1: saving model to /content/drive/MyDrive/rnn/roberta_normal_callback.ckpt\n",
            "123/219 [===============>..............] - ETA: 1:35:45 - loss: 0.6931 - binary_accuracy: 0.5018\n",
            "Epoch 1: saving model to /content/drive/MyDrive/rnn/roberta_normal_callback.ckpt\n",
            "124/219 [===============>..............] - ETA: 1:34:42 - loss: 0.6931 - binary_accuracy: 0.5018\n",
            "Epoch 1: saving model to /content/drive/MyDrive/rnn/roberta_normal_callback.ckpt\n",
            "125/219 [================>.............] - ETA: 1:33:51 - loss: 0.6931 - binary_accuracy: 0.5008\n",
            "Epoch 1: saving model to /content/drive/MyDrive/rnn/roberta_normal_callback.ckpt\n",
            "126/219 [================>.............] - ETA: 1:32:52 - loss: 0.6931 - binary_accuracy: 0.5010\n",
            "Epoch 1: saving model to /content/drive/MyDrive/rnn/roberta_normal_callback.ckpt\n",
            "127/219 [================>.............] - ETA: 1:31:47 - loss: 0.6931 - binary_accuracy: 0.5012\n",
            "Epoch 1: saving model to /content/drive/MyDrive/rnn/roberta_normal_callback.ckpt\n",
            "128/219 [================>.............] - ETA: 1:30:39 - loss: 0.6931 - binary_accuracy: 0.5022\n",
            "Epoch 1: saving model to /content/drive/MyDrive/rnn/roberta_normal_callback.ckpt\n",
            "129/219 [================>.............] - ETA: 1:29:43 - loss: 0.6931 - binary_accuracy: 0.5022\n",
            "Epoch 1: saving model to /content/drive/MyDrive/rnn/roberta_normal_callback.ckpt\n",
            "130/219 [================>.............] - ETA: 1:28:43 - loss: 0.6931 - binary_accuracy: 0.5024\n",
            "Epoch 1: saving model to /content/drive/MyDrive/rnn/roberta_normal_callback.ckpt\n",
            "131/219 [================>.............] - ETA: 1:27:31 - loss: 0.6931 - binary_accuracy: 0.5024\n",
            "Epoch 1: saving model to /content/drive/MyDrive/rnn/roberta_normal_callback.ckpt\n",
            "132/219 [=================>............] - ETA: 1:26:44 - loss: 0.6931 - binary_accuracy: 0.5017\n",
            "Epoch 1: saving model to /content/drive/MyDrive/rnn/roberta_normal_callback.ckpt\n",
            "133/219 [=================>............] - ETA: 1:25:46 - loss: 0.6931 - binary_accuracy: 0.5009\n",
            "Epoch 1: saving model to /content/drive/MyDrive/rnn/roberta_normal_callback.ckpt\n",
            "134/219 [=================>............] - ETA: 1:24:42 - loss: 0.6931 - binary_accuracy: 0.5019\n",
            "Epoch 1: saving model to /content/drive/MyDrive/rnn/roberta_normal_callback.ckpt\n",
            "135/219 [=================>............] - ETA: 1:23:40 - loss: 0.6931 - binary_accuracy: 0.5016"
          ]
        }
      ],
      "source": [
        "history = model.fit(train['review'],train['sentiment'], epochs=10, verbose = 1,\n",
        "    validation_data= (valid['review'],valid['sentiment']),\n",
        "    callbacks=[model_checkpoint_callback,PlotLossesKeras()], batch_size= 32)"
      ]
    },
    {
      "cell_type": "markdown",
      "metadata": {
        "id": "0are0nKs53i1"
      },
      "source": [
        "###### Evaluation Metrics"
      ]
    },
    {
      "cell_type": "code",
      "execution_count": null,
      "metadata": {
        "id": "bZZCMJWR53i2"
      },
      "outputs": [],
      "source": [
        "import matplotlib.pyplot as plt\n",
        "import numpy as np\n",
        "from sklearn.metrics import f1_score, confusion_matrix, ConfusionMatrixDisplay, accuracy_score, precision_score, recall_score"
      ]
    },
    {
      "cell_type": "code",
      "execution_count": null,
      "metadata": {
        "id": "W4VVLy_k53i2"
      },
      "outputs": [],
      "source": [
        "acc = history.history['binary_accuracy']\n",
        "val_acc = history.history['val_binary_accuracy']\n",
        "loss = history.history['binary_loss']\n",
        "val_loss = history.history['val_binary_loss']"
      ]
    },
    {
      "cell_type": "code",
      "execution_count": null,
      "metadata": {
        "id": "iBoPOWEy53i2"
      },
      "outputs": [],
      "source": [
        "epochs = range(1, len(acc) + 1)\n",
        "\n",
        "plt.plot(epochs, acc, 'b--', label='Training acc')\n",
        "plt.plot(epochs, val_acc, 'r', label='Validation acc')\n",
        "plt.title('Training and validation accuracy')\n",
        "plt.legend()\n",
        "\n",
        "plt.figure()\n",
        "\n",
        "plt.plot(epochs, loss, 'b--', label='Training loss')\n",
        "plt.plot(epochs, val_loss, 'r', label='Validation loss')\n",
        "plt.title('Training and validation loss')\n",
        "plt.legend()\n",
        "\n",
        "plt.show()"
      ]
    },
    {
      "cell_type": "code",
      "execution_count": null,
      "metadata": {
        "colab": {
          "base_uri": "https://localhost:8080/"
        },
        "id": "Gqj072-f53i2",
        "outputId": "e862cdeb-a00b-45c8-fac4-804cd5dc80b4"
      },
      "outputs": [
        {
          "name": "stdout",
          "output_type": "stream",
          "text": [
            "169/313 [===============>..............] - ETA: 2:05:47"
          ]
        }
      ],
      "source": [
        "y_probs = model.predict(test['review'])"
      ]
    },
    {
      "cell_type": "code",
      "execution_count": null,
      "metadata": {
        "id": "NW7P-k5A53i2"
      },
      "outputs": [],
      "source": [
        "y_preds = y_probs.flatten()\n",
        "y_preds = np.where(y_preds > 0.5, 1, 0)"
      ]
    },
    {
      "cell_type": "code",
      "execution_count": null,
      "metadata": {
        "id": "Kd_sqwDe53i3"
      },
      "outputs": [],
      "source": [
        "yh = test['sentiment']\n",
        "f1 = f1_score(yh, y_preds)\n",
        "cm = confusion_matrix(yh, y_preds, labels=[0,1])\n",
        "accuracy = accuracy_score(yh, y_preds)\n",
        "precision = precision_score(yh, y_preds)\n",
        "recall = recall_score(yh, y_preds)\n",
        "specificity = cm[1,1]/(cm[1,0]+cm[1,1])"
      ]
    },
    {
      "cell_type": "code",
      "execution_count": null,
      "metadata": {
        "id": "ucJVd_9Y53i3"
      },
      "outputs": [],
      "source": [
        "print(\"F1 Score   --> \", round(f1,3))\n",
        "print(\"Accuracy   --> \", round(accuracy,3))\n",
        "print(\"Precision  --> \", round(precision,3))\n",
        "print(\"Specificty --> \", round(specificity,3))\n",
        "print(\"Recall     --> \", round(recall,3))\n",
        "print(\"Confusion Matrix :\\n\", cm)"
      ]
    },
    {
      "cell_type": "code",
      "execution_count": null,
      "metadata": {
        "id": "rPUBuHkB53i3"
      },
      "outputs": [],
      "source": [
        "disp=ConfusionMatrixDisplay(confusion_matrix=cm,display_labels=['negative','positive'])\n",
        "fig, ax = plt.subplots(figsize=(4,4))\n",
        "disp.plot(ax=ax)\n",
        "plt.show()"
      ]
    },
    {
      "cell_type": "markdown",
      "metadata": {
        "id": "f27YMVKrSodr"
      },
      "source": [
        "# **RNN** Model From Scratch"
      ]
    },
    {
      "cell_type": "markdown",
      "metadata": {
        "id": "WT3RXZiE8rkG"
      },
      "source": [
        "### PREPROCESSED"
      ]
    },
    {
      "cell_type": "code",
      "execution_count": null,
      "metadata": {
        "id": "icUjGPJ8IVvr"
      },
      "outputs": [],
      "source": [
        "path = '/content/drive/MyDrive/rnn/rnn_callbacks.ckpt'"
      ]
    },
    {
      "cell_type": "code",
      "execution_count": null,
      "metadata": {
        "colab": {
          "base_uri": "https://localhost:8080/",
          "height": 279
        },
        "id": "EpbK_EpcB2Ep",
        "outputId": "7227757a-06ea-416d-d953-6a1f09f52f48"
      },
      "outputs": [
        {
          "name": "stdout",
          "output_type": "stream",
          "text": [
            "  Attempting uninstall: tensorflow-text\n",
            "    Found existing installation: tensorflow-text 2.9.0\n",
            "    Uninstalling tensorflow-text-2.9.0:\n",
            "      Successfully uninstalled tensorflow-text-2.9.0\n",
            "  Attempting uninstall: pyyaml\n",
            "    Found existing installation: PyYAML 6.0\n",
            "    Uninstalling PyYAML-6.0:\n",
            "      Successfully uninstalled PyYAML-6.0\n",
            "Successfully installed colorama-0.4.6 flatbuffers-22.12.6 immutabledict-2.2.3 keras-2.11.0 portalocker-2.6.0 py-cpuinfo-9.0.0 pyyaml-5.4.1 sacrebleu-2.3.1 sentencepiece-0.1.97 seqeval-1.2.2 tensorboard-2.11.0 tensorflow-2.11.0 tensorflow-addons-0.19.0 tensorflow-estimator-2.11.0 tensorflow-model-optimization-0.7.3 tensorflow-text-2.11.0 tf-models-official-2.11.2 tf-slim-1.1.0\n"
          ]
        },
        {
          "data": {
            "application/vnd.colab-display-data+json": {
              "pip_warning": {
                "packages": [
                  "flatbuffers",
                  "keras",
                  "tensorboard",
                  "tensorflow",
                  "tensorflow_estimator",
                  "tensorflow_text"
                ]
              }
            }
          },
          "metadata": {},
          "output_type": "display_data"
        }
      ],
      "source": [
        "!pip install -q tf-models-official"
      ]
    },
    {
      "cell_type": "code",
      "execution_count": null,
      "metadata": {
        "id": "_JQQmZqzS0r6"
      },
      "outputs": [],
      "source": [
        "import numpy as np\n",
        "import tensorflow as tf\n",
        "from tensorflow import keras\n",
        "from tensorflow.keras.layers.experimental.preprocessing import TextVectorization\n",
        "from keras.models import Sequential, Model\n",
        "from keras import Input\n",
        "from keras.layers import Dense, LSTM, Embedding, Dropout, Bidirectional\n",
        "from keras.optimizers import Adam, Optimizer\n",
        "from keras.losses import binary_crossentropy\n",
        "from official.nlp import optimization\n",
        "import matplotlib.pyplot as plt\n",
        "from keras.callbacks import EarlyStopping, ModelCheckpoint\n",
        "from livelossplot import PlotLossesKeras"
      ]
    },
    {
      "cell_type": "code",
      "execution_count": null,
      "metadata": {
        "id": "hLUEZMAdm4QI"
      },
      "outputs": [],
      "source": [
        "max_tokens = 1000 #vocab size\n",
        "max_len = 100\n",
        "encoder = TextVectorization(\n",
        "  max_tokens=max_tokens,\n",
        "  output_mode=\"int\",\n",
        "  output_sequence_length=max_len,\n",
        ")\n",
        "\n",
        "encoder.adapt(train_pr['review'])"
      ]
    },
    {
      "cell_type": "code",
      "execution_count": null,
      "metadata": {
        "colab": {
          "base_uri": "https://localhost:8080/",
          "height": 70
        },
        "id": "D1lJZzetVKOP",
        "outputId": "f5653cc1-8a01-4459-cfa8-087a5f47ec80"
      },
      "outputs": [
        {
          "data": {
            "application/vnd.google.colaboratory.intrinsic+json": {
              "type": "string"
            },
            "text/plain": [
              "'RNN_model = Sequential()\\nRNN_model.add(Input(shape=(1,), dtype=\"string\"))\\nRNN_model.add(encoder)\\nRNN_model.add(Embedding((max_tokens + 1), 128))\\nRNN_model.add(Bidirectional(LSTM(64,  return_sequences=True)))\\nRNN_model.add(Bidirectional(LSTM(32)))\\nRNN_model.add(Dense(64, activation=\"relu\"))\\nRNN_model.add(Dense(1, activation=\"sigmoid\"))'"
            ]
          },
          "execution_count": 33,
          "metadata": {},
          "output_type": "execute_result"
        }
      ],
      "source": [
        "i = Input(shape=(1,), dtype=\"string\")\n",
        "l = (encoder)(i)\n",
        "l = (Embedding((max_tokens + 1), 128))(l)\n",
        "l = (Bidirectional(LSTM(64,  return_sequences=True)))(l)\n",
        "l = (Bidirectional(LSTM(32)))(l)\n",
        "l = (Dense(64, activation=\"relu\")) (l)\n",
        "l = (Dense(1, activation=\"sigmoid\"))(l)\n",
        "RNN_model = Model(i, [l])"
      ]
    },
    {
      "cell_type": "code",
      "execution_count": null,
      "metadata": {
        "id": "xGjtdPN6XjF5"
      },
      "outputs": [],
      "source": [
        "epochs = 10\n",
        "train_dataset = tf.data.Dataset.from_tensor_slices(train['review'])\n",
        "steps_per_epoch = tf.data.experimental.cardinality(train_dataset).numpy()\n",
        "num_train_steps = steps_per_epoch * epochs\n",
        "num_warmup_steps = int(0.1*num_train_steps)\n",
        "\n",
        "init_lr = 3e-4\n",
        "\n",
        "optimizer = optimization.create_optimizer(init_lr=init_lr,\n",
        "                                          num_train_steps=num_train_steps,\n",
        "                                          num_warmup_steps=num_warmup_steps,\n",
        "                                          optimizer_type='adamw')"
      ]
    },
    {
      "cell_type": "code",
      "execution_count": null,
      "metadata": {
        "id": "0aRsKsMsXs43"
      },
      "outputs": [],
      "source": [
        "model_checkpoint_callback = ModelCheckpoint(\n",
        "   filepath= path,\n",
        "   monitor='val_binary_accuracy',\n",
        "    verbose=1, \n",
        "    save_weights_only=True,\n",
        "    save_best_only=True\n",
        "    )"
      ]
    },
    {
      "cell_type": "code",
      "execution_count": null,
      "metadata": {
        "colab": {
          "base_uri": "https://localhost:8080/"
        },
        "id": "5SAEA6K4fjFJ",
        "outputId": "af799d15-ed49-4bf2-8d0a-7a7d869b2a34"
      },
      "outputs": [
        {
          "name": "stderr",
          "output_type": "stream",
          "text": [
            "WARNING:tensorflow:Inconsistent references when loading the checkpoint into this object graph. For example, in the saved checkpoint object, `model.layer.weight` and `model.layer_copy.weight` reference the same variable, while in the current object these are two different variables. The referenced variables are:(<keras.layers.preprocessing.text_vectorization.TextVectorization object at 0x7f9faadb0ca0> and <keras.engine.input_layer.InputLayer object at 0x7f9fa3200dc0>).\n",
            "WARNING:tensorflow:Inconsistent references when loading the checkpoint into this object graph. For example, in the saved checkpoint object, `model.layer.weight` and `model.layer_copy.weight` reference the same variable, while in the current object these are two different variables. The referenced variables are:(<keras.layers.core.embedding.Embedding object at 0x7f9fa66d4a30> and <keras.layers.preprocessing.text_vectorization.TextVectorization object at 0x7f9faadb0ca0>).\n",
            "WARNING:tensorflow:Inconsistent references when loading the checkpoint into this object graph. For example, in the saved checkpoint object, `model.layer.weight` and `model.layer_copy.weight` reference the same variable, while in the current object these are two different variables. The referenced variables are:(<keras.layers.rnn.bidirectional.Bidirectional object at 0x7f9fa3067af0> and <keras.layers.core.embedding.Embedding object at 0x7f9fa66d4a30>).\n",
            "WARNING:tensorflow:Inconsistent references when loading the checkpoint into this object graph. For example, in the saved checkpoint object, `model.layer.weight` and `model.layer_copy.weight` reference the same variable, while in the current object these are two different variables. The referenced variables are:(<keras.layers.rnn.bidirectional.Bidirectional object at 0x7f9fa2f5d6d0> and <keras.layers.rnn.bidirectional.Bidirectional object at 0x7f9fa3067af0>).\n",
            "WARNING:tensorflow:Inconsistent references when loading the checkpoint into this object graph. For example, in the saved checkpoint object, `model.layer.weight` and `model.layer_copy.weight` reference the same variable, while in the current object these are two different variables. The referenced variables are:(<keras.layers.core.dense.Dense object at 0x7f9fa6826d60> and <keras.layers.rnn.bidirectional.Bidirectional object at 0x7f9fa2f5d6d0>).\n",
            "WARNING:tensorflow:Inconsistent references when loading the checkpoint into this object graph. For example, in the saved checkpoint object, `model.layer.weight` and `model.layer_copy.weight` reference the same variable, while in the current object these are two different variables. The referenced variables are:(<keras.layers.core.dense.Dense object at 0x7f9fa2f6fca0> and <keras.layers.core.dense.Dense object at 0x7f9fa6826d60>).\n"
          ]
        },
        {
          "data": {
            "text/plain": [
              "<tensorflow.python.checkpoint.checkpoint.CheckpointLoadStatus at 0x7f9fa2ecffa0>"
            ]
          },
          "execution_count": 35,
          "metadata": {},
          "output_type": "execute_result"
        }
      ],
      "source": [
        "RNN_model.load_weights(path)"
      ]
    },
    {
      "cell_type": "code",
      "execution_count": null,
      "metadata": {
        "id": "zAFrSZ-cXNnm"
      },
      "outputs": [],
      "source": [
        "RNN_model.compile(loss=\"binary_crossentropy\", optimizer = optimizer, metrics=[\"binary_accuracy\"])"
      ]
    },
    {
      "cell_type": "code",
      "execution_count": null,
      "metadata": {
        "colab": {
          "base_uri": "https://localhost:8080/"
        },
        "id": "lzDviM3Ri9iY",
        "outputId": "131b3af8-6b79-4451-8e92-10d6b8fe39ef"
      },
      "outputs": [
        {
          "name": "stdout",
          "output_type": "stream",
          "text": [
            "Model: \"model_1\"\n",
            "_________________________________________________________________\n",
            " Layer (type)                Output Shape              Param #   \n",
            "=================================================================\n",
            " input_1 (InputLayer)        [(None, 1)]               0         \n",
            "                                                                 \n",
            " text_vectorization (TextVec  (None, 100)              0         \n",
            " torization)                                                     \n",
            "                                                                 \n",
            " embedding (Embedding)       (None, 100, 128)          128128    \n",
            "                                                                 \n",
            " bidirectional (Bidirectiona  (None, 100, 128)         98816     \n",
            " l)                                                              \n",
            "                                                                 \n",
            " bidirectional_1 (Bidirectio  (None, 64)               41216     \n",
            " nal)                                                            \n",
            "                                                                 \n",
            " dense_1 (Dense)             (None, 64)                4160      \n",
            "                                                                 \n",
            " dense_2 (Dense)             (None, 1)                 65        \n",
            "                                                                 \n",
            "=================================================================\n",
            "Total params: 272,385\n",
            "Trainable params: 272,385\n",
            "Non-trainable params: 0\n",
            "_________________________________________________________________\n"
          ]
        }
      ],
      "source": [
        "RNN_model.summary()"
      ]
    },
    {
      "cell_type": "code",
      "execution_count": null,
      "metadata": {
        "colab": {
          "base_uri": "https://localhost:8080/",
          "height": 741
        },
        "id": "kiKe1li5VVf3",
        "outputId": "104e736d-6f7a-4fc5-cf1b-eebb42b03a77"
      },
      "outputs": [
        {
          "data": {
            "image/png": "[encoded data removed]",
            "text/plain": [
              "<Figure size 864x576 with 2 Axes>"
            ]
          },
          "metadata": {},
          "output_type": "display_data"
        },
        {
          "name": "stdout",
          "output_type": "stream",
          "text": [
            "binary_accuracy\n",
            "\ttraining         \t (min:    0.778, max:    0.778, cur:    0.778)\n",
            "\tvalidation       \t (min:    0.814, max:    0.814, cur:    0.814)\n",
            "Loss\n",
            "\ttraining         \t (min:    0.456, max:    0.456, cur:    0.456)\n",
            "\tvalidation       \t (min:    0.401, max:    0.401, cur:    0.401)\n",
            "\b\b\b\b\b\b\b\b\b\b\b\b\b\b\b\b\b\b\b\b\b\b\b\b\b\b\b\b\b\b\b\b\b\b\b\b\b\b\b\b\b\b\b\b\b\b\b\b\b\b\b\b\b\b\b\b\b\b\b\b\b\b\b\b\b\b\b\b\b\b\b\b\b\b\b\b\b\b\b\b\b\b\b\b\b\b\b\b\b\b\b\b\b\r1094/1094 [==============================] - 35s 27ms/step - loss: 0.4555 - binary_accuracy: 0.7779 - val_loss: 0.4014 - val_binary_accuracy: 0.8144\n",
            "Epoch 2/10\n",
            " 881/1094 [=======================>......] - ETA: 5s - loss: 0.3683 - binary_accuracy: 0.8374"
          ]
        }
      ],
      "source": [
        "RNN_history = RNN_model.fit(train_pr['review'],\n",
        "                            train_pr['sentiment'], \n",
        "                            epochs=10,\n",
        "                            batch_size=32,\n",
        "                            verbose=1,\n",
        "                           validation_data= (valid_pr['review'],valid_pr['sentiment']),\n",
        "                           callbacks =[model_checkpoint_callback,PlotLossesKeras()])"
      ]
    },
    {
      "cell_type": "code",
      "execution_count": null,
      "metadata": {
        "colab": {
          "base_uri": "https://localhost:8080/"
        },
        "id": "pOkcPdUVVf_-",
        "outputId": "af69a52c-01bf-47cc-8f2e-de814e657cfe"
      },
      "outputs": [
        {
          "name": "stderr",
          "output_type": "stream",
          "text": [
            "WARNING:tensorflow:AutoGraph could not transform <function Model.make_test_function.<locals>.test_function at 0x7f9bdc626700> and will run it as-is.\n",
            "Please report this to the TensorFlow team. When filing the bug, set the verbosity to 10 (on Linux, `export AUTOGRAPH_VERBOSITY=10`) and attach the full output.\n",
            "Cause: closure mismatch, requested ('self', 'step_function'), but source function had ()\n",
            "To silence this warning, decorate the function with @tf.autograph.experimental.do_not_convert\n"
          ]
        },
        {
          "name": "stdout",
          "output_type": "stream",
          "text": [
            "WARNING: AutoGraph could not transform <function Model.make_test_function.<locals>.test_function at 0x7f9bdc626700> and will run it as-is.\n",
            "Please report this to the TensorFlow team. When filing the bug, set the verbosity to 10 (on Linux, `export AUTOGRAPH_VERBOSITY=10`) and attach the full output.\n",
            "Cause: closure mismatch, requested ('self', 'step_function'), but source function had ()\n",
            "To silence this warning, decorate the function with @tf.autograph.experimental.do_not_convert\n",
            "313/313 [==============================] - 23s 61ms/step - loss: 0.4292 - binary_accuracy: 0.7951\n",
            "Test Loss: 0.429247111082077\n",
            "Test Accuracy: 0.7950999736785889\n"
          ]
        }
      ],
      "source": [
        "RNN_test_loss, RNN_test_acc = RNN_model.evaluate(test_pr['review'], test_pr['sentiment'])\n",
        "print('Test Loss:', RNN_test_loss)\n",
        "print('Test Accuracy:', RNN_test_acc)"
      ]
    },
    {
      "cell_type": "code",
      "execution_count": null,
      "metadata": {
        "id": "WrIvIuaaDmbK"
      },
      "outputs": [],
      "source": []
    },
    {
      "cell_type": "markdown",
      "metadata": {
        "id": "s-Ja3AIRDmqP"
      },
      "source": [
        "###### Evaluation Metrics"
      ]
    },
    {
      "cell_type": "code",
      "execution_count": null,
      "metadata": {
        "id": "tMVzZJrhDmqQ"
      },
      "outputs": [],
      "source": [
        "import matplotlib.pyplot as plt\n",
        "import numpy as np\n",
        "from sklearn.metrics import f1_score, confusion_matrix, ConfusionMatrixDisplay, accuracy_score, precision_score, recall_score"
      ]
    },
    {
      "cell_type": "code",
      "execution_count": null,
      "metadata": {
        "id": "TApjSjfEDyMb"
      },
      "outputs": [],
      "source": [
        "RNN_history.history"
      ]
    },
    {
      "cell_type": "code",
      "execution_count": null,
      "metadata": {
        "id": "73pJs6JPDmqQ"
      },
      "outputs": [],
      "source": [
        "acc = RNN_history.history['binary_accuracy']\n",
        "val_acc = RNN_history.history['val_binary_accuracy']\n",
        "loss = RNN_history.history['loss']\n",
        "val_loss = RNN_history.history['val_loss']"
      ]
    },
    {
      "cell_type": "code",
      "execution_count": null,
      "metadata": {
        "colab": {
          "base_uri": "https://localhost:8080/",
          "height": 545
        },
        "id": "LmN2soqMDmqQ",
        "outputId": "02893982-2edb-4422-deee-971027661cc9"
      },
      "outputs": [
        {
          "data": {
            "image/png": "[encoded data removed]",
            "text/plain": [
              "<Figure size 432x288 with 1 Axes>"
            ]
          },
          "metadata": {},
          "output_type": "display_data"
        },
        {
          "data": {
            "image/png": "[encoded data removed]",
            "text/plain": [
              "<Figure size 432x288 with 1 Axes>"
            ]
          },
          "metadata": {},
          "output_type": "display_data"
        }
      ],
      "source": [
        "epochs = range(1, len(acc) + 1)\n",
        "\n",
        "plt.plot(epochs, acc, 'b--', label='Training acc')\n",
        "plt.plot(epochs, val_acc, 'r', label='Validation acc')\n",
        "plt.title('Training and validation accuracy')\n",
        "plt.legend()\n",
        "\n",
        "plt.figure()\n",
        "\n",
        "plt.plot(epochs, loss, 'b--', label='Training loss')\n",
        "plt.plot(epochs, val_loss, 'r', label='Validation loss')\n",
        "plt.title('Training and validation loss')\n",
        "plt.legend()\n",
        "\n",
        "plt.show()"
      ]
    },
    {
      "cell_type": "code",
      "execution_count": null,
      "metadata": {
        "colab": {
          "base_uri": "https://localhost:8080/"
        },
        "id": "UWXcfCELGOBA",
        "outputId": "3f3ee08b-8acd-4b51-9d80-6ae923732639"
      },
      "outputs": [
        {
          "data": {
            "text/plain": [
              "pandas.core.series.Series"
            ]
          },
          "execution_count": 178,
          "metadata": {},
          "output_type": "execute_result"
        }
      ],
      "source": [
        "type(test_pr['review'])"
      ]
    },
    {
      "cell_type": "code",
      "execution_count": null,
      "metadata": {
        "id": "Uzi4dlHCK7Fg"
      },
      "outputs": [],
      "source": [
        "import numpy as np"
      ]
    },
    {
      "cell_type": "code",
      "execution_count": null,
      "metadata": {
        "id": "G_VIhDgIDmqR"
      },
      "outputs": [],
      "source": [
        " y_probs = RNN_model.predict_on_batch(x = np.array(test_pr['review'].values))"
      ]
    },
    {
      "cell_type": "code",
      "execution_count": null,
      "metadata": {
        "id": "ODjWHP98DmqR"
      },
      "outputs": [],
      "source": [
        "y_preds = y_probs.flatten()\n",
        "y_preds = np.where(y_preds > 0.5, 1, 0)"
      ]
    },
    {
      "cell_type": "code",
      "execution_count": null,
      "metadata": {
        "id": "AkftekyQDmqS"
      },
      "outputs": [],
      "source": [
        "yh = test_pr['sentiment']\n",
        "f1 = f1_score(yh, y_preds)\n",
        "cm = confusion_matrix(yh, y_preds, labels=[0,1])\n",
        "accuracy = accuracy_score(yh, y_preds)\n",
        "precision = precision_score(yh, y_preds)\n",
        "recall = recall_score(yh, y_preds)\n",
        "specificity = cm[1,1]/(cm[1,0]+cm[1,1])"
      ]
    },
    {
      "cell_type": "code",
      "execution_count": null,
      "metadata": {
        "colab": {
          "base_uri": "https://localhost:8080/"
        },
        "id": "cBsSrLUdDmqS",
        "outputId": "8adb4045-75d6-4691-e630-1f7ba8b04e7a"
      },
      "outputs": [
        {
          "name": "stdout",
          "output_type": "stream",
          "text": [
            "F1 Score   -->  0.79\n",
            "Accuracy   -->  0.795\n",
            "Precision  -->  0.814\n",
            "Specificty -->  0.767\n",
            "Recall     -->  0.767\n",
            "Confusion Matrix :\n",
            " [[4093  879]\n",
            " [1170 3858]]\n"
          ]
        }
      ],
      "source": [
        "print(\"F1 Score   --> \", round(f1,3))\n",
        "print(\"Accuracy   --> \", round(accuracy,3))\n",
        "print(\"Precision  --> \", round(precision,3))\n",
        "print(\"Specificty --> \", round(specificity,3))\n",
        "print(\"Recall     --> \", round(recall,3))\n",
        "print(\"Confusion Matrix :\\n\", cm)"
      ]
    },
    {
      "cell_type": "code",
      "execution_count": null,
      "metadata": {
        "colab": {
          "base_uri": "https://localhost:8080/",
          "height": 260
        },
        "id": "j30MnVjeDmqS",
        "outputId": "486389af-5da8-4844-fa1f-9a1657082313"
      },
      "outputs": [
        {
          "data": {
            "image/png": "[encoded data removed]",
            "text/plain": [
              "<Figure size 288x288 with 2 Axes>"
            ]
          },
          "metadata": {},
          "output_type": "display_data"
        }
      ],
      "source": [
        "disp=ConfusionMatrixDisplay(confusion_matrix=cm,display_labels=['negative','positive'])\n",
        "fig, ax = plt.subplots(figsize=(4,4))\n",
        "disp.plot(ax=ax)\n",
        "plt.show()"
      ]
    },
    {
      "cell_type": "markdown",
      "metadata": {
        "id": "wxK8hZoA8viL"
      },
      "source": [
        "### NORMAL"
      ]
    },
    {
      "cell_type": "code",
      "execution_count": null,
      "metadata": {
        "id": "x9120j2K825G"
      },
      "outputs": [],
      "source": [
        "import numpy as np\n",
        "import tensorflow as tf\n",
        "from tensorflow import keras\n",
        "from tensorflow.keras.layers.experimental.preprocessing import TextVectorization\n",
        "from keras.models import Sequential\n",
        "from keras import Input\n",
        "from keras.layers import Dense, LSTM, Embedding, Dropout, Bidirectional\n",
        "from keras.optimizers import Adam, Optimizer\n",
        "from keras.losses import binary_crossentropy\n",
        "from official.nlp import optimization\n",
        "import matplotlib.pyplot as plt\n",
        "from keras.callbacks import EarlyStopping, ModelCheckpoint\n",
        "from livelossplot import PlotLossesKeras"
      ]
    },
    {
      "cell_type": "code",
      "execution_count": null,
      "metadata": {
        "id": "dPkEdf7BIpBg"
      },
      "outputs": [],
      "source": [
        "path = '/content/drive/MyDrive/rnn/rnn_nrm_callbacks.ckpt'"
      ]
    },
    {
      "cell_type": "code",
      "execution_count": null,
      "metadata": {
        "id": "OolaY-32825H"
      },
      "outputs": [],
      "source": [
        "max_tokens = 1000 #vocab size\n",
        "max_len = 100\n",
        "encoder = TextVectorization(\n",
        "  max_tokens=max_tokens,\n",
        "  output_mode=\"int\",\n",
        "  output_sequence_length=max_len,\n",
        ")\n",
        "\n",
        "encoder.adapt(train['review'])"
      ]
    },
    {
      "cell_type": "code",
      "execution_count": null,
      "metadata": {
        "id": "-g0UIKDm825H"
      },
      "outputs": [],
      "source": [
        "i = Input(shape=(1,), dtype=\"string\")\n",
        "l = (encoder)(i)\n",
        "l = (Embedding((max_tokens + 1), 128))(l)\n",
        "l = (Bidirectional(LSTM(64,  return_sequences=True)))(l)\n",
        "l = (Bidirectional(LSTM(32)))(l)\n",
        "l = (Dense(64, activation=\"relu\")) (l)\n",
        "l = (Dense(1, activation=\"sigmoid\"))(l)\n",
        "RNN_model = Model(i, [l])"
      ]
    },
    {
      "cell_type": "code",
      "execution_count": null,
      "metadata": {
        "id": "8aG5BaLR825H"
      },
      "outputs": [],
      "source": [
        "epochs = 10\n",
        "train_dataset = tf.data.Dataset.from_tensor_slices(train['review'])\n",
        "steps_per_epoch = tf.data.experimental.cardinality(train_dataset).numpy()\n",
        "num_train_steps = steps_per_epoch * epochs\n",
        "num_warmup_steps = int(0.1*num_train_steps)\n",
        "\n",
        "init_lr = 3e-4\n",
        "\n",
        "optimizer = optimization.create_optimizer(init_lr=init_lr,\n",
        "                                          num_train_steps=num_train_steps,\n",
        "                                          num_warmup_steps=num_warmup_steps,\n",
        "                                          optimizer_type='adamw')"
      ]
    },
    {
      "cell_type": "code",
      "execution_count": null,
      "metadata": {
        "id": "xuKVDrDR825H"
      },
      "outputs": [],
      "source": [
        "stop_early = EarlyStopping(\n",
        "    patience=5,\n",
        "    monitor='val_accuracy',\n",
        "    restore_best_weights=True, \n",
        ")"
      ]
    },
    {
      "cell_type": "code",
      "execution_count": null,
      "metadata": {
        "id": "XfWA8PN8825H"
      },
      "outputs": [],
      "source": [
        "RNN_model.compile(loss=\"binary_crossentropy\", optimizer = optimizer, metrics=[\"accuracy\"])"
      ]
    },
    {
      "cell_type": "code",
      "execution_count": null,
      "metadata": {
        "colab": {
          "base_uri": "https://localhost:8080/"
        },
        "id": "r6bfoCNW825H",
        "outputId": "b5fe338e-8e2f-4e53-ef26-a89e6da6cd90"
      },
      "outputs": [
        {
          "name": "stdout",
          "output_type": "stream",
          "text": [
            "Model: \"sequential_13\"\n",
            "_________________________________________________________________\n",
            " Layer (type)                Output Shape              Param #   \n",
            "=================================================================\n",
            " text_vectorization_16 (Text  (None, 100)              0         \n",
            " Vectorization)                                                  \n",
            "                                                                 \n",
            " embedding_9 (Embedding)     (None, 100, 128)          128128    \n",
            "                                                                 \n",
            " bidirectional_6 (Bidirectio  (None, 100, 128)         98816     \n",
            " nal)                                                            \n",
            "                                                                 \n",
            " bidirectional_7 (Bidirectio  (None, 64)               41216     \n",
            " nal)                                                            \n",
            "                                                                 \n",
            " dense_22 (Dense)            (None, 64)                4160      \n",
            "                                                                 \n",
            " dense_23 (Dense)            (None, 1)                 65        \n",
            "                                                                 \n",
            "=================================================================\n",
            "Total params: 272,385\n",
            "Trainable params: 272,385\n",
            "Non-trainable params: 0\n",
            "_________________________________________________________________\n"
          ]
        }
      ],
      "source": [
        "RNN_model.summary()"
      ]
    },
    {
      "cell_type": "code",
      "execution_count": null,
      "metadata": {
        "id": "UAnOHMnG825I"
      },
      "outputs": [],
      "source": [
        "RNN_history = RNN_model.fit(train['review'],\n",
        "                            train['sentiment'], \n",
        "                            epochs=10,\n",
        "                            batch_size=32,\n",
        "                            verbose=1,\n",
        "                           validation_data= (valid['review'],valid['sentiment']),\n",
        "                           callbacks =[stop_early,PlotLossesKeras()])"
      ]
    },
    {
      "cell_type": "code",
      "execution_count": null,
      "metadata": {
        "id": "BSWHEdU3825I"
      },
      "outputs": [],
      "source": [
        "RNN_test_loss, RNN_test_acc = RNN_model.evaluate(test['train'], test['sentiment'])\n",
        "print('Test Loss:', RNN_test_loss)\n",
        "print('Test Accuracy:', RNN_test_acc)"
      ]
    },
    {
      "cell_type": "code",
      "execution_count": null,
      "metadata": {
        "id": "O0Z21qRTNM4_"
      },
      "outputs": [],
      "source": []
    },
    {
      "cell_type": "markdown",
      "metadata": {
        "id": "aWqz3jrSGeeg"
      },
      "source": [
        "###### Evaluation Metrics"
      ]
    },
    {
      "cell_type": "code",
      "execution_count": null,
      "metadata": {
        "id": "5AFGVSA2Geeg"
      },
      "outputs": [],
      "source": [
        "import matplotlib.pyplot as plt\n",
        "import numpy as np\n",
        "from sklearn.metrics import f1_score, confusion_matrix, ConfusionMatrixDisplay, accuracy_score, precision_score, recall_score"
      ]
    },
    {
      "cell_type": "code",
      "execution_count": null,
      "metadata": {
        "id": "OiCEyTM1Geeg"
      },
      "outputs": [],
      "source": [
        "RNN_history.history"
      ]
    },
    {
      "cell_type": "code",
      "execution_count": null,
      "metadata": {
        "id": "dITuu_WOGeeg"
      },
      "outputs": [],
      "source": [
        "acc = RNN_history.history['binary_accuracy']\n",
        "val_acc = RNN_history.history['val_binary_accuracy']\n",
        "loss = RNN_history.history['loss']\n",
        "val_loss = RNN_history.history['val_loss']"
      ]
    },
    {
      "cell_type": "code",
      "execution_count": null,
      "metadata": {
        "colab": {
          "base_uri": "https://localhost:8080/",
          "height": 545
        },
        "outputId": "02893982-2edb-4422-deee-971027661cc9",
        "id": "O7T-dENrGeeg"
      },
      "outputs": [
        {
          "data": {
            "image/png": "[encoded data removed]",
            "text/plain": [
              "<Figure size 432x288 with 1 Axes>"
            ]
          },
          "metadata": {},
          "output_type": "display_data"
        },
        {
          "data": {
            "image/png": "[encoded data removed]",
            "text/plain": [
              "<Figure size 432x288 with 1 Axes>"
            ]
          },
          "metadata": {},
          "output_type": "display_data"
        }
      ],
      "source": [
        "epochs = range(1, len(acc) + 1)\n",
        "\n",
        "plt.plot(epochs, acc, 'b--', label='Training acc')\n",
        "plt.plot(epochs, val_acc, 'r', label='Validation acc')\n",
        "plt.title('Training and validation accuracy')\n",
        "plt.legend()\n",
        "\n",
        "plt.figure()\n",
        "\n",
        "plt.plot(epochs, loss, 'b--', label='Training loss')\n",
        "plt.plot(epochs, val_loss, 'r', label='Validation loss')\n",
        "plt.title('Training and validation loss')\n",
        "plt.legend()\n",
        "\n",
        "plt.show()"
      ]
    },
    {
      "cell_type": "code",
      "execution_count": null,
      "metadata": {
        "colab": {
          "base_uri": "https://localhost:8080/"
        },
        "outputId": "3f3ee08b-8acd-4b51-9d80-6ae923732639",
        "id": "VGiwqjQ9Geeh"
      },
      "outputs": [
        {
          "data": {
            "text/plain": [
              "pandas.core.series.Series"
            ]
          },
          "execution_count": 178,
          "metadata": {},
          "output_type": "execute_result"
        }
      ],
      "source": [
        "type(test_pr['review'])"
      ]
    },
    {
      "cell_type": "code",
      "execution_count": null,
      "metadata": {
        "id": "muscSlKTGeeh"
      },
      "outputs": [],
      "source": [
        "import numpy as np"
      ]
    },
    {
      "cell_type": "code",
      "execution_count": null,
      "metadata": {
        "id": "wtJ5fEfiGeeh"
      },
      "outputs": [],
      "source": [
        " y_probs = RNN_model.predict_on_batch(x = np.array(test_pr['review'].values))"
      ]
    },
    {
      "cell_type": "code",
      "execution_count": null,
      "metadata": {
        "id": "wRf4gYcYGeeh"
      },
      "outputs": [],
      "source": [
        "y_preds = y_probs.flatten()\n",
        "y_preds = np.where(y_preds > 0.5, 1, 0)"
      ]
    },
    {
      "cell_type": "code",
      "execution_count": null,
      "metadata": {
        "id": "MLzy1OSdGeeh"
      },
      "outputs": [],
      "source": [
        "yh = test['sentiment']\n",
        "f1 = f1_score(yh, y_preds)\n",
        "cm = confusion_matrix(yh, y_preds, labels=[0,1])\n",
        "accuracy = accuracy_score(yh, y_preds)\n",
        "precision = precision_score(yh, y_preds)\n",
        "recall = recall_score(yh, y_preds)\n",
        "specificity = cm[1,1]/(cm[1,0]+cm[1,1])"
      ]
    },
    {
      "cell_type": "code",
      "execution_count": null,
      "metadata": {
        "colab": {
          "base_uri": "https://localhost:8080/"
        },
        "outputId": "8adb4045-75d6-4691-e630-1f7ba8b04e7a",
        "id": "RjtLmFjUGeeh"
      },
      "outputs": [
        {
          "name": "stdout",
          "output_type": "stream",
          "text": [
            "F1 Score   -->  0.79\n",
            "Accuracy   -->  0.795\n",
            "Precision  -->  0.814\n",
            "Specificty -->  0.767\n",
            "Recall     -->  0.767\n",
            "Confusion Matrix :\n",
            " [[4093  879]\n",
            " [1170 3858]]\n"
          ]
        }
      ],
      "source": [
        "print(\"F1 Score   --> \", round(f1,3))\n",
        "print(\"Accuracy   --> \", round(accuracy,3))\n",
        "print(\"Precision  --> \", round(precision,3))\n",
        "print(\"Specificty --> \", round(specificity,3))\n",
        "print(\"Recall     --> \", round(recall,3))\n",
        "print(\"Confusion Matrix :\\n\", cm)"
      ]
    },
    {
      "cell_type": "code",
      "execution_count": null,
      "metadata": {
        "colab": {
          "base_uri": "https://localhost:8080/",
          "height": 260
        },
        "outputId": "486389af-5da8-4844-fa1f-9a1657082313",
        "id": "R1j2qhw4Geeh"
      },
      "outputs": [
        {
          "data": {
            "image/png": "[encoded data removed]",
            "text/plain": [
              "<Figure size 288x288 with 2 Axes>"
            ]
          },
          "metadata": {},
          "output_type": "display_data"
        }
      ],
      "source": [
        "disp=ConfusionMatrixDisplay(confusion_matrix=cm,display_labels=['negative','positive'])\n",
        "fig, ax = plt.subplots(figsize=(4,4))\n",
        "disp.plot(ax=ax)\n",
        "plt.show()"
      ]
    },
    {
      "cell_type": "markdown",
      "metadata": {
        "id": "lj110JLjNNLO"
      },
      "source": [
        "# **Hugging Face BERT Model**"
      ]
    },
    {
      "cell_type": "markdown",
      "metadata": {
        "id": "sNahC6JmNNLP"
      },
      "source": [
        "## **Building Model**"
      ]
    },
    {
      "cell_type": "code",
      "execution_count": null,
      "metadata": {
        "id": "3OULO3b2NNLP"
      },
      "outputs": [],
      "source": [
        "#!pip install -q transformers"
      ]
    },
    {
      "cell_type": "code",
      "execution_count": null,
      "metadata": {
        "id": "-husLZ_NNNLP"
      },
      "outputs": [],
      "source": [
        "#!pip install -q tf-models-official"
      ]
    },
    {
      "cell_type": "code",
      "execution_count": null,
      "metadata": {
        "id": "BODoL2SYNNLQ"
      },
      "outputs": [],
      "source": [
        "#!pip install -q transformers"
      ]
    },
    {
      "cell_type": "code",
      "execution_count": null,
      "metadata": {
        "id": "br98eTILNNLR"
      },
      "outputs": [],
      "source": [
        "#!pip install -q livelossplot"
      ]
    },
    {
      "cell_type": "code",
      "execution_count": null,
      "metadata": {
        "id": "zzJpznp7NNLR"
      },
      "outputs": [],
      "source": [
        "import tensorflow as tf\n",
        "import tensorflow_text as text\n",
        "import tensorflow_hub as hub\n",
        "from tensorflow.keras import Sequential\n",
        "from tensorflow.keras.layers import Dense,Dropout\n",
        "from tensorflow.keras.optimizers import Adam,Optimizer\n",
        "from tensorflow.keras.losses import binary_crossentropy\n",
        "from official.nlp import optimization  # to create AdamW optimizer\n",
        "import tensorflow as tf\n",
        "from transformers import BertTokenizer, TFBertModel\n",
        "from tensorflow.keras import Sequential \n",
        "from tensorflow.keras.layers import Dropout,Dense"
      ]
    },
    {
      "cell_type": "code",
      "execution_count": null,
      "metadata": {
        "colab": {
          "base_uri": "https://localhost:8080/",
          "height": 81,
          "referenced_widgets": [
            "726aa5e685d64e5bab2cd64a226b9608",
            "fa9914bcba1d49beb312a469b6ba3de9",
            "b765e8117aea4da2959354132c506e35",
            "122a6af08c574ecbb157cac6f1c03bcc",
            "628484c14f0c4246b27526e23dd40fc1",
            "6c571830d97e45589cd6d8af05b63ea7",
            "77299b4354d849418163e8a1705bd104",
            "b9269996a5a5443183292f7b85cb77f3",
            "917fd766eebb46a6a55ef0d0cdf1bc3b",
            "d949e368bef94e52bb28909fd5c8a8d8",
            "fbc40ee0b66c4095bfb47b096af586cf",
            "716271af03ac4891935adf08fc274008",
            "735078277c1c4f4e931867da8bfc651e",
            "62e6ecb9b9b445328204a37077e727e5",
            "ce1e6197c5c94b4088e981ecda04f29f",
            "f6997f40771447928864bef782236d13",
            "fe3f0644b1494173b282736e8a471e39",
            "bf6a3d0d492846d1a14d8ed44c56be4b",
            "f02006f4d01d487aa4e33423f7921a86",
            "0357aabb9b6547cfa74af216df90974d",
            "caa0783e5fb14e54b20f81eb941a9f0c",
            "ee539102d7a54916900fc406fe84bde2"
          ]
        },
        "id": "ERiDfTybNNLS",
        "outputId": "dbf8ef70-57b6-4b36-a2c1-6eae1130df12"
      },
      "outputs": [
        {
          "output_type": "display_data",
          "data": {
            "text/plain": [
              "Downloading:   0%|          | 0.00/232k [00:00<?, ?B/s]"
            ],
            "application/vnd.jupyter.widget-view+json": {
              "version_major": 2,
              "version_minor": 0,
              "model_id": "726aa5e685d64e5bab2cd64a226b9608"
            }
          },
          "metadata": {}
        },
        {
          "output_type": "display_data",
          "data": {
            "text/plain": [
              "Downloading:   0%|          | 0.00/28.0 [00:00<?, ?B/s]"
            ],
            "application/vnd.jupyter.widget-view+json": {
              "version_major": 2,
              "version_minor": 0,
              "model_id": "716271af03ac4891935adf08fc274008"
            }
          },
          "metadata": {}
        }
      ],
      "source": [
        "tokenizer = BertTokenizer.from_pretrained('bert-base-uncased')"
      ]
    },
    {
      "cell_type": "code",
      "execution_count": null,
      "metadata": {
        "id": "RlkN5eXnNNLT"
      },
      "outputs": [],
      "source": [
        "def tokenize(data):\n",
        "    return dict(                    # Convert the output to a dictionary to use it in model.fit().\n",
        "        tokenizer(\n",
        "            list(data),             # The tokenizer accepts a string or a list of string.\n",
        "            padding=\"max_length\",           # Apply padding and truncation so that all text,\n",
        "            truncation=True,        # short or long, have the same length.\n",
        "            return_tensors='tf',   # Return tensorflow tensors instead of pytorch.\n",
        "        )\n",
        "    )"
      ]
    },
    {
      "cell_type": "code",
      "execution_count": null,
      "metadata": {
        "colab": {
          "base_uri": "https://localhost:8080/",
          "height": 188,
          "referenced_widgets": [
            "e3dff95da2234aa98ef8ecab8708363b",
            "f3d1aa3dddb74d3092b33f3d03a18b66",
            "c02b93a9fb1e4a4cbad09fea7fc4a5ac",
            "b7c1ae95478a40e79a7d9dd8717101e1",
            "58be919ea7774fbfbde94d5297d3b460",
            "d7f1c6a83e104c53a0e0806352972149",
            "572d82e07a0545d783a8733423f53f53",
            "d4ac77c777744229bc5fe4c386463bb3",
            "38b04d673530487b97f4529f6e3b3a82",
            "99f9a638fd5e41c0b87a7fc4fad23ddf",
            "c5824f2e65514828b5906339991153f1",
            "de8439125e934fd3bf634975cc0a0f80",
            "db660762d7224d68aff6cb8a16274522",
            "a15b6d12b1b24082b3dd6c570ddcefe8",
            "6183558e14194c6d89d245af54ad7bb8",
            "b1cb16dd3f834dba8b1f95ca98b03198",
            "fdd21cfb168b40a285ff056d41c63f01",
            "424ed7a823074d7aaec1f1f6eca57443",
            "b0657b7e83754afc87adf6279c69e07d",
            "a96c033bbc3046cbaea6723b5c300a36",
            "36e82ab0121a40309958c2600cd96a0f",
            "1bae6e0475e7409caa5fc155d407e116"
          ]
        },
        "id": "5I6bTS1ANNLT",
        "outputId": "d5af34ea-8245-4ba1-d7d5-4a8ec09d4506"
      },
      "outputs": [
        {
          "output_type": "display_data",
          "data": {
            "text/plain": [
              "Downloading:   0%|          | 0.00/570 [00:00<?, ?B/s]"
            ],
            "application/vnd.jupyter.widget-view+json": {
              "version_major": 2,
              "version_minor": 0,
              "model_id": "e3dff95da2234aa98ef8ecab8708363b"
            }
          },
          "metadata": {}
        },
        {
          "output_type": "display_data",
          "data": {
            "text/plain": [
              "Downloading:   0%|          | 0.00/536M [00:00<?, ?B/s]"
            ],
            "application/vnd.jupyter.widget-view+json": {
              "version_major": 2,
              "version_minor": 0,
              "model_id": "de8439125e934fd3bf634975cc0a0f80"
            }
          },
          "metadata": {}
        },
        {
          "output_type": "stream",
          "name": "stderr",
          "text": [
            "Some layers from the model checkpoint at bert-base-uncased were not used when initializing TFBertModel: ['nsp___cls', 'mlm___cls']\n",
            "- This IS expected if you are initializing TFBertModel from the checkpoint of a model trained on another task or with another architecture (e.g. initializing a BertForSequenceClassification model from a BertForPreTraining model).\n",
            "- This IS NOT expected if you are initializing TFBertModel from the checkpoint of a model that you expect to be exactly identical (initializing a BertForSequenceClassification model from a BertForSequenceClassification model).\n",
            "All the layers of TFBertModel were initialized from the model checkpoint at bert-base-uncased.\n",
            "If your task is similar to the task the model of the checkpoint was trained on, you can already use TFBertModel for predictions without further training.\n"
          ]
        }
      ],
      "source": [
        "# BERT layers\n",
        "input_ids = tf.keras.layers.Input(shape=(512,), dtype= \"int32\", name = \"input_ids\")\n",
        "input_masks = tf.keras.layers.Input(shape=(512,), dtype = \"int32\",name = \"attention_mask\")\n",
        "inputs = [input_ids,input_masks]\n",
        "\n",
        "output= TFBertModel.from_pretrained(\"bert-base-uncased\")(inputs)\n",
        "output = output.pooler_output\n",
        "\n",
        "for i in [512,256,128,64]: \n",
        "   output = tf.keras.layers.Dense(i, activation='sigmoid', name=\"Dense_Layer_\" + str(i))(output)\n",
        "\n",
        "output = Dropout(0.1)(output)\n",
        "output = Dense(1, activation=\"sigmoid\")(output)\n",
        "model = tf.keras.Model(inputs = inputs, outputs = output)"
      ]
    },
    {
      "cell_type": "code",
      "execution_count": null,
      "metadata": {
        "colab": {
          "base_uri": "https://localhost:8080/"
        },
        "id": "F_YZA55JNNLU",
        "outputId": "bfbe68ae-43d3-47df-b9a4-678da16babbb"
      },
      "outputs": [
        {
          "output_type": "stream",
          "name": "stdout",
          "text": [
            "Model: \"model\"\n",
            "__________________________________________________________________________________________________\n",
            " Layer (type)                   Output Shape         Param #     Connected to                     \n",
            "==================================================================================================\n",
            " input_ids (InputLayer)         [(None, 512)]        0           []                               \n",
            "                                                                                                  \n",
            " attention_mask (InputLayer)    [(None, 512)]        0           []                               \n",
            "                                                                                                  \n",
            " tf_bert_model (TFBertModel)    TFBaseModelOutputWi  109482240   ['input_ids[0][0]',              \n",
            "                                thPoolingAndCrossAt               'attention_mask[0][0]']         \n",
            "                                tentions(last_hidde                                               \n",
            "                                n_state=(None, 512,                                               \n",
            "                                 768),                                                            \n",
            "                                 pooler_output=(Non                                               \n",
            "                                e, 768),                                                          \n",
            "                                 past_key_values=No                                               \n",
            "                                ne, hidden_states=N                                               \n",
            "                                one, attentions=Non                                               \n",
            "                                e, cross_attentions                                               \n",
            "                                =None)                                                            \n",
            "                                                                                                  \n",
            " Dense_Layer_512 (Dense)        (None, 512)          393728      ['tf_bert_model[0][1]']          \n",
            "                                                                                                  \n",
            " Dense_Layer_256 (Dense)        (None, 256)          131328      ['Dense_Layer_512[0][0]']        \n",
            "                                                                                                  \n",
            " Dense_Layer_128 (Dense)        (None, 128)          32896       ['Dense_Layer_256[0][0]']        \n",
            "                                                                                                  \n",
            " Dense_Layer_64 (Dense)         (None, 64)           8256        ['Dense_Layer_128[0][0]']        \n",
            "                                                                                                  \n",
            " dropout_37 (Dropout)           (None, 64)           0           ['Dense_Layer_64[0][0]']         \n",
            "                                                                                                  \n",
            " dense (Dense)                  (None, 1)            65          ['dropout_37[0][0]']             \n",
            "                                                                                                  \n",
            "==================================================================================================\n",
            "Total params: 110,048,513\n",
            "Trainable params: 110,048,513\n",
            "Non-trainable params: 0\n",
            "__________________________________________________________________________________________________\n"
          ]
        }
      ],
      "source": [
        "model.summary()"
      ]
    },
    {
      "cell_type": "markdown",
      "metadata": {
        "id": "s2SPOrpbNNLU"
      },
      "source": [
        "## With Preprocessing \n",
        "\n"
      ]
    },
    {
      "cell_type": "markdown",
      "metadata": {
        "id": "1mz_q__2NNLV"
      },
      "source": [
        "### **Training**"
      ]
    },
    {
      "cell_type": "code",
      "execution_count": null,
      "metadata": {
        "id": "ptd5VffzNNLV"
      },
      "outputs": [],
      "source": [
        "train_pre_tok = tokenize(train_pr['review'])\n",
        "test_pre_tok = tokenize(test_pr['review'])\n",
        "valid_pre_tok = tokenize(valid_pr['review'])"
      ]
    },
    {
      "cell_type": "code",
      "execution_count": null,
      "metadata": {
        "id": "OJ1PRxBTNNLV"
      },
      "outputs": [],
      "source": [
        "path = '/content/drive/MyDrive/p/bert_trans_pre.ckpt'"
      ]
    },
    {
      "cell_type": "code",
      "execution_count": null,
      "metadata": {
        "id": "P1d3oIOHNNLW"
      },
      "outputs": [],
      "source": [
        "from tensorflow.keras.callbacks import ModelCheckpoint\n",
        "from livelossplot import PlotLossesKeras\n",
        "\n",
        "tf.autograph.experimental.do_not_convert(\n",
        "    func=None\n",
        ")\n",
        "save_weights = ModelCheckpoint(\n",
        "    filepath=path,\n",
        "    monitor='val_binary_accuracy',\n",
        "    save_best_only=True,\n",
        "    save_weights_only=True,\n",
        ")"
      ]
    },
    {
      "cell_type": "code",
      "execution_count": null,
      "metadata": {
        "id": "Sx4rCZUeNNLW"
      },
      "outputs": [],
      "source": [
        "epochs = 10\n",
        "lr = 0.005\n",
        "train_dataset = tf.data.Dataset.from_tensor_slices(train_pr['review'])\n",
        "steps_per_epoch = tf.data.experimental.cardinality(train_dataset).numpy()\n",
        "num_train_steps = steps_per_epoch * epochs\n",
        "num_warmup_steps = int(0.1*num_train_steps)\n",
        "\n",
        "op = optimization.create_optimizer(init_lr = lr,\n",
        "                                              num_train_steps = num_train_steps,\n",
        "                                              num_warmup_steps = num_warmup_steps,\n",
        "                                              optimizer_type='adamw')"
      ]
    },
    {
      "cell_type": "code",
      "execution_count": null,
      "metadata": {
        "id": "thg-yAbsNNLW",
        "colab": {
          "base_uri": "https://localhost:8080/",
          "height": 200
        },
        "outputId": "4e8e1fb7-a68d-431c-d446-6a5317914c90"
      },
      "outputs": [
        {
          "output_type": "error",
          "ename": "NameError",
          "evalue": "ignored",
          "traceback": [
            "\u001b[0;31m---------------------------------------------------------------------------\u001b[0m",
            "\u001b[0;31mNameError\u001b[0m                                 Traceback (most recent call last)",
            "\u001b[0;32m<ipython-input-47-c7b2a9b5e67e>\u001b[0m in \u001b[0;36m<module>\u001b[0;34m\u001b[0m\n\u001b[0;32m----> 1\u001b[0;31m model.compile(optimizer=op,\n\u001b[0m\u001b[1;32m      2\u001b[0m                          \u001b[0mloss\u001b[0m\u001b[0;34m=\u001b[0m\u001b[0;34m\"binary_crossentropy\"\u001b[0m\u001b[0;34m,\u001b[0m\u001b[0;34m\u001b[0m\u001b[0;34m\u001b[0m\u001b[0m\n\u001b[1;32m      3\u001b[0m                           metrics=\"binary_accuracy\")\n",
            "\u001b[0;31mNameError\u001b[0m: name 'op' is not defined"
          ]
        }
      ],
      "source": [
        "model.compile(optimizer=op,\n",
        "                         loss=\"binary_crossentropy\",\n",
        "                          metrics=\"binary_accuracy\")"
      ]
    },
    {
      "cell_type": "code",
      "execution_count": null,
      "metadata": {
        "colab": {
          "base_uri": "https://localhost:8080/"
        },
        "id": "PitQVVXMNNLX",
        "outputId": "2cc408d9-2b55-407c-d642-dd8a4acf80ab"
      },
      "outputs": [
        {
          "output_type": "execute_result",
          "data": {
            "text/plain": [
              "{'input_ids': <tf.Tensor: shape=(1000, 512), dtype=int32, numpy=\n",
              " array([[ 101, 3243, 5470, ...,    0,    0,    0],\n",
              "        [ 101, 7886, 2692, ...,    0,    0,    0],\n",
              "        [ 101, 2450, 2304, ...,    0,    0,    0],\n",
              "        ...,\n",
              "        [ 101, 5293, 2755, ...,    0,    0,    0],\n",
              "        [ 101, 5632, 3505, ...,    0,    0,    0],\n",
              "        [ 101, 2425, 6581, ...,    0,    0,    0]], dtype=int32)>,\n",
              " 'token_type_ids': <tf.Tensor: shape=(1000, 512), dtype=int32, numpy=\n",
              " array([[0, 0, 0, ..., 0, 0, 0],\n",
              "        [0, 0, 0, ..., 0, 0, 0],\n",
              "        [0, 0, 0, ..., 0, 0, 0],\n",
              "        ...,\n",
              "        [0, 0, 0, ..., 0, 0, 0],\n",
              "        [0, 0, 0, ..., 0, 0, 0],\n",
              "        [0, 0, 0, ..., 0, 0, 0]], dtype=int32)>,\n",
              " 'attention_mask': <tf.Tensor: shape=(1000, 512), dtype=int32, numpy=\n",
              " array([[1, 1, 1, ..., 0, 0, 0],\n",
              "        [1, 1, 1, ..., 0, 0, 0],\n",
              "        [1, 1, 1, ..., 0, 0, 0],\n",
              "        ...,\n",
              "        [1, 1, 1, ..., 0, 0, 0],\n",
              "        [1, 1, 1, ..., 0, 0, 0],\n",
              "        [1, 1, 1, ..., 0, 0, 0]], dtype=int32)>}"
            ]
          },
          "metadata": {},
          "execution_count": 51
        }
      ],
      "source": [
        "valid_pre_tok"
      ]
    },
    {
      "cell_type": "code",
      "execution_count": null,
      "metadata": {
        "colab": {
          "base_uri": "https://localhost:8080/",
          "height": 744
        },
        "id": "triEsbWDNNLX",
        "outputId": "b694c825-c64c-48f4-e759-cb91cd5c85bf"
      },
      "outputs": [
        {
          "output_type": "display_data",
          "data": {
            "text/plain": [
              "<Figure size 864x576 with 2 Axes>"
            ],
            "image/png": "[encoded data removed]"
          },
          "metadata": {
            "needs_background": "light"
          }
        },
        {
          "output_type": "stream",
          "name": "stdout",
          "text": [
            "binary_accuracy\n",
            "\ttraining         \t (min:    0.497, max:    0.506, cur:    0.505)\n",
            "\tvalidation       \t (min:    0.477, max:    0.523, cur:    0.477)\n",
            "Loss\n",
            "\ttraining         \t (min:    0.693, max:    0.700, cur:    0.693)\n",
            "\tvalidation       \t (min:    0.692, max:    0.709, cur:    0.696)\n",
            "\b\b\b\b\b\b\b\b\b\b\b\b\b\b\b\b\b\b\b\b\b\b\b\b\b\b\b\b\b\b\b\b\b\b\b\b\b\b\b\b\b\b\b\b\b\b\b\b\b\b\b\b\b\b\b\b\b\b\b\b\b\b\b\b\b\b\b\b\b\b\b\b\b\b\b\b\b\b\b\b\b\b\b\b\b\b\b\b\b\b\b\r875/875 [==============================] - 931s 1s/step - loss: 0.6932 - binary_accuracy: 0.5046 - val_loss: 0.6963 - val_binary_accuracy: 0.4770\n"
          ]
        },
        {
          "output_type": "execute_result",
          "data": {
            "text/plain": [
              "<keras.callbacks.History at 0x7fcab0e20130>"
            ]
          },
          "metadata": {},
          "execution_count": 52
        }
      ],
      "source": [
        "tf.autograph.experimental.do_not_convert(\n",
        "    func=None\n",
        ")\n",
        "model.fit(x=train_pre_tok,\n",
        "          y=train_pr['sentiment'],\n",
        "          validation_data=(valid_pre_tok, valid_pr['sentiment']),\n",
        "          batch_size =8,\n",
        "          epochs=epochs,\n",
        "           callbacks =[PlotLossesKeras(),save_weights])"
      ]
    },
    {
      "cell_type": "markdown",
      "metadata": {
        "id": "p9Wmsf09NNLX"
      },
      "source": [
        "### **Testing**"
      ]
    },
    {
      "cell_type": "code",
      "execution_count": null,
      "metadata": {
        "colab": {
          "base_uri": "https://localhost:8080/"
        },
        "id": "8NtZZIW-NNLY",
        "outputId": "5bd5d64e-5180-48c0-d766-323dad192784"
      },
      "outputs": [
        {
          "output_type": "execute_result",
          "data": {
            "text/plain": [
              "<tensorflow.python.training.tracking.util.CheckpointLoadStatus at 0x7fc43c43e580>"
            ]
          },
          "metadata": {},
          "execution_count": 48
        }
      ],
      "source": [
        "model.load_weights(path)"
      ]
    },
    {
      "cell_type": "code",
      "source": [
        "epochs = 10\n",
        "lr = 0.005\n",
        "train_dataset = tf.data.Dataset.from_tensor_slices(train_pr['review'])\n",
        "steps_per_epoch = tf.data.experimental.cardinality(train_dataset).numpy()\n",
        "num_train_steps = steps_per_epoch * epochs\n",
        "num_warmup_steps = int(0.1*num_train_steps)\n",
        "\n",
        "op = optimization.create_optimizer(init_lr = lr,\n",
        "                                              num_train_steps = num_train_steps,\n",
        "                                              num_warmup_steps = num_warmup_steps,\n",
        "                                              optimizer_type='adamw')\n",
        "model.compile(optimizer=op,\n",
        "                         loss=\"binary_crossentropy\",\n",
        "                          metrics=\"binary_accuracy\")"
      ],
      "metadata": {
        "id": "ef5VDFSBP-97"
      },
      "execution_count": null,
      "outputs": []
    },
    {
      "cell_type": "code",
      "execution_count": null,
      "metadata": {
        "colab": {
          "base_uri": "https://localhost:8080/"
        },
        "id": "udAksBByNNLY",
        "outputId": "bbb093a6-2382-43a9-fe56-d60dbd397a06"
      },
      "outputs": [
        {
          "output_type": "stream",
          "name": "stderr",
          "text": [
            "/usr/local/lib/python3.8/dist-packages/keras/engine/functional.py:566: UserWarning: Input dict contained keys ['token_type_ids'] which did not match any model input. They will be ignored by the model.\n",
            "  inputs = self._flatten_to_reference_inputs(inputs)\n"
          ]
        },
        {
          "output_type": "stream",
          "name": "stdout",
          "text": [
            "63/63 [==============================] - 83s 1s/step - loss: 0.7076 - binary_accuracy: 0.4825\n"
          ]
        }
      ],
      "source": [
        "e = model.evaluate(test_pre_tok,test['sentiment'])"
      ]
    },
    {
      "cell_type": "code",
      "execution_count": null,
      "metadata": {
        "colab": {
          "base_uri": "https://localhost:8080/"
        },
        "id": "3i46Po7mNNLZ",
        "outputId": "af02f096-c9a3-4542-c075-87e0532696a6"
      },
      "outputs": [
        {
          "data": {
            "text/plain": [
              "[0.6931965351104736, 0.49720001220703125]"
            ]
          },
          "execution_count": 53,
          "metadata": {},
          "output_type": "execute_result"
        }
      ],
      "source": [
        "e"
      ]
    },
    {
      "cell_type": "code",
      "execution_count": null,
      "metadata": {
        "colab": {
          "base_uri": "https://localhost:8080/"
        },
        "id": "FTWKcvLcNNLZ",
        "outputId": "d860d36e-af6f-4727-e867-b2c82836f15a"
      },
      "outputs": [
        {
          "output_type": "stream",
          "name": "stdout",
          "text": [
            "63/63 [==============================] - 79s 1s/step\n"
          ]
        }
      ],
      "source": [
        "prediction = model.predict(test_pre_tok)"
      ]
    },
    {
      "cell_type": "markdown",
      "metadata": {
        "id": "cerbulcnNNLa"
      },
      "source": [
        "### Evaluation Metrics"
      ]
    },
    {
      "cell_type": "code",
      "execution_count": null,
      "metadata": {
        "id": "GeWI98ViNNLa"
      },
      "outputs": [],
      "source": [
        "import matplotlib.pyplot as plt\n",
        "import numpy as np\n",
        "from sklearn.metrics import f1_score, confusion_matrix, ConfusionMatrixDisplay, accuracy_score, precision_score, recall_score"
      ]
    },
    {
      "cell_type": "code",
      "execution_count": null,
      "metadata": {
        "id": "T_M7d7mtNNLa"
      },
      "outputs": [],
      "source": [
        "y_preds = prediction.flatten()\n",
        "y_preds = np.where(y_preds > 0.5, 1, 0)"
      ]
    },
    {
      "cell_type": "code",
      "source": [
        "y_preds.shape"
      ],
      "metadata": {
        "colab": {
          "base_uri": "https://localhost:8080/"
        },
        "id": "dUGSHnXcRb_T",
        "outputId": "59a218f5-a2af-40df-df93-8a328f608fad"
      },
      "execution_count": null,
      "outputs": [
        {
          "output_type": "execute_result",
          "data": {
            "text/plain": [
              "(2000,)"
            ]
          },
          "metadata": {},
          "execution_count": 61
        }
      ]
    },
    {
      "cell_type": "code",
      "execution_count": null,
      "metadata": {
        "colab": {
          "base_uri": "https://localhost:8080/"
        },
        "id": "kvOCexSHNNLb",
        "outputId": "ae53592b-838a-4a0c-f2c1-c63f96c8205c"
      },
      "outputs": [
        {
          "output_type": "stream",
          "name": "stderr",
          "text": [
            "/usr/local/lib/python3.8/dist-packages/sklearn/metrics/_classification.py:1318: UndefinedMetricWarning: Precision is ill-defined and being set to 0.0 due to no predicted samples. Use `zero_division` parameter to control this behavior.\n",
            "  _warn_prf(average, modifier, msg_start, len(result))\n"
          ]
        }
      ],
      "source": [
        "yh = test_pr['sentiment']\n",
        "f1 = f1_score(yh, y_preds)\n",
        "cm = confusion_matrix(yh, y_preds, labels=[0,1])\n",
        "accuracy = accuracy_score(yh, y_preds)\n",
        "precision = precision_score(yh, y_preds)\n",
        "recall = recall_score(yh, y_preds)\n",
        "specificity = cm[1,1]/(cm[1,0]+cm[1,1])"
      ]
    },
    {
      "cell_type": "code",
      "execution_count": null,
      "metadata": {
        "colab": {
          "base_uri": "https://localhost:8080/"
        },
        "id": "mpwbZvkFNNLb",
        "outputId": "822ee714-c2f2-48b7-93b2-8accb1c7534d"
      },
      "outputs": [
        {
          "output_type": "stream",
          "name": "stdout",
          "text": [
            "F1 Score   -->  0.0\n",
            "Accuracy   -->  0.482\n",
            "Precision  -->  0.0\n",
            "Specificty -->  0.0\n",
            "Recall     -->  0.0\n",
            "Confusion Matrix :\n",
            " [[ 965    0]\n",
            " [1035    0]]\n"
          ]
        }
      ],
      "source": [
        "print(\"F1 Score   --> \", round(f1,3))\n",
        "print(\"Accuracy   --> \", round(accuracy,3))\n",
        "print(\"Precision  --> \", round(precision,3))\n",
        "print(\"Specificty --> \", round(specificity,3))\n",
        "print(\"Recall     --> \", round(recall,3))\n",
        "print(\"Confusion Matrix :\\n\", cm)"
      ]
    },
    {
      "cell_type": "code",
      "execution_count": null,
      "metadata": {
        "colab": {
          "base_uri": "https://localhost:8080/",
          "height": 260
        },
        "id": "1pANfR1ZNNLb",
        "outputId": "63d7e102-88d5-407e-a8bb-512faf1336bb"
      },
      "outputs": [
        {
          "output_type": "display_data",
          "data": {
            "text/plain": [
              "<Figure size 288x288 with 2 Axes>"
            ],
            "image/png": "[encoded data removed]"
          },
          "metadata": {
            "needs_background": "light"
          }
        }
      ],
      "source": [
        "disp=ConfusionMatrixDisplay(confusion_matrix=cm,display_labels=['negative','positive'])\n",
        "fig, ax = plt.subplots(figsize=(4,4))\n",
        "disp.plot(ax=ax)\n",
        "plt.show()"
      ]
    },
    {
      "cell_type": "markdown",
      "metadata": {
        "id": "IZAl6TkDNNLb"
      },
      "source": [
        "## Without Preprocessing"
      ]
    },
    {
      "cell_type": "markdown",
      "metadata": {
        "id": "o1INjXnDNNLc"
      },
      "source": [
        "### **Training**"
      ]
    },
    {
      "cell_type": "code",
      "execution_count": null,
      "metadata": {
        "id": "o6Dz65TeNNLc"
      },
      "outputs": [],
      "source": [
        "path = '/content/drive/MyDrive/p/bert_trans_nrm.ckpt'"
      ]
    },
    {
      "cell_type": "code",
      "execution_count": null,
      "metadata": {
        "id": "ryoRIKqoNNLc"
      },
      "outputs": [],
      "source": [
        "train_tok = tokenize(train['review'])\n",
        "valid_tok = tokenize(valid['review'])\n",
        "test_tok = tokenize(test['review'])"
      ]
    },
    {
      "cell_type": "code",
      "execution_count": null,
      "metadata": {
        "id": "BpLMDWkcNNLc"
      },
      "outputs": [],
      "source": [
        "from tensorflow.keras.callbacks import  ModelCheckpoint\n",
        "from livelossplot import PlotLossesKeras\n",
        "\n",
        "tf.autograph.experimental.do_not_convert(\n",
        "    func=None\n",
        ")\n",
        "save_weights = ModelCheckpoint(\n",
        "    filepath= path,\n",
        "    monitor='val_binary_accuracy',\n",
        "    save_best_only=True,\n",
        "    save_weights_only=True,\n",
        ")"
      ]
    },
    {
      "cell_type": "code",
      "execution_count": null,
      "metadata": {
        "id": "g0-VwW9eNNLc"
      },
      "outputs": [],
      "source": [
        "epochs = 10\n",
        "lr = 0.005\n",
        "train_dataset = tf.data.Dataset.from_tensor_slices(train['review'])\n",
        "steps_per_epoch = tf.data.experimental.cardinality(train_dataset).numpy()\n",
        "num_train_steps = steps_per_epoch * epochs\n",
        "num_warmup_steps = int(0.1*num_train_steps)\n",
        "\n",
        "op = optimization.create_optimizer(init_lr = lr,\n",
        "                                              num_train_steps = num_train_steps,\n",
        "                                              num_warmup_steps = num_warmup_steps,\n",
        "                                              optimizer_type='adamw')\n",
        "\n",
        "model.compile(optimizer=op,\n",
        "                         loss=\"binary_crossentropy\",\n",
        "                          metrics=\"binary_accuracy\")"
      ]
    },
    {
      "cell_type": "code",
      "execution_count": null,
      "metadata": {
        "colab": {
          "base_uri": "https://localhost:8080/",
          "height": 761
        },
        "id": "1GCC-cxxNNLd",
        "outputId": "0434fe28-0bc3-4bd7-bde7-7b9941dcfcde"
      },
      "outputs": [
        {
          "output_type": "display_data",
          "data": {
            "text/plain": [
              "<Figure size 864x576 with 2 Axes>"
            ],
            "image/png": "[encoded data removed]"
          },
          "metadata": {
            "needs_background": "light"
          }
        },
        {
          "output_type": "stream",
          "name": "stdout",
          "text": [
            "binary_accuracy\n",
            "\ttraining         \t (min:    0.485, max:    0.502, cur:    0.498)\n",
            "\tvalidation       \t (min:    0.000, max:    0.000, cur:    0.000)\n",
            "Loss\n",
            "\ttraining         \t (min:    0.695, max:    0.701, cur:    0.695)\n",
            "\tvalidation       \t (min:    0.000, max:    0.000, cur:    0.000)\n",
            "\b\b\b\b\b\b\b\b\b\b\b\b\b\b\b\b\b\b\b\b\b\b\b\b\b\b\b\b\b\b\b\b\b\b\b\b\b\b\b\b\b\b\b\b\b\b\b\b\b\b\b\b\b\b\b\b\b\b\b\b\b\b\b\b\b\b\b\b\b\b\b\b\b\b\b\b\b\b\b\b\b\b\b\b\b\b\b\b\b\b\b\r875/875 [==============================] - 810s 926ms/step - loss: 0.6946 - binary_accuracy: 0.4976 - val_loss: 0.0000e+00 - val_binary_accuracy: 0.0000e+00\n",
            "Epoch 5/10\n",
            "673/875 [======================>.......] - ETA: 3:06 - loss: 0.6935 - binary_accuracy: 0.5043"
          ]
        }
      ],
      "source": [
        "tf.autograph.experimental.do_not_convert(\n",
        "    func=None\n",
        ")\n",
        "model.fit(x=train_tok,\n",
        "          y=train['sentiment'],\n",
        "          validation_data = (valid_tok, )  ,\n",
        "          batch_size =8,\n",
        "          epochs=epochs,\n",
        "          callbacks =[PlotLossesKeras(),save_weights])"
      ]
    },
    {
      "cell_type": "markdown",
      "metadata": {
        "id": "CxQVn9yoNNLd"
      },
      "source": [
        "### **Testing**"
      ]
    },
    {
      "cell_type": "code",
      "execution_count": null,
      "metadata": {
        "id": "bZkE8ravNNLd"
      },
      "outputs": [],
      "source": [
        "#model.load_weights(path)"
      ]
    },
    {
      "cell_type": "code",
      "execution_count": null,
      "metadata": {
        "id": "FlD7qz2RNNLd"
      },
      "outputs": [],
      "source": [
        "#model.evaluate(test_tok,test['sentiment'])"
      ]
    },
    {
      "cell_type": "code",
      "execution_count": null,
      "metadata": {
        "colab": {
          "base_uri": "https://localhost:8080/"
        },
        "id": "iBE5ulk0NNLe",
        "outputId": "150c6f8b-c247-4feb-d456-da24903907e0"
      },
      "outputs": [
        {
          "name": "stdout",
          "output_type": "stream",
          "text": [
            "63/63 [==============================] - 81s 1s/step\n"
          ]
        }
      ],
      "source": [
        "prediction = model.predict(test_tok)"
      ]
    },
    {
      "cell_type": "markdown",
      "metadata": {
        "id": "pWCjMkDGNNLe"
      },
      "source": [
        "### Evaluation Metrics"
      ]
    },
    {
      "cell_type": "code",
      "execution_count": null,
      "metadata": {
        "id": "wsNbHtqshmtY"
      },
      "outputs": [],
      "source": [
        "import matplotlib.pyplot as plt\n",
        "import numpy as np\n",
        "from sklearn.metrics import f1_score, confusion_matrix, ConfusionMatrixDisplay, accuracy_score, precision_score, recall_score"
      ]
    },
    {
      "cell_type": "code",
      "execution_count": null,
      "metadata": {
        "id": "PWFDDOCrNNLe"
      },
      "outputs": [],
      "source": [
        "y_preds = prediction.flatten()\n",
        "y_preds = np.where(y_preds > 0.5, 1, 0)"
      ]
    },
    {
      "cell_type": "code",
      "execution_count": null,
      "metadata": {
        "colab": {
          "base_uri": "https://localhost:8080/"
        },
        "id": "l4zz-OfvNNLe",
        "outputId": "a2878548-be68-40a5-eadd-bf3e9cf67bd6"
      },
      "outputs": [
        {
          "name": "stderr",
          "output_type": "stream",
          "text": [
            "/usr/local/lib/python3.8/dist-packages/sklearn/metrics/_classification.py:1318: UndefinedMetricWarning: Precision is ill-defined and being set to 0.0 due to no predicted samples. Use `zero_division` parameter to control this behavior.\n",
            "  _warn_prf(average, modifier, msg_start, len(result))\n"
          ]
        }
      ],
      "source": [
        "yh = test['sentiment']\n",
        "f1 = f1_score(yh, y_preds)\n",
        "cm = confusion_matrix(yh, y_preds, labels=[0,1])\n",
        "accuracy = accuracy_score(yh, y_preds)\n",
        "precision = precision_score(yh, y_preds)\n",
        "recall = recall_score(yh, y_preds)\n",
        "specificity = cm[1,1]/(cm[1,0]+cm[1,1])"
      ]
    },
    {
      "cell_type": "code",
      "execution_count": null,
      "metadata": {
        "colab": {
          "base_uri": "https://localhost:8080/"
        },
        "id": "OkSV5n6ENNLf",
        "outputId": "10962e0b-d5b1-4602-a5f8-8fba9e4beb01"
      },
      "outputs": [
        {
          "name": "stdout",
          "output_type": "stream",
          "text": [
            "F1 Score   -->  0.0\n",
            "Accuracy   -->  0.482\n",
            "Precision  -->  0.0\n",
            "Specificty -->  0.0\n",
            "Recall     -->  0.0\n",
            "Confusion Matrix :\n",
            " [[ 965    0]\n",
            " [1035    0]]\n"
          ]
        }
      ],
      "source": [
        "print(\"F1 Score   --> \", round(f1,3))\n",
        "print(\"Accuracy   --> \", round(accuracy,3))\n",
        "print(\"Precision  --> \", round(precision,3))\n",
        "print(\"Specificty --> \", round(specificity,3))\n",
        "print(\"Recall     --> \", round(recall,3))\n",
        "print(\"Confusion Matrix :\\n\", cm)"
      ]
    },
    {
      "cell_type": "code",
      "execution_count": null,
      "metadata": {
        "colab": {
          "base_uri": "https://localhost:8080/",
          "height": 260
        },
        "id": "5m0z3YiBNNLf",
        "outputId": "bffd1cd3-5567-4fb1-bc76-6716cb022c8d"
      },
      "outputs": [
        {
          "data": {
            "image/png": "[encoded data removed]",
            "text/plain": [
              "<Figure size 288x288 with 2 Axes>"
            ]
          },
          "metadata": {},
          "output_type": "display_data"
        }
      ],
      "source": [
        "disp=ConfusionMatrixDisplay(confusion_matrix=cm,display_labels=['negative','positive'])\n",
        "fig, ax = plt.subplots(figsize=(4,4))\n",
        "disp.plot(ax=ax)\n",
        "plt.show()"
      ]
    },
    {
      "cell_type": "markdown",
      "metadata": {
        "id": "pzJqgetjn-nc"
      },
      "source": [
        "# **Hugging Face ROBERTA Model**"
      ]
    },
    {
      "cell_type": "markdown",
      "metadata": {
        "id": "SAUpvuhkvaJL"
      },
      "source": [
        "### **Building Model**"
      ]
    },
    {
      "cell_type": "code",
      "execution_count": null,
      "metadata": {
        "id": "QVruXxoF8G8p"
      },
      "outputs": [],
      "source": [
        "import tensorflow as tf\n",
        "import tensorflow_text as text\n",
        "import tensorflow_hub as hub\n",
        "from tensorflow.keras import Sequential\n",
        "from tensorflow.keras.layers import Dense,Dropout\n",
        "from tensorflow.keras.optimizers import Adam,Optimizer\n",
        "from tensorflow.keras.losses import binary_crossentropy\n",
        "from official.nlp import optimization  # to create AdamW optimizer\n",
        "import tensorflow as tf\n",
        "from transformers import RobertaTokenizer, TFRobertaModel\n",
        "from tensorflow.keras import Sequential \n",
        "from tensorflow.keras.layers import Dropout,Dense\n",
        "\n"
      ]
    },
    {
      "cell_type": "code",
      "execution_count": null,
      "metadata": {
        "colab": {
          "base_uri": "https://localhost:8080/",
          "referenced_widgets": [
            "20c9010bb1764a07b3f68b10ba849fe4",
            "6ba0a4ab72a84f3c9492a895ff68967b",
            "4824159f80214824bbcb0dfca5adf88c"
          ]
        },
        "id": "kOMFahuZnxI9",
        "outputId": "976e145e-5ac6-488f-e291-cd4fa9daca60"
      },
      "outputs": [
        {
          "data": {
            "application/vnd.jupyter.widget-view+json": {
              "model_id": "20c9010bb1764a07b3f68b10ba849fe4",
              "version_major": 2,
              "version_minor": 0
            },
            "text/plain": [
              "Downloading:   0%|          | 0.00/899k [00:00<?, ?B/s]"
            ]
          },
          "metadata": {},
          "output_type": "display_data"
        },
        {
          "data": {
            "application/vnd.jupyter.widget-view+json": {
              "model_id": "6ba0a4ab72a84f3c9492a895ff68967b",
              "version_major": 2,
              "version_minor": 0
            },
            "text/plain": [
              "Downloading:   0%|          | 0.00/456k [00:00<?, ?B/s]"
            ]
          },
          "metadata": {},
          "output_type": "display_data"
        },
        {
          "data": {
            "application/vnd.jupyter.widget-view+json": {
              "model_id": "4824159f80214824bbcb0dfca5adf88c",
              "version_major": 2,
              "version_minor": 0
            },
            "text/plain": [
              "Downloading:   0%|          | 0.00/481 [00:00<?, ?B/s]"
            ]
          },
          "metadata": {},
          "output_type": "display_data"
        }
      ],
      "source": [
        "tokenizer = RobertaTokenizer.from_pretrained('roberta-base')"
      ]
    },
    {
      "cell_type": "code",
      "execution_count": null,
      "metadata": {
        "id": "rRAYkeHl4jU9"
      },
      "outputs": [],
      "source": []
    },
    {
      "cell_type": "code",
      "execution_count": null,
      "metadata": {
        "id": "BxmXJrO-b6Zm"
      },
      "outputs": [],
      "source": [
        "tokenizer = RobertaTokenizer.from_pretrained('roberta-base')\n",
        "def tokenize(data):\n",
        "    return dict(                    # Convert the output to a dictionary to use it in model.fit().\n",
        "        tokenizer(\n",
        "            list(data),             # The tokenizer accepts a string or a list of string.\n",
        "            padding=\"max_length\",           # Apply padding and truncation so that all text,\n",
        "            truncation=True,        # short or long, have the same length.\n",
        "            return_tensors='tf',   # Return tensorflow tensors instead of pytorch.\n",
        "        )\n",
        "    )"
      ]
    },
    {
      "cell_type": "code",
      "execution_count": null,
      "metadata": {
        "colab": {
          "base_uri": "https://localhost:8080/",
          "referenced_widgets": [
            "f85d9d1bab574b4f82925e952ab3b178"
          ]
        },
        "id": "24DLVnPqo73T",
        "outputId": "fb101486-860e-4f85-8e36-ec3ce9cedf62"
      },
      "outputs": [
        {
          "data": {
            "application/vnd.jupyter.widget-view+json": {
              "model_id": "f85d9d1bab574b4f82925e952ab3b178",
              "version_major": 2,
              "version_minor": 0
            },
            "text/plain": [
              "Downloading:   0%|          | 0.00/657M [00:00<?, ?B/s]"
            ]
          },
          "metadata": {},
          "output_type": "display_data"
        },
        {
          "name": "stderr",
          "output_type": "stream",
          "text": [
            "Some layers from the model checkpoint at roberta-base were not used when initializing TFRobertaModel: ['lm_head']\n",
            "- This IS expected if you are initializing TFRobertaModel from the checkpoint of a model trained on another task or with another architecture (e.g. initializing a BertForSequenceClassification model from a BertForPreTraining model).\n",
            "- This IS NOT expected if you are initializing TFRobertaModel from the checkpoint of a model that you expect to be exactly identical (initializing a BertForSequenceClassification model from a BertForSequenceClassification model).\n",
            "All the layers of TFRobertaModel were initialized from the model checkpoint at roberta-base.\n",
            "If your task is similar to the task the model of the checkpoint was trained on, you can already use TFRobertaModel for predictions without further training.\n"
          ]
        }
      ],
      "source": [
        "# ROBERTA layers\n",
        "input_ids = tf.keras.layers.Input(shape=(512,), dtype= \"int32\", name = \"input_ids\")\n",
        "input_masks = tf.keras.layers.Input(shape=(512,), dtype = \"int32\",name = \"attention_mask\")\n",
        "inputs = [input_ids,input_masks]\n",
        "\n",
        "output= TFRobertaModel.from_pretrained(\"roberta-base\")(inputs)\n",
        "output = output.pooler_output\n",
        "\n",
        "for i in [512,256,128,64]: \n",
        "   output = tf.keras.layers.Dense(i, activation='sigmoid', name=\"Dense_Layer_\" + str(i))(output)\n",
        "\n",
        "output = Dropout(0.1)(output)\n",
        "output = Dense(1, activation=\"sigmoid\")(output)\n",
        "ROBERTA_model = tf.keras.Model(inputs = inputs, outputs = output)\n",
        "\n"
      ]
    },
    {
      "cell_type": "code",
      "execution_count": null,
      "metadata": {
        "colab": {
          "base_uri": "https://localhost:8080/"
        },
        "id": "suRtdeNbpONk",
        "outputId": "20ab30b9-1b33-448a-ca3b-80054193f889"
      },
      "outputs": [
        {
          "name": "stdout",
          "output_type": "stream",
          "text": [
            "Model: \"model\"\n",
            "__________________________________________________________________________________________________\n",
            " Layer (type)                   Output Shape         Param #     Connected to                     \n",
            "==================================================================================================\n",
            " input_ids (InputLayer)         [(None, 512)]        0           []                               \n",
            "                                                                                                  \n",
            " attention_mask (InputLayer)    [(None, 512)]        0           []                               \n",
            "                                                                                                  \n",
            " tf_roberta_model (TFRobertaMod  TFBaseModelOutputWi  124645632  ['input_ids[0][0]',              \n",
            " el)                            thPoolingAndCrossAt               'attention_mask[0][0]']         \n",
            "                                tentions(last_hidde                                               \n",
            "                                n_state=(None, 512,                                               \n",
            "                                 768),                                                            \n",
            "                                 pooler_output=(Non                                               \n",
            "                                e, 768),                                                          \n",
            "                                 past_key_values=No                                               \n",
            "                                ne, hidden_states=N                                               \n",
            "                                one, attentions=Non                                               \n",
            "                                e, cross_attentions                                               \n",
            "                                =None)                                                            \n",
            "                                                                                                  \n",
            " Dense_Layer_512 (Dense)        (None, 512)          393728      ['tf_roberta_model[0][1]']       \n",
            "                                                                                                  \n",
            " Dense_Layer_256 (Dense)        (None, 256)          131328      ['Dense_Layer_512[0][0]']        \n",
            "                                                                                                  \n",
            " Dense_Layer_128 (Dense)        (None, 128)          32896       ['Dense_Layer_256[0][0]']        \n",
            "                                                                                                  \n",
            " Dense_Layer_64 (Dense)         (None, 64)           8256        ['Dense_Layer_128[0][0]']        \n",
            "                                                                                                  \n",
            " dropout_37 (Dropout)           (None, 64)           0           ['Dense_Layer_64[0][0]']         \n",
            "                                                                                                  \n",
            " dense (Dense)                  (None, 1)            65          ['dropout_37[0][0]']             \n",
            "                                                                                                  \n",
            "==================================================================================================\n",
            "Total params: 125,211,905\n",
            "Trainable params: 125,211,905\n",
            "Non-trainable params: 0\n",
            "__________________________________________________________________________________________________\n"
          ]
        }
      ],
      "source": [
        "ROBERTA_model.summary()"
      ]
    },
    {
      "cell_type": "markdown",
      "metadata": {
        "id": "LacimuJnrIl9"
      },
      "source": [
        "## With Preprocessing \n",
        "\n"
      ]
    },
    {
      "cell_type": "markdown",
      "metadata": {
        "id": "sK-VfJsuvuy8"
      },
      "source": [
        "### **Training**"
      ]
    },
    {
      "cell_type": "code",
      "execution_count": null,
      "metadata": {
        "id": "lPI3sF3AcEQE"
      },
      "outputs": [],
      "source": [
        "train_pre_tok = tokenize(train_pr['review'])\n",
        "test_pre_tok = tokenize(test_pr['review'])\n",
        "valid_pre_tok = tokenize(valid_pr['review'])"
      ]
    },
    {
      "cell_type": "code",
      "execution_count": null,
      "metadata": {
        "id": "_MccqfvixHM8"
      },
      "outputs": [],
      "source": [
        "path = '/content/drive/MyDrive/rnn/newpreroberta.ckpt'"
      ]
    },
    {
      "cell_type": "code",
      "execution_count": null,
      "metadata": {
        "id": "IfAL127FPDl_"
      },
      "outputs": [],
      "source": [
        "from tensorflow.keras.callbacks import ModelCheckpoint\n",
        "from livelossplot import PlotLossesKeras\n",
        "\n",
        "tf.autograph.experimental.do_not_convert(\n",
        "    func=None\n",
        ")\n",
        "save_weights = ModelCheckpoint(\n",
        "    filepath=path,\n",
        "    monitor='val_binary_accuracy',\n",
        "    save_best_only=True,\n",
        "    save_weights_only=True,\n",
        ")"
      ]
    },
    {
      "cell_type": "code",
      "execution_count": null,
      "metadata": {
        "id": "6v4SrofS4qzm"
      },
      "outputs": [],
      "source": [
        "epochs = 3\n",
        "lr = 3e-4\n",
        "train_dataset = tf.data.Dataset.from_tensor_slices(train_pr['review'])\n",
        "steps_per_epoch = tf.data.experimental.cardinality(train_dataset).numpy()\n",
        "num_train_steps = steps_per_epoch * epochs\n",
        "num_warmup_steps = int(0.1*num_train_steps)\n",
        "\n",
        "op = optimization.create_optimizer(init_lr = lr,\n",
        "                                              num_train_steps = num_train_steps,\n",
        "                                              num_warmup_steps = num_warmup_steps,\n",
        "                                              optimizer_type='adamw')"
      ]
    },
    {
      "cell_type": "code",
      "execution_count": null,
      "metadata": {
        "id": "t04JFgccrImF"
      },
      "outputs": [],
      "source": [
        "\n",
        "\n",
        "ROBERTA_model.compile(optimizer=op,\n",
        "                         loss=\"binary_crossentropy\",\n",
        "                          metrics=\"binary_accuracy\")"
      ]
    },
    {
      "cell_type": "code",
      "execution_count": null,
      "metadata": {
        "colab": {
          "base_uri": "https://localhost:8080/"
        },
        "id": "9Zp2w-NR1GdO",
        "outputId": "e0559f3f-0dcf-4632-d12f-a0f32bd57c7f"
      },
      "outputs": [
        {
          "data": {
            "text/plain": [
              "{'input_ids': <tf.Tensor: shape=(5000, 512), dtype=int32, numpy=\n",
              " array([[    0, 21928,  1335, ...,     1,     1,     1],\n",
              "        [    0, 28481,    29, ...,     1,     1,     1],\n",
              "        [    0, 33471,  5832, ...,     1,     1,     1],\n",
              "        ...,\n",
              "        [    0,   438,   927, ...,     1,     1,     1],\n",
              "        [    0, 13751,  8131, ...,     1,     1,     1],\n",
              "        [    0,   763, 39041, ...,     1,     1,     1]], dtype=int32)>,\n",
              " 'attention_mask': <tf.Tensor: shape=(5000, 512), dtype=int32, numpy=\n",
              " array([[1, 1, 1, ..., 0, 0, 0],\n",
              "        [1, 1, 1, ..., 0, 0, 0],\n",
              "        [1, 1, 1, ..., 0, 0, 0],\n",
              "        ...,\n",
              "        [1, 1, 1, ..., 0, 0, 0],\n",
              "        [1, 1, 1, ..., 0, 0, 0],\n",
              "        [1, 1, 1, ..., 0, 0, 0]], dtype=int32)>}"
            ]
          },
          "execution_count": 50,
          "metadata": {},
          "output_type": "execute_result"
        }
      ],
      "source": [
        "valid_pre_tok"
      ]
    },
    {
      "cell_type": "code",
      "execution_count": null,
      "metadata": {
        "colab": {
          "base_uri": "https://localhost:8080/",
          "height": 761
        },
        "id": "bCjBdm4lrImF",
        "outputId": "2bc40667-a7e8-4d4f-99d4-47f602bc854b"
      },
      "outputs": [
        {
          "data": {
            "image/png": "[encoded data removed]",
            "text/plain": [
              "<Figure size 864x576 with 2 Axes>"
            ]
          },
          "metadata": {},
          "output_type": "display_data"
        },
        {
          "name": "stdout",
          "output_type": "stream",
          "text": [
            "binary_accuracy\n",
            "\ttraining         \t (min:    0.499, max:    0.499, cur:    0.499)\n",
            "\tvalidation       \t (min:    0.488, max:    0.488, cur:    0.488)\n",
            "Loss\n",
            "\ttraining         \t (min:    0.699, max:    0.699, cur:    0.699)\n",
            "\tvalidation       \t (min:    0.693, max:    0.693, cur:    0.693)\n",
            "4375/4375 [==============================] - 4341s 990ms/step - loss: 0.6990 - binary_accuracy: 0.4986 - val_loss: 0.6933 - val_binary_accuracy: 0.4878\n",
            "Epoch 2/3\n",
            "2667/4375 [=================>............] - ETA: 26:50 - loss: 0.6964 - binary_accuracy: 0.4963"
          ]
        }
      ],
      "source": [
        "awtf.autograph.experimental.do_not_convert(\n",
        "    func=None\n",
        ")\n",
        "ROBERTA_model.fit(x=train_pre_tok,\n",
        "          y=train_pr['sentiment'],\n",
        "          validation_data=(valid_pre_tok, valid_pr['sentiment']),\n",
        "          batch_size =8,\n",
        "          epochs=epochs,\n",
        "           callbacks =[PlotLossesKeras(),save_weights])"
      ]
    },
    {
      "cell_type": "markdown",
      "metadata": {
        "id": "0YQss4Bc7Qt0"
      },
      "source": [
        "### **Testing**"
      ]
    },
    {
      "cell_type": "code",
      "execution_count": null,
      "metadata": {
        "colab": {
          "base_uri": "https://localhost:8080/"
        },
        "id": "yOBC4ezq7Qt5",
        "outputId": "f839fdfb-220c-4e6f-b8e1-260205ca6315"
      },
      "outputs": [
        {
          "data": {
            "text/plain": [
              "<tensorflow.python.checkpoint.checkpoint.CheckpointLoadStatus at 0x7fcfa581efa0>"
            ]
          },
          "execution_count": 50,
          "metadata": {},
          "output_type": "execute_result"
        }
      ],
      "source": [
        "ROBERTA_model.load_weights(path)"
      ]
    },
    {
      "cell_type": "code",
      "execution_count": null,
      "metadata": {
        "colab": {
          "base_uri": "https://localhost:8080/"
        },
        "id": "5st--k8RrImF",
        "outputId": "a065da32-2971-454f-f762-3bf51addced4"
      },
      "outputs": [
        {
          "name": "stdout",
          "output_type": "stream",
          "text": [
            "313/313 [==============================] - 384s 1s/step - loss: 0.6932 - binary_accuracy: 0.4972\n"
          ]
        }
      ],
      "source": [
        "e = ROBERTA_model.evaluate(test_pre_tok,test['sentiment'])"
      ]
    },
    {
      "cell_type": "code",
      "execution_count": null,
      "metadata": {
        "colab": {
          "base_uri": "https://localhost:8080/"
        },
        "id": "G7uDg7Qli60j",
        "outputId": "af02f096-c9a3-4542-c075-87e0532696a6"
      },
      "outputs": [
        {
          "data": {
            "text/plain": [
              "[0.6931965351104736, 0.49720001220703125]"
            ]
          },
          "execution_count": 53,
          "metadata": {},
          "output_type": "execute_result"
        }
      ],
      "source": [
        "e"
      ]
    },
    {
      "cell_type": "code",
      "execution_count": null,
      "metadata": {
        "colab": {
          "base_uri": "https://localhost:8080/"
        },
        "id": "kSq_WwVobSb_",
        "outputId": "5227c572-dd29-498e-e3b6-7b389590b804"
      },
      "outputs": [
        {
          "name": "stdout",
          "output_type": "stream",
          "text": [
            "313/313 [==============================] - 388s 1s/step\n"
          ]
        }
      ],
      "source": [
        "prediction = ROBERTA_model.predict(test_pre_tok)"
      ]
    },
    {
      "cell_type": "markdown",
      "metadata": {
        "id": "4sFW0L73nIyo"
      },
      "source": [
        "### Evaluation Metrics"
      ]
    },
    {
      "cell_type": "code",
      "execution_count": null,
      "metadata": {
        "id": "Sb7uRnYNhD8X"
      },
      "outputs": [],
      "source": [
        "import matplotlib.pyplot as plt\n",
        "import numpy as np\n",
        "from sklearn.metrics import f1_score, confusion_matrix, ConfusionMatrixDisplay, accuracy_score, precision_score, recall_score"
      ]
    },
    {
      "cell_type": "code",
      "execution_count": null,
      "metadata": {
        "id": "WgzULhw77Qt6"
      },
      "outputs": [],
      "source": [
        "y_preds = prediction.flatten()\n",
        "y_preds = np.where(y_preds > 0.5, 1, 0)"
      ]
    },
    {
      "cell_type": "code",
      "execution_count": null,
      "metadata": {
        "colab": {
          "base_uri": "https://localhost:8080/"
        },
        "id": "9Wr7lPdD7Qt6",
        "outputId": "deccbc79-f054-426c-a7ce-a0b176869d11"
      },
      "outputs": [
        {
          "name": "stderr",
          "output_type": "stream",
          "text": [
            "/usr/local/lib/python3.8/dist-packages/sklearn/metrics/_classification.py:1318: UndefinedMetricWarning: Precision is ill-defined and being set to 0.0 due to no predicted samples. Use `zero_division` parameter to control this behavior.\n",
            "  _warn_prf(average, modifier, msg_start, len(result))\n"
          ]
        }
      ],
      "source": [
        "yh = test_pr['sentiment']\n",
        "f1 = f1_score(yh, y_preds)\n",
        "cm = confusion_matrix(yh, y_preds, labels=[0,1])\n",
        "accuracy = accuracy_score(yh, y_preds)\n",
        "precision = precision_score(yh, y_preds)\n",
        "recall = recall_score(yh, y_preds)\n",
        "specificity = cm[1,1]/(cm[1,0]+cm[1,1])"
      ]
    },
    {
      "cell_type": "code",
      "execution_count": null,
      "metadata": {
        "colab": {
          "base_uri": "https://localhost:8080/"
        },
        "id": "t6h0nf1Y7Qt6",
        "outputId": "fdab5b68-9130-4249-e36b-9d642d9b5911"
      },
      "outputs": [
        {
          "name": "stdout",
          "output_type": "stream",
          "text": [
            "F1 Score   -->  0.0\n",
            "Accuracy   -->  0.497\n",
            "Precision  -->  0.0\n",
            "Specificty -->  0.0\n",
            "Recall     -->  0.0\n",
            "Confusion Matrix :\n",
            " [[4972    0]\n",
            " [5028    0]]\n"
          ]
        }
      ],
      "source": [
        "print(\"F1 Score   --> \", round(f1,3))\n",
        "print(\"Accuracy   --> \", round(accuracy,3))\n",
        "print(\"Precision  --> \", round(precision,3))\n",
        "print(\"Specificty --> \", round(specificity,3))\n",
        "print(\"Recall     --> \", round(recall,3))\n",
        "print(\"Confusion Matrix :\\n\", cm)"
      ]
    },
    {
      "cell_type": "code",
      "execution_count": null,
      "metadata": {
        "colab": {
          "base_uri": "https://localhost:8080/",
          "height": 263
        },
        "id": "fjFqRFPp66CE",
        "outputId": "e06dc805-7081-4b42-e679-3c1620329d12"
      },
      "outputs": [
        {
          "data": {
            "image/png": "[encoded data removed]",
            "text/plain": [
              "<Figure size 288x288 with 2 Axes>"
            ]
          },
          "metadata": {},
          "output_type": "display_data"
        }
      ],
      "source": [
        "disp=ConfusionMatrixDisplay(confusion_matrix=cm,display_labels=['negative','positive'])\n",
        "fig, ax = plt.subplots(figsize=(4,4))\n",
        "disp.plot(ax=ax)\n",
        "plt.show()"
      ]
    },
    {
      "cell_type": "markdown",
      "metadata": {
        "id": "K59h9WPKrsDh"
      },
      "source": [
        "## Without Preprocessing"
      ]
    },
    {
      "cell_type": "markdown",
      "metadata": {
        "id": "bUVS0w22v2oM"
      },
      "source": [
        "### **Training**"
      ]
    },
    {
      "cell_type": "code",
      "execution_count": null,
      "metadata": {
        "id": "ahOKnCqG7b69"
      },
      "outputs": [],
      "source": [
        "path = '/content/drive/MyDrive/rnn/newroberta.ckpt'"
      ]
    },
    {
      "cell_type": "code",
      "execution_count": null,
      "metadata": {
        "id": "6X0RqU6CfVOd"
      },
      "outputs": [],
      "source": [
        "train_tok = tokenize(train['review'])\n",
        "valid_tok = tokenize(valid['review'])\n",
        "test_tok = tokenize(test['review'])"
      ]
    },
    {
      "cell_type": "code",
      "execution_count": null,
      "metadata": {
        "id": "OoPq3G3WPLVX"
      },
      "outputs": [],
      "source": [
        "from tensorflow.keras.callbacks import  ModelCheckpoint\n",
        "from livelossplot import PlotLossesKeras\n",
        "\n",
        "tf.autograph.experimental.do_not_convert(\n",
        "    func=None\n",
        ")\n",
        "save_weights = ModelCheckpoint(\n",
        "    filepath= path,\n",
        "    monitor='val_binary_accuracy',\n",
        "    save_best_only=True,\n",
        "    save_weights_only=True,\n",
        ")"
      ]
    },
    {
      "cell_type": "code",
      "execution_count": null,
      "metadata": {
        "id": "3yZ-jfIersDh"
      },
      "outputs": [],
      "source": [
        "epochs = 5\n",
        "lr = 3e-4\n",
        "train_dataset = tf.data.Dataset.from_tensor_slices(train['review'])\n",
        "steps_per_epoch = tf.data.experimental.cardinality(train_dataset).numpy()\n",
        "num_train_steps = steps_per_epoch * epochs\n",
        "num_warmup_steps = int(0.1*num_train_steps)\n",
        "\n",
        "op = optimization.create_optimizer(init_lr = lr,\n",
        "                                              num_train_steps = num_train_steps,\n",
        "                                              num_warmup_steps = num_warmup_steps,\n",
        "                                              optimizer_type='adamw')\n",
        "\n",
        "ROBERTA_model.compile(optimizer=op,\n",
        "                         loss=\"binary_crossentropy\",\n",
        "                          metrics=\"binary_accuracy\")"
      ]
    },
    {
      "cell_type": "code",
      "execution_count": null,
      "metadata": {
        "colab": {
          "base_uri": "https://localhost:8080/",
          "height": 741
        },
        "id": "VcHN6FqXrsDi",
        "outputId": "4069880c-a20e-4aae-bb9d-271f72665f57"
      },
      "outputs": [
        {
          "data": {
            "image/png": "[encoded data removed]",
            "text/plain": [
              "<Figure size 864x576 with 2 Axes>"
            ]
          },
          "metadata": {},
          "output_type": "display_data"
        },
        {
          "name": "stdout",
          "output_type": "stream",
          "text": [
            "binary_accuracy\n",
            "\ttraining         \t (min:    0.495, max:    0.495, cur:    0.495)\n",
            "\tvalidation       \t (min:    0.000, max:    0.000, cur:    0.000)\n",
            "Loss\n",
            "\ttraining         \t (min:    0.756, max:    0.756, cur:    0.756)\n",
            "\tvalidation       \t (min:    0.000, max:    0.000, cur:    0.000)\n",
            "35000/35000 [==============================] - 6065s 173ms/step - loss: 0.7559 - binary_accuracy: 0.4950 - val_loss: 0.0000e+00 - val_binary_accuracy: 0.0000e+00\n",
            "Epoch 2/5\n",
            "30034/35000 [========================>.....] - ETA: 14:14 - loss: 0.7916 - binary_accuracy: 0.5021"
          ]
        }
      ],
      "source": [
        "tf.autograph.experimental.do_not_convert(\n",
        "    func=None\n",
        ")\n",
        "ROBERTA_model.fit(x=train_tok,\n",
        "          y=train['sentiment'],\n",
        "          validation_data = (valid_tok, )  ,\n",
        "          batch_size =1,\n",
        "          epochs=epochs,\n",
        "          callbacks =[PlotLossesKeras(),save_weights])"
      ]
    },
    {
      "cell_type": "markdown",
      "metadata": {
        "id": "ky1lFIFA7gVS"
      },
      "source": [
        "### **Testing**"
      ]
    },
    {
      "cell_type": "code",
      "execution_count": null,
      "metadata": {
        "colab": {
          "base_uri": "https://localhost:8080/"
        },
        "id": "ruvWXmAP7gVX",
        "outputId": "4bf0c79a-80e8-4b4f-f11b-b895ea2e587b"
      },
      "outputs": [
        {
          "data": {
            "text/plain": [
              "<tensorflow.python.training.tracking.util.CheckpointLoadStatus at 0x7f65319c0460>"
            ]
          },
          "execution_count": 36,
          "metadata": {},
          "output_type": "execute_result"
        }
      ],
      "source": [
        "ROBERTA_model.load_weights(path)"
      ]
    },
    {
      "cell_type": "code",
      "execution_count": null,
      "metadata": {
        "id": "6WtWoajDrsDi"
      },
      "outputs": [],
      "source": [
        "ROBERTA_model.evaluate(test_tok,test['sentiment'])"
      ]
    },
    {
      "cell_type": "code",
      "execution_count": null,
      "metadata": {
        "colab": {
          "base_uri": "https://localhost:8080/"
        },
        "id": "DhHUiu5C7gVY",
        "outputId": "63dfc479-8b6e-4069-c13b-8a28e5b09d50"
      },
      "outputs": [
        {
          "name": "stdout",
          "output_type": "stream",
          "text": [
            "313/313 [==============================] - 101s 322ms/step\n"
          ]
        }
      ],
      "source": [
        "prediction = ROBERTA_model.predict(test_tok)"
      ]
    },
    {
      "cell_type": "markdown",
      "metadata": {
        "id": "Ye4HL4wnm3Xr"
      },
      "source": [
        "### Evaluation Metrics"
      ]
    },
    {
      "cell_type": "code",
      "execution_count": null,
      "metadata": {
        "id": "r8jGekTI7gVY"
      },
      "outputs": [],
      "source": [
        "y_preds = prediction.flatten()\n",
        "y_preds = np.where(y_preds > 0.5, 1, 0)"
      ]
    },
    {
      "cell_type": "code",
      "execution_count": null,
      "metadata": {
        "colab": {
          "base_uri": "https://localhost:8080/"
        },
        "id": "spFJPjVk7gVY",
        "outputId": "1921f428-05b4-4e17-8853-773f61950d93"
      },
      "outputs": [
        {
          "name": "stdout",
          "output_type": "stream",
          "text": [
            "F1 Score   -->  0.949\n",
            "Accuracy   -->  0.949\n",
            "Precision  -->  0.952\n",
            "Specificty -->  0.947\n",
            "Recall     -->  0.947\n",
            "Confusion Matrix :\n",
            " [[4722  243]\n",
            " [ 266 4769]]\n"
          ]
        }
      ],
      "source": [
        "yh = test['sentiment']\n",
        "f1 = f1_score(yh, y_preds)\n",
        "cm = confusion_matrix(yh, y_preds, labels=[0,1])\n",
        "accuracy = accuracy_score(yh, y_preds)\n",
        "precision = precision_score(yh, y_preds)\n",
        "recall = recall_score(yh, y_preds)\n",
        "specificity = cm[1,1]/(cm[1,0]+cm[1,1])"
      ]
    },
    {
      "cell_type": "code",
      "execution_count": null,
      "metadata": {
        "colab": {
          "base_uri": "https://localhost:8080/",
          "height": 260
        },
        "id": "ROexHjwg7gVY",
        "outputId": "268c7de5-c4c5-434b-a35e-c8cb51eac368"
      },
      "outputs": [
        {
          "data": {
            "image/png": "[encoded data removed]",
            "text/plain": [
              "<Figure size 288x288 with 2 Axes>"
            ]
          },
          "metadata": {},
          "output_type": "display_data"
        }
      ],
      "source": [
        "print(\"F1 Score   --> \", round(f1,3))\n",
        "print(\"Accuracy   --> \", round(accuracy,3))\n",
        "print(\"Precision  --> \", round(precision,3))\n",
        "print(\"Specificty --> \", round(specificity,3))\n",
        "print(\"Recall     --> \", round(recall,3))\n",
        "print(\"Confusion Matrix :\\n\", cm)"
      ]
    },
    {
      "cell_type": "code",
      "execution_count": null,
      "metadata": {
        "id": "SGnKvgb87YS4"
      },
      "outputs": [],
      "source": [
        "disp=ConfusionMatrixDisplay(confusion_matrix=cm,display_labels=['negative','positive'])\n",
        "fig, ax = plt.subplots(figsize=(4,4))\n",
        "disp.plot(ax=ax)\n",
        "plt.show()"
      ]
    }
  ],
  "metadata": {
    "accelerator": "GPU",
    "colab": {
      "collapsed_sections": [
        "peDCK-FkF9zS",
        "f27YMVKrSodr",
        "WT3RXZiE8rkG",
        "lj110JLjNNLO",
        "pzJqgetjn-nc",
        "K59h9WPKrsDh"
      ],
      "provenance": []
    },
    "gpuClass": "standard",
    "kernelspec": {
      "display_name": "Python 3",
      "name": "python3"
    },
    "language_info": {
      "name": "python"
    },
    "widgets": {
      "application/vnd.jupyter.widget-state+json": {
        "726aa5e685d64e5bab2cd64a226b9608": {
          "model_module": "@jupyter-widgets/controls",
          "model_name": "HBoxModel",
          "model_module_version": "1.5.0",
          "state": {
            "_dom_classes": [],
            "_model_module": "@jupyter-widgets/controls",
            "_model_module_version": "1.5.0",
            "_model_name": "HBoxModel",
            "_view_count": null,
            "_view_module": "@jupyter-widgets/controls",
            "_view_module_version": "1.5.0",
            "_view_name": "HBoxView",
            "box_style": "",
            "children": [
              "IPY_MODEL_fa9914bcba1d49beb312a469b6ba3de9",
              "IPY_MODEL_b765e8117aea4da2959354132c506e35",
              "IPY_MODEL_122a6af08c574ecbb157cac6f1c03bcc"
            ],
            "layout": "IPY_MODEL_628484c14f0c4246b27526e23dd40fc1"
          }
        },
        "fa9914bcba1d49beb312a469b6ba3de9": {
          "model_module": "@jupyter-widgets/controls",
          "model_name": "HTMLModel",
          "model_module_version": "1.5.0",
          "state": {
            "_dom_classes": [],
            "_model_module": "@jupyter-widgets/controls",
            "_model_module_version": "1.5.0",
            "_model_name": "HTMLModel",
            "_view_count": null,
            "_view_module": "@jupyter-widgets/controls",
            "_view_module_version": "1.5.0",
            "_view_name": "HTMLView",
            "description": "",
            "description_tooltip": null,
            "layout": "IPY_MODEL_6c571830d97e45589cd6d8af05b63ea7",
            "placeholder": "​",
            "style": "IPY_MODEL_77299b4354d849418163e8a1705bd104",
            "value": "Downloading: 100%"
          }
        },
        "b765e8117aea4da2959354132c506e35": {
          "model_module": "@jupyter-widgets/controls",
          "model_name": "FloatProgressModel",
          "model_module_version": "1.5.0",
          "state": {
            "_dom_classes": [],
            "_model_module": "@jupyter-widgets/controls",
            "_model_module_version": "1.5.0",
            "_model_name": "FloatProgressModel",
            "_view_count": null,
            "_view_module": "@jupyter-widgets/controls",
            "_view_module_version": "1.5.0",
            "_view_name": "ProgressView",
            "bar_style": "success",
            "description": "",
            "description_tooltip": null,
            "layout": "IPY_MODEL_b9269996a5a5443183292f7b85cb77f3",
            "max": 231508,
            "min": 0,
            "orientation": "horizontal",
            "style": "IPY_MODEL_917fd766eebb46a6a55ef0d0cdf1bc3b",
            "value": 231508
          }
        },
        "122a6af08c574ecbb157cac6f1c03bcc": {
          "model_module": "@jupyter-widgets/controls",
          "model_name": "HTMLModel",
          "model_module_version": "1.5.0",
          "state": {
            "_dom_classes": [],
            "_model_module": "@jupyter-widgets/controls",
            "_model_module_version": "1.5.0",
            "_model_name": "HTMLModel",
            "_view_count": null,
            "_view_module": "@jupyter-widgets/controls",
            "_view_module_version": "1.5.0",
            "_view_name": "HTMLView",
            "description": "",
            "description_tooltip": null,
            "layout": "IPY_MODEL_d949e368bef94e52bb28909fd5c8a8d8",
            "placeholder": "​",
            "style": "IPY_MODEL_fbc40ee0b66c4095bfb47b096af586cf",
            "value": " 232k/232k [00:00&lt;00:00, 541kB/s]"
          }
        },
        "628484c14f0c4246b27526e23dd40fc1": {
          "model_module": "@jupyter-widgets/base",
          "model_name": "LayoutModel",
          "model_module_version": "1.2.0",
          "state": {
            "_model_module": "@jupyter-widgets/base",
            "_model_module_version": "1.2.0",
            "_model_name": "LayoutModel",
            "_view_count": null,
            "_view_module": "@jupyter-widgets/base",
            "_view_module_version": "1.2.0",
            "_view_name": "LayoutView",
            "align_content": null,
            "align_items": null,
            "align_self": null,
            "border": null,
            "bottom": null,
            "display": null,
            "flex": null,
            "flex_flow": null,
            "grid_area": null,
            "grid_auto_columns": null,
            "grid_auto_flow": null,
            "grid_auto_rows": null,
            "grid_column": null,
            "grid_gap": null,
            "grid_row": null,
            "grid_template_areas": null,
            "grid_template_columns": null,
            "grid_template_rows": null,
            "height": null,
            "justify_content": null,
            "justify_items": null,
            "left": null,
            "margin": null,
            "max_height": null,
            "max_width": null,
            "min_height": null,
            "min_width": null,
            "object_fit": null,
            "object_position": null,
            "order": null,
            "overflow": null,
            "overflow_x": null,
            "overflow_y": null,
            "padding": null,
            "right": null,
            "top": null,
            "visibility": null,
            "width": null
          }
        },
        "6c571830d97e45589cd6d8af05b63ea7": {
          "model_module": "@jupyter-widgets/base",
          "model_name": "LayoutModel",
          "model_module_version": "1.2.0",
          "state": {
            "_model_module": "@jupyter-widgets/base",
            "_model_module_version": "1.2.0",
            "_model_name": "LayoutModel",
            "_view_count": null,
            "_view_module": "@jupyter-widgets/base",
            "_view_module_version": "1.2.0",
            "_view_name": "LayoutView",
            "align_content": null,
            "align_items": null,
            "align_self": null,
            "border": null,
            "bottom": null,
            "display": null,
            "flex": null,
            "flex_flow": null,
            "grid_area": null,
            "grid_auto_columns": null,
            "grid_auto_flow": null,
            "grid_auto_rows": null,
            "grid_column": null,
            "grid_gap": null,
            "grid_row": null,
            "grid_template_areas": null,
            "grid_template_columns": null,
            "grid_template_rows": null,
            "height": null,
            "justify_content": null,
            "justify_items": null,
            "left": null,
            "margin": null,
            "max_height": null,
            "max_width": null,
            "min_height": null,
            "min_width": null,
            "object_fit": null,
            "object_position": null,
            "order": null,
            "overflow": null,
            "overflow_x": null,
            "overflow_y": null,
            "padding": null,
            "right": null,
            "top": null,
            "visibility": null,
            "width": null
          }
        },
        "77299b4354d849418163e8a1705bd104": {
          "model_module": "@jupyter-widgets/controls",
          "model_name": "DescriptionStyleModel",
          "model_module_version": "1.5.0",
          "state": {
            "_model_module": "@jupyter-widgets/controls",
            "_model_module_version": "1.5.0",
            "_model_name": "DescriptionStyleModel",
            "_view_count": null,
            "_view_module": "@jupyter-widgets/base",
            "_view_module_version": "1.2.0",
            "_view_name": "StyleView",
            "description_width": ""
          }
        },
        "b9269996a5a5443183292f7b85cb77f3": {
          "model_module": "@jupyter-widgets/base",
          "model_name": "LayoutModel",
          "model_module_version": "1.2.0",
          "state": {
            "_model_module": "@jupyter-widgets/base",
            "_model_module_version": "1.2.0",
            "_model_name": "LayoutModel",
            "_view_count": null,
            "_view_module": "@jupyter-widgets/base",
            "_view_module_version": "1.2.0",
            "_view_name": "LayoutView",
            "align_content": null,
            "align_items": null,
            "align_self": null,
            "border": null,
            "bottom": null,
            "display": null,
            "flex": null,
            "flex_flow": null,
            "grid_area": null,
            "grid_auto_columns": null,
            "grid_auto_flow": null,
            "grid_auto_rows": null,
            "grid_column": null,
            "grid_gap": null,
            "grid_row": null,
            "grid_template_areas": null,
            "grid_template_columns": null,
            "grid_template_rows": null,
            "height": null,
            "justify_content": null,
            "justify_items": null,
            "left": null,
            "margin": null,
            "max_height": null,
            "max_width": null,
            "min_height": null,
            "min_width": null,
            "object_fit": null,
            "object_position": null,
            "order": null,
            "overflow": null,
            "overflow_x": null,
            "overflow_y": null,
            "padding": null,
            "right": null,
            "top": null,
            "visibility": null,
            "width": null
          }
        },
        "917fd766eebb46a6a55ef0d0cdf1bc3b": {
          "model_module": "@jupyter-widgets/controls",
          "model_name": "ProgressStyleModel",
          "model_module_version": "1.5.0",
          "state": {
            "_model_module": "@jupyter-widgets/controls",
            "_model_module_version": "1.5.0",
            "_model_name": "ProgressStyleModel",
            "_view_count": null,
            "_view_module": "@jupyter-widgets/base",
            "_view_module_version": "1.2.0",
            "_view_name": "StyleView",
            "bar_color": null,
            "description_width": ""
          }
        },
        "d949e368bef94e52bb28909fd5c8a8d8": {
          "model_module": "@jupyter-widgets/base",
          "model_name": "LayoutModel",
          "model_module_version": "1.2.0",
          "state": {
            "_model_module": "@jupyter-widgets/base",
            "_model_module_version": "1.2.0",
            "_model_name": "LayoutModel",
            "_view_count": null,
            "_view_module": "@jupyter-widgets/base",
            "_view_module_version": "1.2.0",
            "_view_name": "LayoutView",
            "align_content": null,
            "align_items": null,
            "align_self": null,
            "border": null,
            "bottom": null,
            "display": null,
            "flex": null,
            "flex_flow": null,
            "grid_area": null,
            "grid_auto_columns": null,
            "grid_auto_flow": null,
            "grid_auto_rows": null,
            "grid_column": null,
            "grid_gap": null,
            "grid_row": null,
            "grid_template_areas": null,
            "grid_template_columns": null,
            "grid_template_rows": null,
            "height": null,
            "justify_content": null,
            "justify_items": null,
            "left": null,
            "margin": null,
            "max_height": null,
            "max_width": null,
            "min_height": null,
            "min_width": null,
            "object_fit": null,
            "object_position": null,
            "order": null,
            "overflow": null,
            "overflow_x": null,
            "overflow_y": null,
            "padding": null,
            "right": null,
            "top": null,
            "visibility": null,
            "width": null
          }
        },
        "fbc40ee0b66c4095bfb47b096af586cf": {
          "model_module": "@jupyter-widgets/controls",
          "model_name": "DescriptionStyleModel",
          "model_module_version": "1.5.0",
          "state": {
            "_model_module": "@jupyter-widgets/controls",
            "_model_module_version": "1.5.0",
            "_model_name": "DescriptionStyleModel",
            "_view_count": null,
            "_view_module": "@jupyter-widgets/base",
            "_view_module_version": "1.2.0",
            "_view_name": "StyleView",
            "description_width": ""
          }
        },
        "716271af03ac4891935adf08fc274008": {
          "model_module": "@jupyter-widgets/controls",
          "model_name": "HBoxModel",
          "model_module_version": "1.5.0",
          "state": {
            "_dom_classes": [],
            "_model_module": "@jupyter-widgets/controls",
            "_model_module_version": "1.5.0",
            "_model_name": "HBoxModel",
            "_view_count": null,
            "_view_module": "@jupyter-widgets/controls",
            "_view_module_version": "1.5.0",
            "_view_name": "HBoxView",
            "box_style": "",
            "children": [
              "IPY_MODEL_735078277c1c4f4e931867da8bfc651e",
              "IPY_MODEL_62e6ecb9b9b445328204a37077e727e5",
              "IPY_MODEL_ce1e6197c5c94b4088e981ecda04f29f"
            ],
            "layout": "IPY_MODEL_f6997f40771447928864bef782236d13"
          }
        },
        "735078277c1c4f4e931867da8bfc651e": {
          "model_module": "@jupyter-widgets/controls",
          "model_name": "HTMLModel",
          "model_module_version": "1.5.0",
          "state": {
            "_dom_classes": [],
            "_model_module": "@jupyter-widgets/controls",
            "_model_module_version": "1.5.0",
            "_model_name": "HTMLModel",
            "_view_count": null,
            "_view_module": "@jupyter-widgets/controls",
            "_view_module_version": "1.5.0",
            "_view_name": "HTMLView",
            "description": "",
            "description_tooltip": null,
            "layout": "IPY_MODEL_fe3f0644b1494173b282736e8a471e39",
            "placeholder": "​",
            "style": "IPY_MODEL_bf6a3d0d492846d1a14d8ed44c56be4b",
            "value": "Downloading: 100%"
          }
        },
        "62e6ecb9b9b445328204a37077e727e5": {
          "model_module": "@jupyter-widgets/controls",
          "model_name": "FloatProgressModel",
          "model_module_version": "1.5.0",
          "state": {
            "_dom_classes": [],
            "_model_module": "@jupyter-widgets/controls",
            "_model_module_version": "1.5.0",
            "_model_name": "FloatProgressModel",
            "_view_count": null,
            "_view_module": "@jupyter-widgets/controls",
            "_view_module_version": "1.5.0",
            "_view_name": "ProgressView",
            "bar_style": "success",
            "description": "",
            "description_tooltip": null,
            "layout": "IPY_MODEL_f02006f4d01d487aa4e33423f7921a86",
            "max": 28,
            "min": 0,
            "orientation": "horizontal",
            "style": "IPY_MODEL_0357aabb9b6547cfa74af216df90974d",
            "value": 28
          }
        },
        "ce1e6197c5c94b4088e981ecda04f29f": {
          "model_module": "@jupyter-widgets/controls",
          "model_name": "HTMLModel",
          "model_module_version": "1.5.0",
          "state": {
            "_dom_classes": [],
            "_model_module": "@jupyter-widgets/controls",
            "_model_module_version": "1.5.0",
            "_model_name": "HTMLModel",
            "_view_count": null,
            "_view_module": "@jupyter-widgets/controls",
            "_view_module_version": "1.5.0",
            "_view_name": "HTMLView",
            "description": "",
            "description_tooltip": null,
            "layout": "IPY_MODEL_caa0783e5fb14e54b20f81eb941a9f0c",
            "placeholder": "​",
            "style": "IPY_MODEL_ee539102d7a54916900fc406fe84bde2",
            "value": " 28.0/28.0 [00:00&lt;00:00, 1.46kB/s]"
          }
        },
        "f6997f40771447928864bef782236d13": {
          "model_module": "@jupyter-widgets/base",
          "model_name": "LayoutModel",
          "model_module_version": "1.2.0",
          "state": {
            "_model_module": "@jupyter-widgets/base",
            "_model_module_version": "1.2.0",
            "_model_name": "LayoutModel",
            "_view_count": null,
            "_view_module": "@jupyter-widgets/base",
            "_view_module_version": "1.2.0",
            "_view_name": "LayoutView",
            "align_content": null,
            "align_items": null,
            "align_self": null,
            "border": null,
            "bottom": null,
            "display": null,
            "flex": null,
            "flex_flow": null,
            "grid_area": null,
            "grid_auto_columns": null,
            "grid_auto_flow": null,
            "grid_auto_rows": null,
            "grid_column": null,
            "grid_gap": null,
            "grid_row": null,
            "grid_template_areas": null,
            "grid_template_columns": null,
            "grid_template_rows": null,
            "height": null,
            "justify_content": null,
            "justify_items": null,
            "left": null,
            "margin": null,
            "max_height": null,
            "max_width": null,
            "min_height": null,
            "min_width": null,
            "object_fit": null,
            "object_position": null,
            "order": null,
            "overflow": null,
            "overflow_x": null,
            "overflow_y": null,
            "padding": null,
            "right": null,
            "top": null,
            "visibility": null,
            "width": null
          }
        },
        "fe3f0644b1494173b282736e8a471e39": {
          "model_module": "@jupyter-widgets/base",
          "model_name": "LayoutModel",
          "model_module_version": "1.2.0",
          "state": {
            "_model_module": "@jupyter-widgets/base",
            "_model_module_version": "1.2.0",
            "_model_name": "LayoutModel",
            "_view_count": null,
            "_view_module": "@jupyter-widgets/base",
            "_view_module_version": "1.2.0",
            "_view_name": "LayoutView",
            "align_content": null,
            "align_items": null,
            "align_self": null,
            "border": null,
            "bottom": null,
            "display": null,
            "flex": null,
            "flex_flow": null,
            "grid_area": null,
            "grid_auto_columns": null,
            "grid_auto_flow": null,
            "grid_auto_rows": null,
            "grid_column": null,
            "grid_gap": null,
            "grid_row": null,
            "grid_template_areas": null,
            "grid_template_columns": null,
            "grid_template_rows": null,
            "height": null,
            "justify_content": null,
            "justify_items": null,
            "left": null,
            "margin": null,
            "max_height": null,
            "max_width": null,
            "min_height": null,
            "min_width": null,
            "object_fit": null,
            "object_position": null,
            "order": null,
            "overflow": null,
            "overflow_x": null,
            "overflow_y": null,
            "padding": null,
            "right": null,
            "top": null,
            "visibility": null,
            "width": null
          }
        },
        "bf6a3d0d492846d1a14d8ed44c56be4b": {
          "model_module": "@jupyter-widgets/controls",
          "model_name": "DescriptionStyleModel",
          "model_module_version": "1.5.0",
          "state": {
            "_model_module": "@jupyter-widgets/controls",
            "_model_module_version": "1.5.0",
            "_model_name": "DescriptionStyleModel",
            "_view_count": null,
            "_view_module": "@jupyter-widgets/base",
            "_view_module_version": "1.2.0",
            "_view_name": "StyleView",
            "description_width": ""
          }
        },
        "f02006f4d01d487aa4e33423f7921a86": {
          "model_module": "@jupyter-widgets/base",
          "model_name": "LayoutModel",
          "model_module_version": "1.2.0",
          "state": {
            "_model_module": "@jupyter-widgets/base",
            "_model_module_version": "1.2.0",
            "_model_name": "LayoutModel",
            "_view_count": null,
            "_view_module": "@jupyter-widgets/base",
            "_view_module_version": "1.2.0",
            "_view_name": "LayoutView",
            "align_content": null,
            "align_items": null,
            "align_self": null,
            "border": null,
            "bottom": null,
            "display": null,
            "flex": null,
            "flex_flow": null,
            "grid_area": null,
            "grid_auto_columns": null,
            "grid_auto_flow": null,
            "grid_auto_rows": null,
            "grid_column": null,
            "grid_gap": null,
            "grid_row": null,
            "grid_template_areas": null,
            "grid_template_columns": null,
            "grid_template_rows": null,
            "height": null,
            "justify_content": null,
            "justify_items": null,
            "left": null,
            "margin": null,
            "max_height": null,
            "max_width": null,
            "min_height": null,
            "min_width": null,
            "object_fit": null,
            "object_position": null,
            "order": null,
            "overflow": null,
            "overflow_x": null,
            "overflow_y": null,
            "padding": null,
            "right": null,
            "top": null,
            "visibility": null,
            "width": null
          }
        },
        "0357aabb9b6547cfa74af216df90974d": {
          "model_module": "@jupyter-widgets/controls",
          "model_name": "ProgressStyleModel",
          "model_module_version": "1.5.0",
          "state": {
            "_model_module": "@jupyter-widgets/controls",
            "_model_module_version": "1.5.0",
            "_model_name": "ProgressStyleModel",
            "_view_count": null,
            "_view_module": "@jupyter-widgets/base",
            "_view_module_version": "1.2.0",
            "_view_name": "StyleView",
            "bar_color": null,
            "description_width": ""
          }
        },
        "caa0783e5fb14e54b20f81eb941a9f0c": {
          "model_module": "@jupyter-widgets/base",
          "model_name": "LayoutModel",
          "model_module_version": "1.2.0",
          "state": {
            "_model_module": "@jupyter-widgets/base",
            "_model_module_version": "1.2.0",
            "_model_name": "LayoutModel",
            "_view_count": null,
            "_view_module": "@jupyter-widgets/base",
            "_view_module_version": "1.2.0",
            "_view_name": "LayoutView",
            "align_content": null,
            "align_items": null,
            "align_self": null,
            "border": null,
            "bottom": null,
            "display": null,
            "flex": null,
            "flex_flow": null,
            "grid_area": null,
            "grid_auto_columns": null,
            "grid_auto_flow": null,
            "grid_auto_rows": null,
            "grid_column": null,
            "grid_gap": null,
            "grid_row": null,
            "grid_template_areas": null,
            "grid_template_columns": null,
            "grid_template_rows": null,
            "height": null,
            "justify_content": null,
            "justify_items": null,
            "left": null,
            "margin": null,
            "max_height": null,
            "max_width": null,
            "min_height": null,
            "min_width": null,
            "object_fit": null,
            "object_position": null,
            "order": null,
            "overflow": null,
            "overflow_x": null,
            "overflow_y": null,
            "padding": null,
            "right": null,
            "top": null,
            "visibility": null,
            "width": null
          }
        },
        "ee539102d7a54916900fc406fe84bde2": {
          "model_module": "@jupyter-widgets/controls",
          "model_name": "DescriptionStyleModel",
          "model_module_version": "1.5.0",
          "state": {
            "_model_module": "@jupyter-widgets/controls",
            "_model_module_version": "1.5.0",
            "_model_name": "DescriptionStyleModel",
            "_view_count": null,
            "_view_module": "@jupyter-widgets/base",
            "_view_module_version": "1.2.0",
            "_view_name": "StyleView",
            "description_width": ""
          }
        },
        "e3dff95da2234aa98ef8ecab8708363b": {
          "model_module": "@jupyter-widgets/controls",
          "model_name": "HBoxModel",
          "model_module_version": "1.5.0",
          "state": {
            "_dom_classes": [],
            "_model_module": "@jupyter-widgets/controls",
            "_model_module_version": "1.5.0",
            "_model_name": "HBoxModel",
            "_view_count": null,
            "_view_module": "@jupyter-widgets/controls",
            "_view_module_version": "1.5.0",
            "_view_name": "HBoxView",
            "box_style": "",
            "children": [
              "IPY_MODEL_f3d1aa3dddb74d3092b33f3d03a18b66",
              "IPY_MODEL_c02b93a9fb1e4a4cbad09fea7fc4a5ac",
              "IPY_MODEL_b7c1ae95478a40e79a7d9dd8717101e1"
            ],
            "layout": "IPY_MODEL_58be919ea7774fbfbde94d5297d3b460"
          }
        },
        "f3d1aa3dddb74d3092b33f3d03a18b66": {
          "model_module": "@jupyter-widgets/controls",
          "model_name": "HTMLModel",
          "model_module_version": "1.5.0",
          "state": {
            "_dom_classes": [],
            "_model_module": "@jupyter-widgets/controls",
            "_model_module_version": "1.5.0",
            "_model_name": "HTMLModel",
            "_view_count": null,
            "_view_module": "@jupyter-widgets/controls",
            "_view_module_version": "1.5.0",
            "_view_name": "HTMLView",
            "description": "",
            "description_tooltip": null,
            "layout": "IPY_MODEL_d7f1c6a83e104c53a0e0806352972149",
            "placeholder": "​",
            "style": "IPY_MODEL_572d82e07a0545d783a8733423f53f53",
            "value": "Downloading: 100%"
          }
        },
        "c02b93a9fb1e4a4cbad09fea7fc4a5ac": {
          "model_module": "@jupyter-widgets/controls",
          "model_name": "FloatProgressModel",
          "model_module_version": "1.5.0",
          "state": {
            "_dom_classes": [],
            "_model_module": "@jupyter-widgets/controls",
            "_model_module_version": "1.5.0",
            "_model_name": "FloatProgressModel",
            "_view_count": null,
            "_view_module": "@jupyter-widgets/controls",
            "_view_module_version": "1.5.0",
            "_view_name": "ProgressView",
            "bar_style": "success",
            "description": "",
            "description_tooltip": null,
            "layout": "IPY_MODEL_d4ac77c777744229bc5fe4c386463bb3",
            "max": 570,
            "min": 0,
            "orientation": "horizontal",
            "style": "IPY_MODEL_38b04d673530487b97f4529f6e3b3a82",
            "value": 570
          }
        },
        "b7c1ae95478a40e79a7d9dd8717101e1": {
          "model_module": "@jupyter-widgets/controls",
          "model_name": "HTMLModel",
          "model_module_version": "1.5.0",
          "state": {
            "_dom_classes": [],
            "_model_module": "@jupyter-widgets/controls",
            "_model_module_version": "1.5.0",
            "_model_name": "HTMLModel",
            "_view_count": null,
            "_view_module": "@jupyter-widgets/controls",
            "_view_module_version": "1.5.0",
            "_view_name": "HTMLView",
            "description": "",
            "description_tooltip": null,
            "layout": "IPY_MODEL_99f9a638fd5e41c0b87a7fc4fad23ddf",
            "placeholder": "​",
            "style": "IPY_MODEL_c5824f2e65514828b5906339991153f1",
            "value": " 570/570 [00:00&lt;00:00, 14.2kB/s]"
          }
        },
        "58be919ea7774fbfbde94d5297d3b460": {
          "model_module": "@jupyter-widgets/base",
          "model_name": "LayoutModel",
          "model_module_version": "1.2.0",
          "state": {
            "_model_module": "@jupyter-widgets/base",
            "_model_module_version": "1.2.0",
            "_model_name": "LayoutModel",
            "_view_count": null,
            "_view_module": "@jupyter-widgets/base",
            "_view_module_version": "1.2.0",
            "_view_name": "LayoutView",
            "align_content": null,
            "align_items": null,
            "align_self": null,
            "border": null,
            "bottom": null,
            "display": null,
            "flex": null,
            "flex_flow": null,
            "grid_area": null,
            "grid_auto_columns": null,
            "grid_auto_flow": null,
            "grid_auto_rows": null,
            "grid_column": null,
            "grid_gap": null,
            "grid_row": null,
            "grid_template_areas": null,
            "grid_template_columns": null,
            "grid_template_rows": null,
            "height": null,
            "justify_content": null,
            "justify_items": null,
            "left": null,
            "margin": null,
            "max_height": null,
            "max_width": null,
            "min_height": null,
            "min_width": null,
            "object_fit": null,
            "object_position": null,
            "order": null,
            "overflow": null,
            "overflow_x": null,
            "overflow_y": null,
            "padding": null,
            "right": null,
            "top": null,
            "visibility": null,
            "width": null
          }
        },
        "d7f1c6a83e104c53a0e0806352972149": {
          "model_module": "@jupyter-widgets/base",
          "model_name": "LayoutModel",
          "model_module_version": "1.2.0",
          "state": {
            "_model_module": "@jupyter-widgets/base",
            "_model_module_version": "1.2.0",
            "_model_name": "LayoutModel",
            "_view_count": null,
            "_view_module": "@jupyter-widgets/base",
            "_view_module_version": "1.2.0",
            "_view_name": "LayoutView",
            "align_content": null,
            "align_items": null,
            "align_self": null,
            "border": null,
            "bottom": null,
            "display": null,
            "flex": null,
            "flex_flow": null,
            "grid_area": null,
            "grid_auto_columns": null,
            "grid_auto_flow": null,
            "grid_auto_rows": null,
            "grid_column": null,
            "grid_gap": null,
            "grid_row": null,
            "grid_template_areas": null,
            "grid_template_columns": null,
            "grid_template_rows": null,
            "height": null,
            "justify_content": null,
            "justify_items": null,
            "left": null,
            "margin": null,
            "max_height": null,
            "max_width": null,
            "min_height": null,
            "min_width": null,
            "object_fit": null,
            "object_position": null,
            "order": null,
            "overflow": null,
            "overflow_x": null,
            "overflow_y": null,
            "padding": null,
            "right": null,
            "top": null,
            "visibility": null,
            "width": null
          }
        },
        "572d82e07a0545d783a8733423f53f53": {
          "model_module": "@jupyter-widgets/controls",
          "model_name": "DescriptionStyleModel",
          "model_module_version": "1.5.0",
          "state": {
            "_model_module": "@jupyter-widgets/controls",
            "_model_module_version": "1.5.0",
            "_model_name": "DescriptionStyleModel",
            "_view_count": null,
            "_view_module": "@jupyter-widgets/base",
            "_view_module_version": "1.2.0",
            "_view_name": "StyleView",
            "description_width": ""
          }
        },
        "d4ac77c777744229bc5fe4c386463bb3": {
          "model_module": "@jupyter-widgets/base",
          "model_name": "LayoutModel",
          "model_module_version": "1.2.0",
          "state": {
            "_model_module": "@jupyter-widgets/base",
            "_model_module_version": "1.2.0",
            "_model_name": "LayoutModel",
            "_view_count": null,
            "_view_module": "@jupyter-widgets/base",
            "_view_module_version": "1.2.0",
            "_view_name": "LayoutView",
            "align_content": null,
            "align_items": null,
            "align_self": null,
            "border": null,
            "bottom": null,
            "display": null,
            "flex": null,
            "flex_flow": null,
            "grid_area": null,
            "grid_auto_columns": null,
            "grid_auto_flow": null,
            "grid_auto_rows": null,
            "grid_column": null,
            "grid_gap": null,
            "grid_row": null,
            "grid_template_areas": null,
            "grid_template_columns": null,
            "grid_template_rows": null,
            "height": null,
            "justify_content": null,
            "justify_items": null,
            "left": null,
            "margin": null,
            "max_height": null,
            "max_width": null,
            "min_height": null,
            "min_width": null,
            "object_fit": null,
            "object_position": null,
            "order": null,
            "overflow": null,
            "overflow_x": null,
            "overflow_y": null,
            "padding": null,
            "right": null,
            "top": null,
            "visibility": null,
            "width": null
          }
        },
        "38b04d673530487b97f4529f6e3b3a82": {
          "model_module": "@jupyter-widgets/controls",
          "model_name": "ProgressStyleModel",
          "model_module_version": "1.5.0",
          "state": {
            "_model_module": "@jupyter-widgets/controls",
            "_model_module_version": "1.5.0",
            "_model_name": "ProgressStyleModel",
            "_view_count": null,
            "_view_module": "@jupyter-widgets/base",
            "_view_module_version": "1.2.0",
            "_view_name": "StyleView",
            "bar_color": null,
            "description_width": ""
          }
        },
        "99f9a638fd5e41c0b87a7fc4fad23ddf": {
          "model_module": "@jupyter-widgets/base",
          "model_name": "LayoutModel",
          "model_module_version": "1.2.0",
          "state": {
            "_model_module": "@jupyter-widgets/base",
            "_model_module_version": "1.2.0",
            "_model_name": "LayoutModel",
            "_view_count": null,
            "_view_module": "@jupyter-widgets/base",
            "_view_module_version": "1.2.0",
            "_view_name": "LayoutView",
            "align_content": null,
            "align_items": null,
            "align_self": null,
            "border": null,
            "bottom": null,
            "display": null,
            "flex": null,
            "flex_flow": null,
            "grid_area": null,
            "grid_auto_columns": null,
            "grid_auto_flow": null,
            "grid_auto_rows": null,
            "grid_column": null,
            "grid_gap": null,
            "grid_row": null,
            "grid_template_areas": null,
            "grid_template_columns": null,
            "grid_template_rows": null,
            "height": null,
            "justify_content": null,
            "justify_items": null,
            "left": null,
            "margin": null,
            "max_height": null,
            "max_width": null,
            "min_height": null,
            "min_width": null,
            "object_fit": null,
            "object_position": null,
            "order": null,
            "overflow": null,
            "overflow_x": null,
            "overflow_y": null,
            "padding": null,
            "right": null,
            "top": null,
            "visibility": null,
            "width": null
          }
        },
        "c5824f2e65514828b5906339991153f1": {
          "model_module": "@jupyter-widgets/controls",
          "model_name": "DescriptionStyleModel",
          "model_module_version": "1.5.0",
          "state": {
            "_model_module": "@jupyter-widgets/controls",
            "_model_module_version": "1.5.0",
            "_model_name": "DescriptionStyleModel",
            "_view_count": null,
            "_view_module": "@jupyter-widgets/base",
            "_view_module_version": "1.2.0",
            "_view_name": "StyleView",
            "description_width": ""
          }
        },
        "de8439125e934fd3bf634975cc0a0f80": {
          "model_module": "@jupyter-widgets/controls",
          "model_name": "HBoxModel",
          "model_module_version": "1.5.0",
          "state": {
            "_dom_classes": [],
            "_model_module": "@jupyter-widgets/controls",
            "_model_module_version": "1.5.0",
            "_model_name": "HBoxModel",
            "_view_count": null,
            "_view_module": "@jupyter-widgets/controls",
            "_view_module_version": "1.5.0",
            "_view_name": "HBoxView",
            "box_style": "",
            "children": [
              "IPY_MODEL_db660762d7224d68aff6cb8a16274522",
              "IPY_MODEL_a15b6d12b1b24082b3dd6c570ddcefe8",
              "IPY_MODEL_6183558e14194c6d89d245af54ad7bb8"
            ],
            "layout": "IPY_MODEL_b1cb16dd3f834dba8b1f95ca98b03198"
          }
        },
        "db660762d7224d68aff6cb8a16274522": {
          "model_module": "@jupyter-widgets/controls",
          "model_name": "HTMLModel",
          "model_module_version": "1.5.0",
          "state": {
            "_dom_classes": [],
            "_model_module": "@jupyter-widgets/controls",
            "_model_module_version": "1.5.0",
            "_model_name": "HTMLModel",
            "_view_count": null,
            "_view_module": "@jupyter-widgets/controls",
            "_view_module_version": "1.5.0",
            "_view_name": "HTMLView",
            "description": "",
            "description_tooltip": null,
            "layout": "IPY_MODEL_fdd21cfb168b40a285ff056d41c63f01",
            "placeholder": "​",
            "style": "IPY_MODEL_424ed7a823074d7aaec1f1f6eca57443",
            "value": "Downloading: 100%"
          }
        },
        "a15b6d12b1b24082b3dd6c570ddcefe8": {
          "model_module": "@jupyter-widgets/controls",
          "model_name": "FloatProgressModel",
          "model_module_version": "1.5.0",
          "state": {
            "_dom_classes": [],
            "_model_module": "@jupyter-widgets/controls",
            "_model_module_version": "1.5.0",
            "_model_name": "FloatProgressModel",
            "_view_count": null,
            "_view_module": "@jupyter-widgets/controls",
            "_view_module_version": "1.5.0",
            "_view_name": "ProgressView",
            "bar_style": "success",
            "description": "",
            "description_tooltip": null,
            "layout": "IPY_MODEL_b0657b7e83754afc87adf6279c69e07d",
            "max": 536063208,
            "min": 0,
            "orientation": "horizontal",
            "style": "IPY_MODEL_a96c033bbc3046cbaea6723b5c300a36",
            "value": 536063208
          }
        },
        "6183558e14194c6d89d245af54ad7bb8": {
          "model_module": "@jupyter-widgets/controls",
          "model_name": "HTMLModel",
          "model_module_version": "1.5.0",
          "state": {
            "_dom_classes": [],
            "_model_module": "@jupyter-widgets/controls",
            "_model_module_version": "1.5.0",
            "_model_name": "HTMLModel",
            "_view_count": null,
            "_view_module": "@jupyter-widgets/controls",
            "_view_module_version": "1.5.0",
            "_view_name": "HTMLView",
            "description": "",
            "description_tooltip": null,
            "layout": "IPY_MODEL_36e82ab0121a40309958c2600cd96a0f",
            "placeholder": "​",
            "style": "IPY_MODEL_1bae6e0475e7409caa5fc155d407e116",
            "value": " 536M/536M [00:17&lt;00:00, 31.4MB/s]"
          }
        },
        "b1cb16dd3f834dba8b1f95ca98b03198": {
          "model_module": "@jupyter-widgets/base",
          "model_name": "LayoutModel",
          "model_module_version": "1.2.0",
          "state": {
            "_model_module": "@jupyter-widgets/base",
            "_model_module_version": "1.2.0",
            "_model_name": "LayoutModel",
            "_view_count": null,
            "_view_module": "@jupyter-widgets/base",
            "_view_module_version": "1.2.0",
            "_view_name": "LayoutView",
            "align_content": null,
            "align_items": null,
            "align_self": null,
            "border": null,
            "bottom": null,
            "display": null,
            "flex": null,
            "flex_flow": null,
            "grid_area": null,
            "grid_auto_columns": null,
            "grid_auto_flow": null,
            "grid_auto_rows": null,
            "grid_column": null,
            "grid_gap": null,
            "grid_row": null,
            "grid_template_areas": null,
            "grid_template_columns": null,
            "grid_template_rows": null,
            "height": null,
            "justify_content": null,
            "justify_items": null,
            "left": null,
            "margin": null,
            "max_height": null,
            "max_width": null,
            "min_height": null,
            "min_width": null,
            "object_fit": null,
            "object_position": null,
            "order": null,
            "overflow": null,
            "overflow_x": null,
            "overflow_y": null,
            "padding": null,
            "right": null,
            "top": null,
            "visibility": null,
            "width": null
          }
        },
        "fdd21cfb168b40a285ff056d41c63f01": {
          "model_module": "@jupyter-widgets/base",
          "model_name": "LayoutModel",
          "model_module_version": "1.2.0",
          "state": {
            "_model_module": "@jupyter-widgets/base",
            "_model_module_version": "1.2.0",
            "_model_name": "LayoutModel",
            "_view_count": null,
            "_view_module": "@jupyter-widgets/base",
            "_view_module_version": "1.2.0",
            "_view_name": "LayoutView",
            "align_content": null,
            "align_items": null,
            "align_self": null,
            "border": null,
            "bottom": null,
            "display": null,
            "flex": null,
            "flex_flow": null,
            "grid_area": null,
            "grid_auto_columns": null,
            "grid_auto_flow": null,
            "grid_auto_rows": null,
            "grid_column": null,
            "grid_gap": null,
            "grid_row": null,
            "grid_template_areas": null,
            "grid_template_columns": null,
            "grid_template_rows": null,
            "height": null,
            "justify_content": null,
            "justify_items": null,
            "left": null,
            "margin": null,
            "max_height": null,
            "max_width": null,
            "min_height": null,
            "min_width": null,
            "object_fit": null,
            "object_position": null,
            "order": null,
            "overflow": null,
            "overflow_x": null,
            "overflow_y": null,
            "padding": null,
            "right": null,
            "top": null,
            "visibility": null,
            "width": null
          }
        },
        "424ed7a823074d7aaec1f1f6eca57443": {
          "model_module": "@jupyter-widgets/controls",
          "model_name": "DescriptionStyleModel",
          "model_module_version": "1.5.0",
          "state": {
            "_model_module": "@jupyter-widgets/controls",
            "_model_module_version": "1.5.0",
            "_model_name": "DescriptionStyleModel",
            "_view_count": null,
            "_view_module": "@jupyter-widgets/base",
            "_view_module_version": "1.2.0",
            "_view_name": "StyleView",
            "description_width": ""
          }
        },
        "b0657b7e83754afc87adf6279c69e07d": {
          "model_module": "@jupyter-widgets/base",
          "model_name": "LayoutModel",
          "model_module_version": "1.2.0",
          "state": {
            "_model_module": "@jupyter-widgets/base",
            "_model_module_version": "1.2.0",
            "_model_name": "LayoutModel",
            "_view_count": null,
            "_view_module": "@jupyter-widgets/base",
            "_view_module_version": "1.2.0",
            "_view_name": "LayoutView",
            "align_content": null,
            "align_items": null,
            "align_self": null,
            "border": null,
            "bottom": null,
            "display": null,
            "flex": null,
            "flex_flow": null,
            "grid_area": null,
            "grid_auto_columns": null,
            "grid_auto_flow": null,
            "grid_auto_rows": null,
            "grid_column": null,
            "grid_gap": null,
            "grid_row": null,
            "grid_template_areas": null,
            "grid_template_columns": null,
            "grid_template_rows": null,
            "height": null,
            "justify_content": null,
            "justify_items": null,
            "left": null,
            "margin": null,
            "max_height": null,
            "max_width": null,
            "min_height": null,
            "min_width": null,
            "object_fit": null,
            "object_position": null,
            "order": null,
            "overflow": null,
            "overflow_x": null,
            "overflow_y": null,
            "padding": null,
            "right": null,
            "top": null,
            "visibility": null,
            "width": null
          }
        },
        "a96c033bbc3046cbaea6723b5c300a36": {
          "model_module": "@jupyter-widgets/controls",
          "model_name": "ProgressStyleModel",
          "model_module_version": "1.5.0",
          "state": {
            "_model_module": "@jupyter-widgets/controls",
            "_model_module_version": "1.5.0",
            "_model_name": "ProgressStyleModel",
            "_view_count": null,
            "_view_module": "@jupyter-widgets/base",
            "_view_module_version": "1.2.0",
            "_view_name": "StyleView",
            "bar_color": null,
            "description_width": ""
          }
        },
        "36e82ab0121a40309958c2600cd96a0f": {
          "model_module": "@jupyter-widgets/base",
          "model_name": "LayoutModel",
          "model_module_version": "1.2.0",
          "state": {
            "_model_module": "@jupyter-widgets/base",
            "_model_module_version": "1.2.0",
            "_model_name": "LayoutModel",
            "_view_count": null,
            "_view_module": "@jupyter-widgets/base",
            "_view_module_version": "1.2.0",
            "_view_name": "LayoutView",
            "align_content": null,
            "align_items": null,
            "align_self": null,
            "border": null,
            "bottom": null,
            "display": null,
            "flex": null,
            "flex_flow": null,
            "grid_area": null,
            "grid_auto_columns": null,
            "grid_auto_flow": null,
            "grid_auto_rows": null,
            "grid_column": null,
            "grid_gap": null,
            "grid_row": null,
            "grid_template_areas": null,
            "grid_template_columns": null,
            "grid_template_rows": null,
            "height": null,
            "justify_content": null,
            "justify_items": null,
            "left": null,
            "margin": null,
            "max_height": null,
            "max_width": null,
            "min_height": null,
            "min_width": null,
            "object_fit": null,
            "object_position": null,
            "order": null,
            "overflow": null,
            "overflow_x": null,
            "overflow_y": null,
            "padding": null,
            "right": null,
            "top": null,
            "visibility": null,
            "width": null
          }
        },
        "1bae6e0475e7409caa5fc155d407e116": {
          "model_module": "@jupyter-widgets/controls",
          "model_name": "DescriptionStyleModel",
          "model_module_version": "1.5.0",
          "state": {
            "_model_module": "@jupyter-widgets/controls",
            "_model_module_version": "1.5.0",
            "_model_name": "DescriptionStyleModel",
            "_view_count": null,
            "_view_module": "@jupyter-widgets/base",
            "_view_module_version": "1.2.0",
            "_view_name": "StyleView",
            "description_width": ""
          }
        }
      }
    }
  },
  "nbformat": 4,
  "nbformat_minor": 0
}